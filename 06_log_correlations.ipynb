{
 "cells": [
  {
   "cell_type": "markdown",
   "metadata": {},
   "source": [
    "# Event log correlations "
   ]
  },
  {
   "cell_type": "code",
   "execution_count": null,
   "metadata": {},
   "outputs": [],
   "source": [
    "### IMPORT ###\n",
    "from pathlib import Path\n",
    "import pandas as pd\n",
    "from scipy.stats import pearsonr, shapiro, kstest, norm, probplot, spearmanr\n",
    "import matplotlib.pyplot as plt\n",
    "import seaborn as sns\n",
    "\n",
    "\n",
    "### LOCAL IMPORT ###\n",
    "from config import config_reader"
   ]
  },
  {
   "cell_type": "code",
   "execution_count": null,
   "metadata": {},
   "outputs": [],
   "source": [
    "### GLOBALS ###\n",
    "yaml_config = config_reader.config_read_yaml(\"config.yml\", \"config\")\n",
    "# print(yaml_config) # debug\n",
    "log_dir = str(yaml_config[\"LOG_DIR\"])\n",
    "csv_sep = \",\"\n",
    "# INPUT\n",
    "log_file_name = \"edu_event_log_PAGE_raw_filtered_terziles-DEF-332-cases.csv\" # Set the file name"
   ]
  },
  {
   "cell_type": "markdown",
   "metadata": {},
   "source": [
    "# FUNCTIONS"
   ]
  },
  {
   "cell_type": "code",
   "execution_count": null,
   "metadata": {},
   "outputs": [],
   "source": [
    "def analyse_correlation(df: pd.DataFrame, col1: str, col2: str, qqplot = False) -> None:\n",
    "    \"\"\"\n",
    "    Analyse the distribution and correlation of two columns in a dataframe.\n",
    "    \n",
    "    Parameters:\n",
    "        df (pd.DataFrame): The input dataframe.\n",
    "        col1 (str): Name of the first column.\n",
    "        col2 (str): Name of the second column.\n",
    "        \n",
    "    Returns:\n",
    "        None\n",
    "    \"\"\"\n",
    "\n",
    "    # Check for missing values in both columns\n",
    "    nan_count_col1 = df[col1].isna().sum()\n",
    "    nan_count_col2 = df[col2].isna().sum()\n",
    "    print(f\"Missing values in {col1}: {nan_count_col1}\")\n",
    "    print(f\"Missing values in {col2}: {nan_count_col2}\")\n",
    "\n",
    "    # Remove rows with missing values in either of the two columns\n",
    "    df = df.dropna(subset=[col1, col2])\n",
    "    \n",
    "    # Visualisation with histogram and density plot\n",
    "    plt.figure(figsize=(12, 5))\n",
    "    plt.subplot(1, 2, 1)\n",
    "    sns.histplot(df[col1], kde=True)\n",
    "    plt.title(f\"Distribution of '{col1}'\")\n",
    "\n",
    "    plt.subplot(1, 2, 2)\n",
    "    sns.histplot(df[col2], kde=True)\n",
    "    plt.title(f\"Distribution of '{col2}'\")\n",
    "    plt.show()\n",
    "\n",
    "    # Q-Q plot for both columns\n",
    "    if qqplot == True:\n",
    "        plt.figure(figsize=(12, 5))\n",
    "        plt.subplot(1, 2, 1)\n",
    "        probplot(df[col1], dist=\"norm\", plot=plt)\n",
    "        plt.title(f\"Q-Q Plot of {col1}\")\n",
    "\n",
    "        plt.subplot(1, 2, 2)\n",
    "        probplot(df[col2], dist=\"norm\", plot=plt)\n",
    "        plt.title(f\"Q-Q Plot of {col2}\")\n",
    "        plt.show()\n",
    "\n",
    "    # Pearson correlation\n",
    "    r, p = pearsonr(df[col1], df[col2])\n",
    "\n",
    "    # Display the results\n",
    "    print(f\"Pearson correlation between '{col1}' and '{col2}': r = {r:.3f}, p {'< .001' if p < 0.001 else f'= {p:.3f}'}\")"
   ]
  },
  {
   "cell_type": "code",
   "execution_count": null,
   "metadata": {},
   "outputs": [],
   "source": [
    "def compute_spearman_correlation(df: pd.DataFrame, col1: str, col2: str) -> None:\n",
    "    \"\"\"\n",
    "    Compute the Spearman correlation of two columns in a dataframe.\n",
    "    \n",
    "    Parameters:\n",
    "        df (pd.DataFrame): The input dataframe.\n",
    "        col1 (str): Name of the first column.\n",
    "        col2 (str): Name of the second column.\n",
    "        \n",
    "    Returns:\n",
    "        None\n",
    "    \"\"\"\n",
    "    # Check for missing values in both columns\n",
    "    nan_count_col1 = df[col1].isna().sum()\n",
    "    nan_count_col2 = df[col2].isna().sum()\n",
    "    print(f\"Missing values in {col1}: {nan_count_col1}\")\n",
    "    print(f\"Missing values in {col2}: {nan_count_col2}\")\n",
    "\n",
    "    # Remove rows with missing values in either of the two columns\n",
    "    df = df.dropna(subset=[col1, col2])\n",
    "\n",
    "    # Spearman correlation\n",
    "    r, p = spearmanr(df[col1], df[col2])\n",
    "\n",
    "    # Display the results\n",
    "    print(f\"Spearman correlation between '{col1}' and '{col2}' (ρ) = {r:.3f}, p {'< .001' if p < 0.001 else f'= {p:.3f}'}\")"
   ]
  },
  {
   "cell_type": "markdown",
   "metadata": {},
   "source": [
    "# MAIN"
   ]
  },
  {
   "cell_type": "code",
   "execution_count": null,
   "metadata": {},
   "outputs": [],
   "source": [
    "print(\">> Setings\")\n",
    "print(\"Input file:\", log_file_name)\n",
    "path_log_file = Path(log_dir) /log_file_name \n",
    "print(\"Path file:\", path_log_file)"
   ]
  },
  {
   "cell_type": "code",
   "execution_count": null,
   "metadata": {},
   "outputs": [],
   "source": [
    "print(\">> Reading\")\n",
    "dic_t = {'Case ID':object, 'CaseLength':int, 'SUS_Tercile':int, 'Apprendimento percepito_Tercile':int, 'UEQ - Overall_Tercile':int} # forza il tipo delle colonne\n",
    "df_log = pd.read_csv(path_log_file, sep=csv_sep, dtype=dic_t)"
   ]
  },
  {
   "cell_type": "code",
   "execution_count": null,
   "metadata": {},
   "outputs": [],
   "source": [
    "print(\">> Removing columns from event log\")\n",
    "col_del_list = ['Variant', 'Variant index']\n",
    "for col_del in col_del_list:\n",
    "  if col_del in df_log.columns:\n",
    "    print(\"Removig column:\", col_del)\n",
    "    df_log.drop(columns=col_del, inplace=True)"
   ]
  },
  {
   "cell_type": "code",
   "execution_count": null,
   "metadata": {},
   "outputs": [],
   "source": [
    "df_log.shape"
   ]
  },
  {
   "cell_type": "code",
   "execution_count": null,
   "metadata": {},
   "outputs": [],
   "source": [
    "print(\"Distinct cases:\", df_log[\"Case ID\"].nunique())"
   ]
  },
  {
   "cell_type": "code",
   "execution_count": null,
   "metadata": {},
   "outputs": [],
   "source": [
    "df_log.head(5)"
   ]
  },
  {
   "cell_type": "code",
   "execution_count": null,
   "metadata": {},
   "outputs": [],
   "source": [
    "df_log.columns"
   ]
  },
  {
   "cell_type": "markdown",
   "metadata": {},
   "source": [
    "## Classes"
   ]
  },
  {
   "cell_type": "code",
   "execution_count": null,
   "metadata": {},
   "outputs": [],
   "source": [
    "df_log[\"Class\"].unique()"
   ]
  },
  {
   "cell_type": "markdown",
   "metadata": {},
   "source": [
    "## Pearson"
   ]
  },
  {
   "cell_type": "code",
   "execution_count": null,
   "metadata": {},
   "outputs": [],
   "source": [
    "analyse_correlation(df_log, \"SUS\", \"Apprendimento percepito\")"
   ]
  },
  {
   "cell_type": "code",
   "execution_count": null,
   "metadata": {},
   "outputs": [],
   "source": [
    "analyse_correlation(df_log, \"UEQ - Overall\", \"Apprendimento percepito\")"
   ]
  },
  {
   "cell_type": "code",
   "execution_count": null,
   "metadata": {},
   "outputs": [],
   "source": [
    "analyse_correlation(df_log, \"QuizAnswerCorrectRatioOverAll\", \"Apprendimento percepito\")"
   ]
  },
  {
   "cell_type": "markdown",
   "metadata": {},
   "source": [
    "## Spearman"
   ]
  },
  {
   "cell_type": "code",
   "execution_count": null,
   "metadata": {},
   "outputs": [],
   "source": [
    "compute_spearman_correlation(df_log, \"SUS\", \"Apprendimento percepito\")"
   ]
  },
  {
   "cell_type": "code",
   "execution_count": null,
   "metadata": {},
   "outputs": [],
   "source": [
    "compute_spearman_correlation(df_log, \"UEQ - Overall\", \"Apprendimento percepito\")"
   ]
  },
  {
   "cell_type": "code",
   "execution_count": null,
   "metadata": {},
   "outputs": [],
   "source": [
    "analyse_correlation(df_log, \"QuizAnswerCorrectRatioOverAll\", \"Apprendimento percepito\")"
   ]
  }
 ],
 "metadata": {
  "kernelspec": {
   "display_name": "Python 3",
   "language": "python",
   "name": "python3"
  },
  "language_info": {
   "codemirror_mode": {
    "name": "ipython",
    "version": 3
   },
   "file_extension": ".py",
   "mimetype": "text/x-python",
   "name": "python",
   "nbconvert_exporter": "python",
   "pygments_lexer": "ipython3",
   "version": "3.12.2"
  }
 },
 "nbformat": 4,
 "nbformat_minor": 2
}
