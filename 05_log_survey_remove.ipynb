{
 "cells": [
  {
   "cell_type": "code",
   "execution_count": null,
   "metadata": {
    "executionInfo": {
     "elapsed": 355,
     "status": "ok",
     "timestamp": 1730981616721,
     "user": {
      "displayName": "Roberto Nai",
      "userId": "01638620693582754310"
     },
     "user_tz": -60
    },
    "id": "N26IMkBHebhG"
   },
   "outputs": [],
   "source": [
    "### IMPORT ###\n",
    "from pathlib import Path\n",
    "import pandas as pd\n",
    "\n",
    "\n",
    "### LOCAL IMPORT ###\n",
    "from config import config_reader"
   ]
  },
  {
   "cell_type": "code",
   "execution_count": null,
   "metadata": {
    "executionInfo": {
     "elapsed": 341,
     "status": "ok",
     "timestamp": 1730981656253,
     "user": {
      "displayName": "Roberto Nai",
      "userId": "01638620693582754310"
     },
     "user_tz": -60
    },
    "id": "UWDjqy_GejAV"
   },
   "outputs": [],
   "source": [
    "### GLOBALS ###\n",
    "yaml_config = config_reader.config_read_yaml(\"config.yml\", \"config\")\n",
    "# print(yaml_config) # debug\n",
    "log_dir = str(yaml_config[\"LOG_DIR\"])\n",
    "file_name = \"edu_event_log_PAGE_raw_filtered_terziles-DEF-332-cases.csv\" # file to be cleaned\n",
    "col_name = \"Activity\" # column (feature) name to be cleaned"
   ]
  },
  {
   "cell_type": "code",
   "execution_count": null,
   "metadata": {
    "executionInfo": {
     "elapsed": 464,
     "status": "ok",
     "timestamp": 1730981657616,
     "user": {
      "displayName": "Roberto Nai",
      "userId": "01638620693582754310"
     },
     "user_tz": -60
    },
    "id": "SH-1GxJ2fpQa"
   },
   "outputs": [],
   "source": [
    "# OUTPUT\n",
    "file_out = \"edu_event_log_PAGE_raw_filtered_terziles-DEF-332-cases_no_SURVEY.csv\" # file cleaned"
   ]
  },
  {
   "cell_type": "code",
   "execution_count": null,
   "metadata": {
    "executionInfo": {
     "elapsed": 437,
     "status": "ok",
     "timestamp": 1730981658405,
     "user": {
      "displayName": "Roberto Nai",
      "userId": "01638620693582754310"
     },
     "user_tz": -60
    },
    "id": "N6vdPPl3ege2"
   },
   "outputs": [],
   "source": [
    "# Load the CSV\n",
    "print(\">> Reading event log\")\n",
    "path_log = Path(log_dir) / file_name\n",
    "print(\"Path:\", path_log)\n",
    "dic_t = {'Case ID':object, 'CaseLength':int, 'SUS_Tercile':int, 'Apprendimento percepito_Tercile':int, 'UEQ - Overall_Tercile':int} \n",
    "df_log = pd.read_csv(file_name, sep = \",\", dtype=dic_t, low_memory=False)"
   ]
  },
  {
   "cell_type": "code",
   "execution_count": 105,
   "metadata": {
    "executionInfo": {
     "elapsed": 343,
     "status": "ok",
     "timestamp": 1730981659302,
     "user": {
      "displayName": "Roberto Nai",
      "userId": "01638620693582754310"
     },
     "user_tz": -60
    },
    "id": "pou8ALmvgaHB"
   },
   "outputs": [],
   "source": [
    "# Rimuove le colonne aggiunte da DISCO\n",
    "col_del_list = ['Variant', 'Variant index']\n",
    "for col_del in col_del_list:\n",
    "  if col_del in df_log.columns:\n",
    "    df_log.drop(columns=col_del, inplace=True)"
   ]
  },
  {
   "cell_type": "code",
   "execution_count": 106,
   "metadata": {
    "colab": {
     "base_uri": "https://localhost:8080/"
    },
    "executionInfo": {
     "elapsed": 1,
     "status": "ok",
     "timestamp": 1730981660016,
     "user": {
      "displayName": "Roberto Nai",
      "userId": "01638620693582754310"
     },
     "user_tz": -60
    },
    "id": "I-Y2ltghf9ep",
    "outputId": "f125c203-253e-4335-b121-cd28e5ebc7a8"
   },
   "outputs": [
    {
     "data": {
      "text/plain": [
       "Index(['Case ID', 'Activity', 'Complete Timestamp', 'menu', 'pageOrder',\n",
       "       'pagePara', 'eventPage', 'click_num', 'dbclick_num', 'QuizSessionCount',\n",
       "       'QuizAnswerCorrectTotal', 'QuizAnswerWrongTotal',\n",
       "       'QuizAnswerCorrectRatioOverCount', 'QuizAnswerCorrectRatioOverAll',\n",
       "       'Q_1', 'Q_2', 'Q_3', 'Q_4', 'Q_5', 'Q_6', 'Q_7', 'Q_8', 'Q_9', 'Q_10',\n",
       "       'Q_11', 'Q_12', 'Q_13', 'Q_14', 'Q_15', 'Q_16', 'Q_17', 'Q_18', 'Q_19',\n",
       "       'Q_20', 'Q_21', 'Q_22', 'Q_23', 'Q_24', 'Q_25', 'Q_26', 'Q_27', 'Q_28',\n",
       "       'SUS', 'Apprendimento percepito', 'UEQ - Pragmatic', 'UEQ - Hedonic',\n",
       "       'UEQ - Overall', 'TotalTimeHH', 'TotalTimeDD', 'CaseLength', 'Class',\n",
       "       'SUS_Tercile', 'Apprendimento percepito_Tercile',\n",
       "       'UEQ - Overall_Tercile', 'QuizAnswerCorrectRatioOverAll_Tercile'],\n",
       "      dtype='object')"
      ]
     },
     "execution_count": 106,
     "metadata": {},
     "output_type": "execute_result"
    }
   ],
   "source": [
    "df_log.columns"
   ]
  },
  {
   "cell_type": "code",
   "execution_count": null,
   "metadata": {
    "colab": {
     "base_uri": "https://localhost:8080/"
    },
    "executionInfo": {
     "elapsed": 2,
     "status": "ok",
     "timestamp": 1730981661087,
     "user": {
      "displayName": "Roberto Nai",
      "userId": "01638620693582754310"
     },
     "user_tz": -60
    },
    "id": "Qb-oyfLYe7Dy",
    "outputId": "f68a8d70-6f98-4efa-b6a5-dcc2de9b1547"
   },
   "outputs": [
    {
     "data": {
      "text/plain": [
       "(8091, 55)"
      ]
     },
     "execution_count": 107,
     "metadata": {},
     "output_type": "execute_result"
    }
   ],
   "source": [
    "# Dimension before cleaning\n",
    "df_log.shape"
   ]
  },
  {
   "cell_type": "code",
   "execution_count": null,
   "metadata": {
    "executionInfo": {
     "elapsed": 1,
     "status": "ok",
     "timestamp": 1730981661478,
     "user": {
      "displayName": "Roberto Nai",
      "userId": "01638620693582754310"
     },
     "user_tz": -60
    },
    "id": "TOTo08QDe2lZ"
   },
   "outputs": [],
   "source": [
    "# Filter rows that do not begin with ‘SURVEY’ in the col_name column\n",
    "df_log_clean = df_log[~df_log[col_name].str.startswith('SURVEY', na=False)]"
   ]
  },
  {
   "cell_type": "code",
   "execution_count": null,
   "metadata": {
    "colab": {
     "base_uri": "https://localhost:8080/"
    },
    "executionInfo": {
     "elapsed": 1,
     "status": "ok",
     "timestamp": 1730981663014,
     "user": {
      "displayName": "Roberto Nai",
      "userId": "01638620693582754310"
     },
     "user_tz": -60
    },
    "id": "rQfH7ncfflPC",
    "outputId": "9f98ae0e-841d-4334-f8aa-1244b110fdfb"
   },
   "outputs": [
    {
     "data": {
      "text/plain": [
       "(7398, 55)"
      ]
     },
     "execution_count": 109,
     "metadata": {},
     "output_type": "execute_result"
    }
   ],
   "source": [
    "# Dimension after cleaning\n",
    "df_log_clean.shape"
   ]
  },
  {
   "cell_type": "code",
   "execution_count": null,
   "metadata": {
    "executionInfo": {
     "elapsed": 350,
     "status": "ok",
     "timestamp": 1730981663725,
     "user": {
      "displayName": "Roberto Nai",
      "userId": "01638620693582754310"
     },
     "user_tz": -60
    },
    "id": "K4oa2sG_e5Iu"
   },
   "outputs": [],
   "source": [
    "# Save the dataframe cleaned\n",
    "print(\">> Saving cleaned event log\")\n",
    "path_log = Path(log_dir) / file_out\n",
    "print(\"Path:\", path_log)\n",
    "df_log_clean.to_csv(file_out, sep = \",\", index=False)"
   ]
  }
 ],
 "metadata": {
  "colab": {
   "authorship_tag": "ABX9TyNRTr+4uwSQ7Fvaw79EqAUu",
   "provenance": []
  },
  "kernelspec": {
   "display_name": "Python 3",
   "name": "python3"
  },
  "language_info": {
   "name": "python"
  }
 },
 "nbformat": 4,
 "nbformat_minor": 0
}
