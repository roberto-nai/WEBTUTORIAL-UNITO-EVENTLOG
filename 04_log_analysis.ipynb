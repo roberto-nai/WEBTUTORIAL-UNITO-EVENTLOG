{
 "cells": [
  {
   "cell_type": "markdown",
   "metadata": {},
   "source": [
    "# Event log analysis "
   ]
  },
  {
   "cell_type": "code",
   "execution_count": 296,
   "metadata": {},
   "outputs": [],
   "source": [
    "### IMPORT ###\n",
    "from pathlib import Path\n",
    "import pandas as pd\n",
    "\n",
    "\n",
    "### LOCAL IMPORT ###\n",
    "from config import config_reader\n",
    "from utilities import df_read_csv_data"
   ]
  },
  {
   "cell_type": "code",
   "execution_count": 297,
   "metadata": {},
   "outputs": [],
   "source": [
    "### GLOBALS ###\n",
    "yaml_config = config_reader.config_read_yaml(\"config.yml\", \"config\")\n",
    "# print(yaml_config) # debug\n",
    "log_dir = str(yaml_config[\"LOG_DIR\"])\n",
    "stats_dir = str(yaml_config[\"STATS_DIR\"])\n",
    "csv_sep = str(yaml_config[\"CSV_SEP\"])\n",
    "# INPUT\n",
    "level_input = \"PAGE\" # [PAGE, PARA]\n",
    "log_file = \"edu_event_log_LEVEL_raw_filtered.csv\""
   ]
  },
  {
   "cell_type": "markdown",
   "metadata": {},
   "source": [
    "# FUNCTIONS"
   ]
  },
  {
   "cell_type": "code",
   "execution_count": 298,
   "metadata": {},
   "outputs": [],
   "source": [
    "def calculate_session_count_and_percentage(df:pd.DataFrame) -> pd.DataFrame:\n",
    "    \"\"\"\n",
    "    Calculate the distinct session counts and their percentage based on QuizSessionCount.\n",
    "\n",
    "    Parameters:\n",
    "    df (pd.DataFrame): A pandas DataFrame with at least two columns: \n",
    "        - 'QuizSessionCount': the number of quiz sessions\n",
    "        - 'sessionID': unique identifier for each session\n",
    "\n",
    "    Returns:\n",
    "    pd.DataFrame: A new DataFrame with three columns:\n",
    "        - 'QuizSessionCount': distinct values of QuizSessionCount\n",
    "        - 'SessionCount': count of distinct sessionIDs for each QuizSessionCount\n",
    "        - 'SessionPerc': percentage of SessionCount with respect to the total, rounded to 2 decimal places\n",
    "    \"\"\"\n",
    "\n",
    "    # Count distinct sessionID for each QuizSessionCount\n",
    "    session_counts = df.groupby('QuizSessionCount')['sessionID'].nunique().reset_index(name='SessionCount')\n",
    "    \n",
    "    # Calculate the percentage of session counts relative to the total\n",
    "    total_sessions = session_counts['SessionCount'].sum()\n",
    "    session_counts['SessionPerc'] = (session_counts['SessionCount'] / total_sessions * 100).round(2)\n",
    "    \n",
    "    return session_counts"
   ]
  },
  {
   "cell_type": "code",
   "execution_count": 299,
   "metadata": {},
   "outputs": [],
   "source": [
    "def calculate_column_statistics(df: pd.DataFrame, id_column: str, calc_column: str) -> pd.DataFrame:\n",
    "    \"\"\"\n",
    "    Calculate statistics on a specific column, considering only distinct IDs, and return the results \n",
    "    without grouping by ID.\n",
    "\n",
    "    Parameters:\n",
    "    df (pd.DataFrame): The input pandas DataFrame.\n",
    "    id_column (str): The name of the column representing the unique identifiers (IDs).\n",
    "    calc_column (str): The name of the column on which to perform the calculations.\n",
    "\n",
    "    Returns:\n",
    "    pd.DataFrame: A new DataFrame with the following columns:\n",
    "        - '{calc_column}_not_na': count of non-empty values in the calc_column\n",
    "        - '{calc_column}_min': the minimum value in the calc_column\n",
    "        - '{calc_column}_max': the maximum value in the calc_column\n",
    "        - '{calc_column}_avg': the average value in the calc_column\n",
    "        - '{calc_column}_med': the median value in the calc_column\n",
    "    \"\"\"\n",
    "    \n",
    "    # Remove duplicate IDs\n",
    "    df_no_duplicates = df.drop_duplicates(subset=[id_column])\n",
    "    \n",
    "    # Filter out rows where the calculation column is NaN\n",
    "    non_empty_df = df_no_duplicates[df_no_duplicates[calc_column].notna()]\n",
    "    \n",
    "    # Calculate the statistics for the calc_column\n",
    "    col_not_na = non_empty_df[calc_column].count()  # Count of non-NaN values\n",
    "    col_min = non_empty_df[calc_column].min()       # Minimum value\n",
    "    col_max = non_empty_df[calc_column].max()       # Maximum value\n",
    "    col_avg = non_empty_df[calc_column].mean().round(2)      # Mean value\n",
    "    col_med = non_empty_df[calc_column].median()    # Median value\n",
    "    \n",
    "    # Create a DataFrame with the results, using calc_column as prefix\n",
    "    stats_df = pd.DataFrame({\n",
    "        f'{calc_column}_not_na': [col_not_na],\n",
    "        f'{calc_column}_min': [col_min],\n",
    "        f'{calc_column}_max': [col_max],\n",
    "        f'{calc_column}_avg': [col_avg],\n",
    "        f'{calc_column}_med': [col_med]\n",
    "    })\n",
    "    \n",
    "    return stats_df"
   ]
  },
  {
   "cell_type": "code",
   "execution_count": 300,
   "metadata": {},
   "outputs": [],
   "source": [
    "def label_terciles_by_session(df: pd.DataFrame, session_column: str, value_column: str):\n",
    "    \"\"\"\n",
    "    Label rows in terciles based on the value_column, considering all rows with the same session_column value \n",
    "    as belonging to the same tercile, and add the 'Tercile' column to the original DataFrame.\n",
    "    \n",
    "    Parameters:\n",
    "    df (pd.DataFrame): The input DataFrame containing the data.\n",
    "    session_column (str): The column representing session IDs (grouping key).\n",
    "    value_column (str): The column containing the values to be split into terciles.\n",
    "    \n",
    "    Returns:\n",
    "    pd.DataFrame: The original DataFrame with an additional column 'Tercile' indicating the tercile label.\n",
    "    string: Name of the new tercile column\n",
    "    \"\"\"\n",
    "\n",
    "    # Define the tercile column name\n",
    "    col_tercile = f\"{value_column}_Tercile\"\n",
    "\n",
    "    # First, remove duplicates based on session_column and value_column, because same session has same SUS\n",
    "    df_unique = df.drop_duplicates(subset=[session_column, value_column])\n",
    "    \n",
    "    # Filter out rows where the value_column is NaN\n",
    "    df_unique_non_nan = df_unique[df_unique[value_column].notna()]\n",
    "    \n",
    "    # Calculate terciles based on the unique non-NaN values\n",
    "    df_unique_non_nan[col_tercile] = pd.qcut(df_unique_non_nan[value_column], q=3, labels=[1, 2, 3], duplicates='drop')\n",
    "    \n",
    "    # Merge the tercile labels back into the original dataframe\n",
    "    df = df.merge(df_unique_non_nan[[session_column, col_tercile]], on=session_column, how='left')\n",
    "    \n",
    "    return df, col_tercile"
   ]
  },
  {
   "cell_type": "markdown",
   "metadata": {},
   "source": [
    "# MAIN"
   ]
  },
  {
   "cell_type": "code",
   "execution_count": 301,
   "metadata": {},
   "outputs": [
    {
     "name": "stdout",
     "output_type": "stream",
     "text": [
      ">> Setings\n",
      "Input file: edu_event_log_PAGE_raw_filtered.csv\n",
      "Path file: data_log/edu_event_log_PAGE_raw_filtered.csv\n"
     ]
    }
   ],
   "source": [
    "print(\">> Setings\")\n",
    "log_file_name = log_file.replace(\"LEVEL\", level_input)\n",
    "print(\"Input file:\", log_file_name)\n",
    "path_log_file = Path(log_dir) /log_file_name \n",
    "print(\"Path file:\", path_log_file)"
   ]
  },
  {
   "cell_type": "code",
   "execution_count": 302,
   "metadata": {},
   "outputs": [
    {
     "name": "stdout",
     "output_type": "stream",
     "text": [
      ">> Reading\n",
      "Data preview\n",
      "                                           sessionID pageTitle    menu  \\\n",
      "0  keaojps50dlKstwSXYup2AVdGzQIsjuXRW88YwXfvOYmVb...     INTRO  menu_1   \n",
      "1  keaojps50dlKstwSXYup2AVdGzQIsjuXRW88YwXfvOYmVb...   INTRO-Q  menu_1   \n",
      "2  keaojps50dlKstwSXYup2AVdGzQIsjuXRW88YwXfvOYmVb...      PROG  menu_1   \n",
      "3  keaojps50dlKstwSXYup2AVdGzQIsjuXRW88YwXfvOYmVb...    PROG-Q  menu_1   \n",
      "4  keaojps50dlKstwSXYup2AVdGzQIsjuXRW88YwXfvOYmVb...      VARS  menu_1   \n",
      "\n",
      "   pageOrder  pagePara eventPage       eventTimestamp  click_num  dbclick_num  \\\n",
      "0          1         0    PageIN  2023-06-19 16:25:59          0            0   \n",
      "1          1         0    PageIN  2023-06-19 16:26:02          0            0   \n",
      "2          2         0    PageIN  2023-06-19 16:26:09          0            0   \n",
      "3          2         0    PageIN  2023-06-19 16:26:11          0            0   \n",
      "4          3         0    PageIN  2023-06-19 16:26:14          0            0   \n",
      "\n",
      "   QuizSessionCount  ...  Q_28  SUS  Apprendimento percepito UEQ - Pragmatic  \\\n",
      "0                 3  ...   NaN  NaN                      NaN             NaN   \n",
      "1                 3  ...   NaN  NaN                      NaN             NaN   \n",
      "2                 3  ...   NaN  NaN                      NaN             NaN   \n",
      "3                 3  ...   NaN  NaN                      NaN             NaN   \n",
      "4                 3  ...   NaN  NaN                      NaN             NaN   \n",
      "\n",
      "  UEQ - Hedonic UEQ - Overall  TotalTimeHH  TotalTimeDD  CaseLength  Class  \n",
      "0           NaN           NaN          0.0          0.0           6    NaN  \n",
      "1           NaN           NaN          0.0          0.0           6    NaN  \n",
      "2           NaN           NaN          0.0          0.0           6    NaN  \n",
      "3           NaN           NaN          0.0          0.0           6    NaN  \n",
      "4           NaN           NaN          0.0          0.0           6    NaN  \n",
      "\n",
      "[5 rows x 50 columns]\n",
      "\n",
      "Shape: (18899, 50)\n",
      "Rows: 18899\n",
      "Columns: Index(['sessionID', 'pageTitle', 'menu', 'pageOrder', 'pagePara', 'eventPage',\n",
      "       'eventTimestamp', 'click_num', 'dbclick_num', 'QuizSessionCount',\n",
      "       'QuizAnswerCorrectTotal', 'QuizAnswerWrongTotal',\n",
      "       'QuizAnswerCorrectRatio', 'Q_1', 'Q_2', 'Q_3', 'Q_4', 'Q_5', 'Q_6',\n",
      "       'Q_7', 'Q_8', 'Q_9', 'Q_10', 'Q_11', 'Q_12', 'Q_13', 'Q_14', 'Q_15',\n",
      "       'Q_16', 'Q_17', 'Q_18', 'Q_19', 'Q_20', 'Q_21', 'Q_22', 'Q_23', 'Q_24',\n",
      "       'Q_25', 'Q_26', 'Q_27', 'Q_28', 'SUS', 'Apprendimento percepito',\n",
      "       'UEQ - Pragmatic', 'UEQ - Hedonic', 'UEQ - Overall', 'TotalTimeHH',\n",
      "       'TotalTimeDD', 'CaseLength', 'Class'],\n",
      "      dtype='object')\n",
      "\n"
     ]
    }
   ],
   "source": [
    "print(\">> Reading\")\n",
    "df_log = df_read_csv_data(path_log_file, None, csv_sep)"
   ]
  },
  {
   "cell_type": "code",
   "execution_count": 303,
   "metadata": {},
   "outputs": [
    {
     "name": "stdout",
     "output_type": "stream",
     "text": [
      "Distinct cases: 909\n"
     ]
    }
   ],
   "source": [
    "print(\"Distinct cases:\", df_log[\"sessionID\"].nunique())"
   ]
  },
  {
   "cell_type": "code",
   "execution_count": 304,
   "metadata": {},
   "outputs": [
    {
     "data": {
      "text/html": [
       "<div>\n",
       "<style scoped>\n",
       "    .dataframe tbody tr th:only-of-type {\n",
       "        vertical-align: middle;\n",
       "    }\n",
       "\n",
       "    .dataframe tbody tr th {\n",
       "        vertical-align: top;\n",
       "    }\n",
       "\n",
       "    .dataframe thead th {\n",
       "        text-align: right;\n",
       "    }\n",
       "</style>\n",
       "<table border=\"1\" class=\"dataframe\">\n",
       "  <thead>\n",
       "    <tr style=\"text-align: right;\">\n",
       "      <th></th>\n",
       "      <th>sessionID</th>\n",
       "      <th>pageTitle</th>\n",
       "      <th>menu</th>\n",
       "      <th>pageOrder</th>\n",
       "      <th>pagePara</th>\n",
       "      <th>eventPage</th>\n",
       "      <th>eventTimestamp</th>\n",
       "      <th>click_num</th>\n",
       "      <th>dbclick_num</th>\n",
       "      <th>QuizSessionCount</th>\n",
       "      <th>...</th>\n",
       "      <th>Q_28</th>\n",
       "      <th>SUS</th>\n",
       "      <th>Apprendimento percepito</th>\n",
       "      <th>UEQ - Pragmatic</th>\n",
       "      <th>UEQ - Hedonic</th>\n",
       "      <th>UEQ - Overall</th>\n",
       "      <th>TotalTimeHH</th>\n",
       "      <th>TotalTimeDD</th>\n",
       "      <th>CaseLength</th>\n",
       "      <th>Class</th>\n",
       "    </tr>\n",
       "  </thead>\n",
       "  <tbody>\n",
       "    <tr>\n",
       "      <th>0</th>\n",
       "      <td>keaojps50dlKstwSXYup2AVdGzQIsjuXRW88YwXfvOYmVb...</td>\n",
       "      <td>INTRO</td>\n",
       "      <td>menu_1</td>\n",
       "      <td>1</td>\n",
       "      <td>0</td>\n",
       "      <td>PageIN</td>\n",
       "      <td>2023-06-19 16:25:59</td>\n",
       "      <td>0</td>\n",
       "      <td>0</td>\n",
       "      <td>3</td>\n",
       "      <td>...</td>\n",
       "      <td>NaN</td>\n",
       "      <td>NaN</td>\n",
       "      <td>NaN</td>\n",
       "      <td>NaN</td>\n",
       "      <td>NaN</td>\n",
       "      <td>NaN</td>\n",
       "      <td>0.0</td>\n",
       "      <td>0.0</td>\n",
       "      <td>6</td>\n",
       "      <td>NaN</td>\n",
       "    </tr>\n",
       "    <tr>\n",
       "      <th>1</th>\n",
       "      <td>keaojps50dlKstwSXYup2AVdGzQIsjuXRW88YwXfvOYmVb...</td>\n",
       "      <td>INTRO-Q</td>\n",
       "      <td>menu_1</td>\n",
       "      <td>1</td>\n",
       "      <td>0</td>\n",
       "      <td>PageIN</td>\n",
       "      <td>2023-06-19 16:26:02</td>\n",
       "      <td>0</td>\n",
       "      <td>0</td>\n",
       "      <td>3</td>\n",
       "      <td>...</td>\n",
       "      <td>NaN</td>\n",
       "      <td>NaN</td>\n",
       "      <td>NaN</td>\n",
       "      <td>NaN</td>\n",
       "      <td>NaN</td>\n",
       "      <td>NaN</td>\n",
       "      <td>0.0</td>\n",
       "      <td>0.0</td>\n",
       "      <td>6</td>\n",
       "      <td>NaN</td>\n",
       "    </tr>\n",
       "    <tr>\n",
       "      <th>2</th>\n",
       "      <td>keaojps50dlKstwSXYup2AVdGzQIsjuXRW88YwXfvOYmVb...</td>\n",
       "      <td>PROG</td>\n",
       "      <td>menu_1</td>\n",
       "      <td>2</td>\n",
       "      <td>0</td>\n",
       "      <td>PageIN</td>\n",
       "      <td>2023-06-19 16:26:09</td>\n",
       "      <td>0</td>\n",
       "      <td>0</td>\n",
       "      <td>3</td>\n",
       "      <td>...</td>\n",
       "      <td>NaN</td>\n",
       "      <td>NaN</td>\n",
       "      <td>NaN</td>\n",
       "      <td>NaN</td>\n",
       "      <td>NaN</td>\n",
       "      <td>NaN</td>\n",
       "      <td>0.0</td>\n",
       "      <td>0.0</td>\n",
       "      <td>6</td>\n",
       "      <td>NaN</td>\n",
       "    </tr>\n",
       "    <tr>\n",
       "      <th>3</th>\n",
       "      <td>keaojps50dlKstwSXYup2AVdGzQIsjuXRW88YwXfvOYmVb...</td>\n",
       "      <td>PROG-Q</td>\n",
       "      <td>menu_1</td>\n",
       "      <td>2</td>\n",
       "      <td>0</td>\n",
       "      <td>PageIN</td>\n",
       "      <td>2023-06-19 16:26:11</td>\n",
       "      <td>0</td>\n",
       "      <td>0</td>\n",
       "      <td>3</td>\n",
       "      <td>...</td>\n",
       "      <td>NaN</td>\n",
       "      <td>NaN</td>\n",
       "      <td>NaN</td>\n",
       "      <td>NaN</td>\n",
       "      <td>NaN</td>\n",
       "      <td>NaN</td>\n",
       "      <td>0.0</td>\n",
       "      <td>0.0</td>\n",
       "      <td>6</td>\n",
       "      <td>NaN</td>\n",
       "    </tr>\n",
       "    <tr>\n",
       "      <th>4</th>\n",
       "      <td>keaojps50dlKstwSXYup2AVdGzQIsjuXRW88YwXfvOYmVb...</td>\n",
       "      <td>VARS</td>\n",
       "      <td>menu_1</td>\n",
       "      <td>3</td>\n",
       "      <td>0</td>\n",
       "      <td>PageIN</td>\n",
       "      <td>2023-06-19 16:26:14</td>\n",
       "      <td>0</td>\n",
       "      <td>0</td>\n",
       "      <td>3</td>\n",
       "      <td>...</td>\n",
       "      <td>NaN</td>\n",
       "      <td>NaN</td>\n",
       "      <td>NaN</td>\n",
       "      <td>NaN</td>\n",
       "      <td>NaN</td>\n",
       "      <td>NaN</td>\n",
       "      <td>0.0</td>\n",
       "      <td>0.0</td>\n",
       "      <td>6</td>\n",
       "      <td>NaN</td>\n",
       "    </tr>\n",
       "  </tbody>\n",
       "</table>\n",
       "<p>5 rows × 50 columns</p>\n",
       "</div>"
      ],
      "text/plain": [
       "                                           sessionID pageTitle    menu  \\\n",
       "0  keaojps50dlKstwSXYup2AVdGzQIsjuXRW88YwXfvOYmVb...     INTRO  menu_1   \n",
       "1  keaojps50dlKstwSXYup2AVdGzQIsjuXRW88YwXfvOYmVb...   INTRO-Q  menu_1   \n",
       "2  keaojps50dlKstwSXYup2AVdGzQIsjuXRW88YwXfvOYmVb...      PROG  menu_1   \n",
       "3  keaojps50dlKstwSXYup2AVdGzQIsjuXRW88YwXfvOYmVb...    PROG-Q  menu_1   \n",
       "4  keaojps50dlKstwSXYup2AVdGzQIsjuXRW88YwXfvOYmVb...      VARS  menu_1   \n",
       "\n",
       "   pageOrder  pagePara eventPage       eventTimestamp  click_num  dbclick_num  \\\n",
       "0          1         0    PageIN  2023-06-19 16:25:59          0            0   \n",
       "1          1         0    PageIN  2023-06-19 16:26:02          0            0   \n",
       "2          2         0    PageIN  2023-06-19 16:26:09          0            0   \n",
       "3          2         0    PageIN  2023-06-19 16:26:11          0            0   \n",
       "4          3         0    PageIN  2023-06-19 16:26:14          0            0   \n",
       "\n",
       "   QuizSessionCount  ...  Q_28  SUS  Apprendimento percepito UEQ - Pragmatic  \\\n",
       "0                 3  ...   NaN  NaN                      NaN             NaN   \n",
       "1                 3  ...   NaN  NaN                      NaN             NaN   \n",
       "2                 3  ...   NaN  NaN                      NaN             NaN   \n",
       "3                 3  ...   NaN  NaN                      NaN             NaN   \n",
       "4                 3  ...   NaN  NaN                      NaN             NaN   \n",
       "\n",
       "  UEQ - Hedonic UEQ - Overall  TotalTimeHH  TotalTimeDD  CaseLength  Class  \n",
       "0           NaN           NaN          0.0          0.0           6    NaN  \n",
       "1           NaN           NaN          0.0          0.0           6    NaN  \n",
       "2           NaN           NaN          0.0          0.0           6    NaN  \n",
       "3           NaN           NaN          0.0          0.0           6    NaN  \n",
       "4           NaN           NaN          0.0          0.0           6    NaN  \n",
       "\n",
       "[5 rows x 50 columns]"
      ]
     },
     "execution_count": 304,
     "metadata": {},
     "output_type": "execute_result"
    }
   ],
   "source": [
    "df_log.head(5)"
   ]
  },
  {
   "cell_type": "code",
   "execution_count": 305,
   "metadata": {},
   "outputs": [
    {
     "data": {
      "text/plain": [
       "Index(['sessionID', 'pageTitle', 'menu', 'pageOrder', 'pagePara', 'eventPage',\n",
       "       'eventTimestamp', 'click_num', 'dbclick_num', 'QuizSessionCount',\n",
       "       'QuizAnswerCorrectTotal', 'QuizAnswerWrongTotal',\n",
       "       'QuizAnswerCorrectRatio', 'Q_1', 'Q_2', 'Q_3', 'Q_4', 'Q_5', 'Q_6',\n",
       "       'Q_7', 'Q_8', 'Q_9', 'Q_10', 'Q_11', 'Q_12', 'Q_13', 'Q_14', 'Q_15',\n",
       "       'Q_16', 'Q_17', 'Q_18', 'Q_19', 'Q_20', 'Q_21', 'Q_22', 'Q_23', 'Q_24',\n",
       "       'Q_25', 'Q_26', 'Q_27', 'Q_28', 'SUS', 'Apprendimento percepito',\n",
       "       'UEQ - Pragmatic', 'UEQ - Hedonic', 'UEQ - Overall', 'TotalTimeHH',\n",
       "       'TotalTimeDD', 'CaseLength', 'Class'],\n",
       "      dtype='object')"
      ]
     },
     "execution_count": 305,
     "metadata": {},
     "output_type": "execute_result"
    }
   ],
   "source": [
    "df_log.columns"
   ]
  },
  {
   "cell_type": "code",
   "execution_count": 306,
   "metadata": {},
   "outputs": [
    {
     "data": {
      "text/plain": [
       "(18899, 50)"
      ]
     },
     "execution_count": 306,
     "metadata": {},
     "output_type": "execute_result"
    }
   ],
   "source": [
    "df_log.shape"
   ]
  },
  {
   "cell_type": "markdown",
   "metadata": {},
   "source": [
    "## Classes"
   ]
  },
  {
   "cell_type": "code",
   "execution_count": 307,
   "metadata": {},
   "outputs": [
    {
     "data": {
      "text/plain": [
       "array([nan, 'SAA', 'ECO', 'SMCN1', 'SMTO2', 'SMCN2', 'SMTO1', 'SMTO3'],\n",
       "      dtype=object)"
      ]
     },
     "execution_count": 307,
     "metadata": {},
     "output_type": "execute_result"
    }
   ],
   "source": [
    "df_log[\"Class\"].unique()"
   ]
  },
  {
   "cell_type": "markdown",
   "metadata": {},
   "source": [
    "## Quizzes"
   ]
  },
  {
   "cell_type": "code",
   "execution_count": 308,
   "metadata": {},
   "outputs": [
    {
     "name": "stdout",
     "output_type": "stream",
     "text": [
      ">> Checking quiz sessions\n"
     ]
    },
    {
     "data": {
      "text/plain": [
       "array([ 3,  0,  1,  2,  4, 10,  5,  7,  9,  6,  8, 11])"
      ]
     },
     "execution_count": 308,
     "metadata": {},
     "output_type": "execute_result"
    }
   ],
   "source": [
    "print(\">> Checking quiz sessions\")\n",
    "df_log[\"QuizSessionCount\"].unique()"
   ]
  },
  {
   "cell_type": "code",
   "execution_count": 309,
   "metadata": {},
   "outputs": [],
   "source": [
    "result_df = calculate_session_count_and_percentage(df_log)"
   ]
  },
  {
   "cell_type": "code",
   "execution_count": 310,
   "metadata": {},
   "outputs": [
    {
     "data": {
      "text/html": [
       "<div>\n",
       "<style scoped>\n",
       "    .dataframe tbody tr th:only-of-type {\n",
       "        vertical-align: middle;\n",
       "    }\n",
       "\n",
       "    .dataframe tbody tr th {\n",
       "        vertical-align: top;\n",
       "    }\n",
       "\n",
       "    .dataframe thead th {\n",
       "        text-align: right;\n",
       "    }\n",
       "</style>\n",
       "<table border=\"1\" class=\"dataframe\">\n",
       "  <thead>\n",
       "    <tr style=\"text-align: right;\">\n",
       "      <th></th>\n",
       "      <th>QuizSessionCount</th>\n",
       "      <th>SessionCount</th>\n",
       "      <th>SessionPerc</th>\n",
       "    </tr>\n",
       "  </thead>\n",
       "  <tbody>\n",
       "    <tr>\n",
       "      <th>0</th>\n",
       "      <td>0</td>\n",
       "      <td>25</td>\n",
       "      <td>2.75</td>\n",
       "    </tr>\n",
       "    <tr>\n",
       "      <th>1</th>\n",
       "      <td>1</td>\n",
       "      <td>4</td>\n",
       "      <td>0.44</td>\n",
       "    </tr>\n",
       "    <tr>\n",
       "      <th>2</th>\n",
       "      <td>2</td>\n",
       "      <td>16</td>\n",
       "      <td>1.76</td>\n",
       "    </tr>\n",
       "    <tr>\n",
       "      <th>3</th>\n",
       "      <td>3</td>\n",
       "      <td>63</td>\n",
       "      <td>6.93</td>\n",
       "    </tr>\n",
       "    <tr>\n",
       "      <th>4</th>\n",
       "      <td>4</td>\n",
       "      <td>50</td>\n",
       "      <td>5.50</td>\n",
       "    </tr>\n",
       "    <tr>\n",
       "      <th>5</th>\n",
       "      <td>5</td>\n",
       "      <td>50</td>\n",
       "      <td>5.50</td>\n",
       "    </tr>\n",
       "    <tr>\n",
       "      <th>6</th>\n",
       "      <td>6</td>\n",
       "      <td>28</td>\n",
       "      <td>3.08</td>\n",
       "    </tr>\n",
       "    <tr>\n",
       "      <th>7</th>\n",
       "      <td>7</td>\n",
       "      <td>32</td>\n",
       "      <td>3.52</td>\n",
       "    </tr>\n",
       "    <tr>\n",
       "      <th>8</th>\n",
       "      <td>8</td>\n",
       "      <td>29</td>\n",
       "      <td>3.19</td>\n",
       "    </tr>\n",
       "    <tr>\n",
       "      <th>9</th>\n",
       "      <td>9</td>\n",
       "      <td>57</td>\n",
       "      <td>6.27</td>\n",
       "    </tr>\n",
       "    <tr>\n",
       "      <th>10</th>\n",
       "      <td>10</td>\n",
       "      <td>552</td>\n",
       "      <td>60.73</td>\n",
       "    </tr>\n",
       "    <tr>\n",
       "      <th>11</th>\n",
       "      <td>11</td>\n",
       "      <td>3</td>\n",
       "      <td>0.33</td>\n",
       "    </tr>\n",
       "  </tbody>\n",
       "</table>\n",
       "</div>"
      ],
      "text/plain": [
       "    QuizSessionCount  SessionCount  SessionPerc\n",
       "0                  0            25         2.75\n",
       "1                  1             4         0.44\n",
       "2                  2            16         1.76\n",
       "3                  3            63         6.93\n",
       "4                  4            50         5.50\n",
       "5                  5            50         5.50\n",
       "6                  6            28         3.08\n",
       "7                  7            32         3.52\n",
       "8                  8            29         3.19\n",
       "9                  9            57         6.27\n",
       "10                10           552        60.73\n",
       "11                11             3         0.33"
      ]
     },
     "execution_count": 310,
     "metadata": {},
     "output_type": "execute_result"
    }
   ],
   "source": [
    "result_df"
   ]
  },
  {
   "cell_type": "code",
   "execution_count": 311,
   "metadata": {},
   "outputs": [
    {
     "name": "stdout",
     "output_type": "stream",
     "text": [
      "> Saving quiz counts\n",
      "File out: stats/quiz_count.csv\n"
     ]
    }
   ],
   "source": [
    "print(\"> Saving quiz counts\")\n",
    "path_out = Path(stats_dir) / \"quiz_count.csv\"\n",
    "print(\"File out:\", path_out)\n",
    "result_df.to_csv(path_out, index=False, sep=\";\")"
   ]
  },
  {
   "cell_type": "markdown",
   "metadata": {},
   "source": [
    "## Stats on experience"
   ]
  },
  {
   "cell_type": "code",
   "execution_count": 312,
   "metadata": {},
   "outputs": [
    {
     "name": "stdout",
     "output_type": "stream",
     "text": [
      ">> Stats on experiences\n",
      "Columns: ['SUS', 'Apprendimento percepito', 'UEQ - Pragmatic', 'UEQ - Hedonic', 'UEQ - Overall']\n"
     ]
    }
   ],
   "source": [
    "print(\">> Stats on experiences\")\n",
    "list_col = [\"SUS\", \"Apprendimento percepito\", \"UEQ - Pragmatic\", \"UEQ - Hedonic\", \"UEQ - Overall\"]\n",
    "print(\"Columns:\", list_col)"
   ]
  },
  {
   "cell_type": "code",
   "execution_count": 313,
   "metadata": {},
   "outputs": [
    {
     "name": "stdout",
     "output_type": "stream",
     "text": [
      "Stats on column: SUS\n",
      "Saving stats to: stats/SUS_stats.csv\n",
      "\n",
      "Stats on column: Apprendimento percepito\n",
      "Saving stats to: stats/Apprendimento percepito_stats.csv\n",
      "\n",
      "Stats on column: UEQ - Pragmatic\n",
      "Saving stats to: stats/UEQ - Pragmatic_stats.csv\n",
      "\n",
      "Stats on column: UEQ - Hedonic\n",
      "Saving stats to: stats/UEQ - Hedonic_stats.csv\n",
      "\n",
      "Stats on column: UEQ - Overall\n",
      "Saving stats to: stats/UEQ - Overall_stats.csv\n",
      "\n"
     ]
    }
   ],
   "source": [
    "for col_name in list_col:\n",
    "    print(\"Stats on column:\", col_name)\n",
    "    exp_df = calculate_column_statistics(df_log, \"sessionID\", col_name)\n",
    "    file_put = f\"{col_name}_stats.csv\"\n",
    "    path_out = Path(stats_dir) / file_put\n",
    "    print(\"Saving stats to:\", path_out)\n",
    "    exp_df.to_csv(path_out, index=False, sep=csv_sep)\n",
    "    print()"
   ]
  },
  {
   "cell_type": "markdown",
   "metadata": {},
   "source": [
    "## Terciles"
   ]
  },
  {
   "cell_type": "code",
   "execution_count": 314,
   "metadata": {},
   "outputs": [
    {
     "name": "stdout",
     "output_type": "stream",
     "text": [
      ">> Terciles\n",
      "Columns: ['SUS', 'Apprendimento percepito', 'UEQ - Overall']\n"
     ]
    }
   ],
   "source": [
    "print(\">> Terciles\")\n",
    "list_col = [\"SUS\", \"Apprendimento percepito\", \"UEQ - Overall\"] # Columns on which to calculate the tertile\n",
    "print(\"Columns:\", list_col)"
   ]
  },
  {
   "cell_type": "code",
   "execution_count": 315,
   "metadata": {},
   "outputs": [
    {
     "name": "stdout",
     "output_type": "stream",
     "text": [
      "Tercile on column: SUS\n",
      "New tercile column: SUS_Tercile\n",
      "Event log shape: (18988, 51)\n",
      "Event log new tercile: [NaN, 1, 3, 2]\n",
      "Categories (3, int64): [1 < 2 < 3]\n",
      "\n",
      "Tercile on column: Apprendimento percepito\n",
      "New tercile column: Apprendimento percepito_Tercile\n",
      "Event log shape: (19166, 52)\n",
      "Event log new tercile: [NaN, 1, 2, 3]\n",
      "Categories (3, int64): [1 < 2 < 3]\n",
      "\n",
      "Tercile on column: UEQ - Overall\n",
      "New tercile column: UEQ - Overall_Tercile\n",
      "Event log shape: (19522, 53)\n",
      "Event log new tercile: [NaN, 2, 1, 3]\n",
      "Categories (3, int64): [1 < 2 < 3]\n",
      "\n"
     ]
    },
    {
     "name": "stderr",
     "output_type": "stream",
     "text": [
      "/var/folders/_n/gwd13q2j4zd4f80gls4mbcmw0000gn/T/ipykernel_14722/1594292989.py:26: SettingWithCopyWarning: \n",
      "A value is trying to be set on a copy of a slice from a DataFrame.\n",
      "Try using .loc[row_indexer,col_indexer] = value instead\n",
      "\n",
      "See the caveats in the documentation: https://pandas.pydata.org/pandas-docs/stable/user_guide/indexing.html#returning-a-view-versus-a-copy\n",
      "  df_unique_non_nan[col_tercile] = pd.qcut(df_unique_non_nan[value_column], q=3, labels=[1, 2, 3], duplicates='drop')\n",
      "/var/folders/_n/gwd13q2j4zd4f80gls4mbcmw0000gn/T/ipykernel_14722/1594292989.py:26: SettingWithCopyWarning: \n",
      "A value is trying to be set on a copy of a slice from a DataFrame.\n",
      "Try using .loc[row_indexer,col_indexer] = value instead\n",
      "\n",
      "See the caveats in the documentation: https://pandas.pydata.org/pandas-docs/stable/user_guide/indexing.html#returning-a-view-versus-a-copy\n",
      "  df_unique_non_nan[col_tercile] = pd.qcut(df_unique_non_nan[value_column], q=3, labels=[1, 2, 3], duplicates='drop')\n",
      "/var/folders/_n/gwd13q2j4zd4f80gls4mbcmw0000gn/T/ipykernel_14722/1594292989.py:26: SettingWithCopyWarning: \n",
      "A value is trying to be set on a copy of a slice from a DataFrame.\n",
      "Try using .loc[row_indexer,col_indexer] = value instead\n",
      "\n",
      "See the caveats in the documentation: https://pandas.pydata.org/pandas-docs/stable/user_guide/indexing.html#returning-a-view-versus-a-copy\n",
      "  df_unique_non_nan[col_tercile] = pd.qcut(df_unique_non_nan[value_column], q=3, labels=[1, 2, 3], duplicates='drop')\n"
     ]
    }
   ],
   "source": [
    "for col_name in list_col:\n",
    "    print(\"Tercile on column:\", col_name)\n",
    "    df_log, col_tercile = label_terciles_by_session(df_log, session_column='sessionID', value_column=col_name)\n",
    "    print(\"New tercile column:\", col_tercile)\n",
    "    print(\"Event log shape:\", df_log.shape)\n",
    "    print(\"Event log new tercile:\", df_log[col_tercile].unique())\n",
    "    print()"
   ]
  },
  {
   "cell_type": "code",
   "execution_count": 316,
   "metadata": {},
   "outputs": [
    {
     "data": {
      "text/html": [
       "<div>\n",
       "<style scoped>\n",
       "    .dataframe tbody tr th:only-of-type {\n",
       "        vertical-align: middle;\n",
       "    }\n",
       "\n",
       "    .dataframe tbody tr th {\n",
       "        vertical-align: top;\n",
       "    }\n",
       "\n",
       "    .dataframe thead th {\n",
       "        text-align: right;\n",
       "    }\n",
       "</style>\n",
       "<table border=\"1\" class=\"dataframe\">\n",
       "  <thead>\n",
       "    <tr style=\"text-align: right;\">\n",
       "      <th></th>\n",
       "      <th>sessionID</th>\n",
       "      <th>pageTitle</th>\n",
       "      <th>menu</th>\n",
       "      <th>pageOrder</th>\n",
       "      <th>pagePara</th>\n",
       "      <th>eventPage</th>\n",
       "      <th>eventTimestamp</th>\n",
       "      <th>click_num</th>\n",
       "      <th>dbclick_num</th>\n",
       "      <th>QuizSessionCount</th>\n",
       "      <th>...</th>\n",
       "      <th>UEQ - Pragmatic</th>\n",
       "      <th>UEQ - Hedonic</th>\n",
       "      <th>UEQ - Overall</th>\n",
       "      <th>TotalTimeHH</th>\n",
       "      <th>TotalTimeDD</th>\n",
       "      <th>CaseLength</th>\n",
       "      <th>Class</th>\n",
       "      <th>SUS_Tercile</th>\n",
       "      <th>Apprendimento percepito_Tercile</th>\n",
       "      <th>UEQ - Overall_Tercile</th>\n",
       "    </tr>\n",
       "  </thead>\n",
       "  <tbody>\n",
       "    <tr>\n",
       "      <th>0</th>\n",
       "      <td>keaojps50dlKstwSXYup2AVdGzQIsjuXRW88YwXfvOYmVb...</td>\n",
       "      <td>INTRO</td>\n",
       "      <td>menu_1</td>\n",
       "      <td>1</td>\n",
       "      <td>0</td>\n",
       "      <td>PageIN</td>\n",
       "      <td>2023-06-19 16:25:59</td>\n",
       "      <td>0</td>\n",
       "      <td>0</td>\n",
       "      <td>3</td>\n",
       "      <td>...</td>\n",
       "      <td>NaN</td>\n",
       "      <td>NaN</td>\n",
       "      <td>NaN</td>\n",
       "      <td>0.0</td>\n",
       "      <td>0.0</td>\n",
       "      <td>6</td>\n",
       "      <td>NaN</td>\n",
       "      <td>NaN</td>\n",
       "      <td>NaN</td>\n",
       "      <td>NaN</td>\n",
       "    </tr>\n",
       "    <tr>\n",
       "      <th>1</th>\n",
       "      <td>keaojps50dlKstwSXYup2AVdGzQIsjuXRW88YwXfvOYmVb...</td>\n",
       "      <td>INTRO-Q</td>\n",
       "      <td>menu_1</td>\n",
       "      <td>1</td>\n",
       "      <td>0</td>\n",
       "      <td>PageIN</td>\n",
       "      <td>2023-06-19 16:26:02</td>\n",
       "      <td>0</td>\n",
       "      <td>0</td>\n",
       "      <td>3</td>\n",
       "      <td>...</td>\n",
       "      <td>NaN</td>\n",
       "      <td>NaN</td>\n",
       "      <td>NaN</td>\n",
       "      <td>0.0</td>\n",
       "      <td>0.0</td>\n",
       "      <td>6</td>\n",
       "      <td>NaN</td>\n",
       "      <td>NaN</td>\n",
       "      <td>NaN</td>\n",
       "      <td>NaN</td>\n",
       "    </tr>\n",
       "    <tr>\n",
       "      <th>2</th>\n",
       "      <td>keaojps50dlKstwSXYup2AVdGzQIsjuXRW88YwXfvOYmVb...</td>\n",
       "      <td>PROG</td>\n",
       "      <td>menu_1</td>\n",
       "      <td>2</td>\n",
       "      <td>0</td>\n",
       "      <td>PageIN</td>\n",
       "      <td>2023-06-19 16:26:09</td>\n",
       "      <td>0</td>\n",
       "      <td>0</td>\n",
       "      <td>3</td>\n",
       "      <td>...</td>\n",
       "      <td>NaN</td>\n",
       "      <td>NaN</td>\n",
       "      <td>NaN</td>\n",
       "      <td>0.0</td>\n",
       "      <td>0.0</td>\n",
       "      <td>6</td>\n",
       "      <td>NaN</td>\n",
       "      <td>NaN</td>\n",
       "      <td>NaN</td>\n",
       "      <td>NaN</td>\n",
       "    </tr>\n",
       "    <tr>\n",
       "      <th>3</th>\n",
       "      <td>keaojps50dlKstwSXYup2AVdGzQIsjuXRW88YwXfvOYmVb...</td>\n",
       "      <td>PROG-Q</td>\n",
       "      <td>menu_1</td>\n",
       "      <td>2</td>\n",
       "      <td>0</td>\n",
       "      <td>PageIN</td>\n",
       "      <td>2023-06-19 16:26:11</td>\n",
       "      <td>0</td>\n",
       "      <td>0</td>\n",
       "      <td>3</td>\n",
       "      <td>...</td>\n",
       "      <td>NaN</td>\n",
       "      <td>NaN</td>\n",
       "      <td>NaN</td>\n",
       "      <td>0.0</td>\n",
       "      <td>0.0</td>\n",
       "      <td>6</td>\n",
       "      <td>NaN</td>\n",
       "      <td>NaN</td>\n",
       "      <td>NaN</td>\n",
       "      <td>NaN</td>\n",
       "    </tr>\n",
       "    <tr>\n",
       "      <th>4</th>\n",
       "      <td>keaojps50dlKstwSXYup2AVdGzQIsjuXRW88YwXfvOYmVb...</td>\n",
       "      <td>VARS</td>\n",
       "      <td>menu_1</td>\n",
       "      <td>3</td>\n",
       "      <td>0</td>\n",
       "      <td>PageIN</td>\n",
       "      <td>2023-06-19 16:26:14</td>\n",
       "      <td>0</td>\n",
       "      <td>0</td>\n",
       "      <td>3</td>\n",
       "      <td>...</td>\n",
       "      <td>NaN</td>\n",
       "      <td>NaN</td>\n",
       "      <td>NaN</td>\n",
       "      <td>0.0</td>\n",
       "      <td>0.0</td>\n",
       "      <td>6</td>\n",
       "      <td>NaN</td>\n",
       "      <td>NaN</td>\n",
       "      <td>NaN</td>\n",
       "      <td>NaN</td>\n",
       "    </tr>\n",
       "  </tbody>\n",
       "</table>\n",
       "<p>5 rows × 53 columns</p>\n",
       "</div>"
      ],
      "text/plain": [
       "                                           sessionID pageTitle    menu  \\\n",
       "0  keaojps50dlKstwSXYup2AVdGzQIsjuXRW88YwXfvOYmVb...     INTRO  menu_1   \n",
       "1  keaojps50dlKstwSXYup2AVdGzQIsjuXRW88YwXfvOYmVb...   INTRO-Q  menu_1   \n",
       "2  keaojps50dlKstwSXYup2AVdGzQIsjuXRW88YwXfvOYmVb...      PROG  menu_1   \n",
       "3  keaojps50dlKstwSXYup2AVdGzQIsjuXRW88YwXfvOYmVb...    PROG-Q  menu_1   \n",
       "4  keaojps50dlKstwSXYup2AVdGzQIsjuXRW88YwXfvOYmVb...      VARS  menu_1   \n",
       "\n",
       "   pageOrder  pagePara eventPage       eventTimestamp  click_num  dbclick_num  \\\n",
       "0          1         0    PageIN  2023-06-19 16:25:59          0            0   \n",
       "1          1         0    PageIN  2023-06-19 16:26:02          0            0   \n",
       "2          2         0    PageIN  2023-06-19 16:26:09          0            0   \n",
       "3          2         0    PageIN  2023-06-19 16:26:11          0            0   \n",
       "4          3         0    PageIN  2023-06-19 16:26:14          0            0   \n",
       "\n",
       "   QuizSessionCount  ...  UEQ - Pragmatic  UEQ - Hedonic  UEQ - Overall  \\\n",
       "0                 3  ...              NaN            NaN            NaN   \n",
       "1                 3  ...              NaN            NaN            NaN   \n",
       "2                 3  ...              NaN            NaN            NaN   \n",
       "3                 3  ...              NaN            NaN            NaN   \n",
       "4                 3  ...              NaN            NaN            NaN   \n",
       "\n",
       "  TotalTimeHH TotalTimeDD CaseLength  Class  SUS_Tercile  \\\n",
       "0         0.0         0.0          6    NaN          NaN   \n",
       "1         0.0         0.0          6    NaN          NaN   \n",
       "2         0.0         0.0          6    NaN          NaN   \n",
       "3         0.0         0.0          6    NaN          NaN   \n",
       "4         0.0         0.0          6    NaN          NaN   \n",
       "\n",
       "   Apprendimento percepito_Tercile  UEQ - Overall_Tercile  \n",
       "0                              NaN                    NaN  \n",
       "1                              NaN                    NaN  \n",
       "2                              NaN                    NaN  \n",
       "3                              NaN                    NaN  \n",
       "4                              NaN                    NaN  \n",
       "\n",
       "[5 rows x 53 columns]"
      ]
     },
     "execution_count": 316,
     "metadata": {},
     "output_type": "execute_result"
    }
   ],
   "source": [
    "df_log.head(5)"
   ]
  },
  {
   "cell_type": "markdown",
   "metadata": {},
   "source": [
    "## Saving updated event log"
   ]
  },
  {
   "cell_type": "code",
   "execution_count": 317,
   "metadata": {},
   "outputs": [
    {
     "name": "stdout",
     "output_type": "stream",
     "text": [
      ">> Saving updated event log\n",
      "Saving event log to: data_log/edu_event_log_PAGE_raw_filtered_terziles.csv\n"
     ]
    }
   ],
   "source": [
    "print(\">> Saving updated event log\")\n",
    "file_name = Path(log_file_name).stem\n",
    "path_out = Path(log_dir) / f\"{file_name}_terziles.csv\"\n",
    "print(\"Saving event log to:\", path_out)\n",
    "df_log.to_csv(path_out, sep=csv_sep, index=False)"
   ]
  }
 ],
 "metadata": {
  "kernelspec": {
   "display_name": "Python 3",
   "language": "python",
   "name": "python3"
  },
  "language_info": {
   "codemirror_mode": {
    "name": "ipython",
    "version": 3
   },
   "file_extension": ".py",
   "mimetype": "text/x-python",
   "name": "python",
   "nbconvert_exporter": "python",
   "pygments_lexer": "ipython3",
   "version": "3.12.2"
  }
 },
 "nbformat": 4,
 "nbformat_minor": 2
}
