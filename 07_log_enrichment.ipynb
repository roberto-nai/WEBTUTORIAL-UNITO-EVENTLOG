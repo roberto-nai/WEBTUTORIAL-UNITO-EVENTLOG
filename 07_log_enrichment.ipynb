{
 "cells": [
  {
   "cell_type": "markdown",
   "metadata": {},
   "source": [
    "# Event log analysis "
   ]
  },
  {
   "cell_type": "code",
   "execution_count": 209,
   "metadata": {},
   "outputs": [],
   "source": [
    "### IMPORT ###\n",
    "from pathlib import Path\n",
    "import pandas as pd\n",
    "import matplotlib.pyplot as plt\n",
    "\n",
    "\n",
    "### LOCAL IMPORT ###\n",
    "from config import config_reader"
   ]
  },
  {
   "cell_type": "code",
   "execution_count": 210,
   "metadata": {},
   "outputs": [],
   "source": [
    "### GLOBALS ###\n",
    "yaml_config = config_reader.config_read_yaml(\"config.yml\", \"config\")\n",
    "# print(yaml_config) # debug\n",
    "log_dir = str(yaml_config[\"LOG_DIR\"])\n",
    "data_dir = str(yaml_config[\"DATA_DIR\"]) # directory with survey and other data\n",
    "\n",
    "# INPUT\n",
    "log_file_name = \"edu_event_log_PAGE_raw_filtered_terziles-DEF-332-cases.csv\" # Set the file name"
   ]
  },
  {
   "cell_type": "markdown",
   "metadata": {},
   "source": [
    "# FUNCTIONS"
   ]
  },
  {
   "cell_type": "markdown",
   "metadata": {},
   "source": [
    "# MAIN"
   ]
  },
  {
   "cell_type": "code",
   "execution_count": 211,
   "metadata": {},
   "outputs": [
    {
     "name": "stdout",
     "output_type": "stream",
     "text": [
      ">> Setings\n",
      "Input event log file: edu_event_log_PAGE_raw_filtered_terziles-DEF-332-cases.csv\n",
      "Path file: data_log/edu_event_log_PAGE_raw_filtered_terziles-DEF-332-cases.csv\n"
     ]
    }
   ],
   "source": [
    "print(\">> Setings\")\n",
    "print(\"Input event log file:\", log_file_name)\n",
    "path_log_file = Path(log_dir) /log_file_name \n",
    "print(\"Path file:\", path_log_file)"
   ]
  },
  {
   "cell_type": "code",
   "execution_count": 212,
   "metadata": {},
   "outputs": [
    {
     "name": "stdout",
     "output_type": "stream",
     "text": [
      ">> Reading event log\n"
     ]
    }
   ],
   "source": [
    "print(\">> Reading event log\")\n",
    "dic_t = {'Case ID':object, 'CaseLength':int, 'SUS_Tercile':int, 'Apprendimento percepito_Tercile':int, 'UEQ - Overall_Tercile':int} \n",
    "df_log = pd.read_csv(path_log_file, sep=\",\", dtype=dic_t)"
   ]
  },
  {
   "cell_type": "code",
   "execution_count": 213,
   "metadata": {},
   "outputs": [
    {
     "name": "stdout",
     "output_type": "stream",
     "text": [
      ">> Removing columns from event log\n",
      "Removig column: Variant\n",
      "Removig column: Variant index\n"
     ]
    }
   ],
   "source": [
    "print(\">> Removing columns from event log\")\n",
    "col_del_list = ['Variant', 'Variant index']\n",
    "for col_del in col_del_list:\n",
    "  if col_del in df_log.columns:\n",
    "    print(\"Removig column:\", col_del)\n",
    "    df_log.drop(columns=col_del, inplace=True)"
   ]
  },
  {
   "cell_type": "code",
   "execution_count": 214,
   "metadata": {},
   "outputs": [
    {
     "data": {
      "text/plain": [
       "(8091, 55)"
      ]
     },
     "execution_count": 214,
     "metadata": {},
     "output_type": "execute_result"
    }
   ],
   "source": [
    "df_log.shape"
   ]
  },
  {
   "cell_type": "code",
   "execution_count": 215,
   "metadata": {},
   "outputs": [
    {
     "name": "stdout",
     "output_type": "stream",
     "text": [
      "Distinct cases in event log: 332\n"
     ]
    }
   ],
   "source": [
    "print(\"Distinct cases in event log:\", df_log[\"Case ID\"].nunique())"
   ]
  },
  {
   "cell_type": "code",
   "execution_count": 216,
   "metadata": {},
   "outputs": [
    {
     "data": {
      "text/html": [
       "<div>\n",
       "<style scoped>\n",
       "    .dataframe tbody tr th:only-of-type {\n",
       "        vertical-align: middle;\n",
       "    }\n",
       "\n",
       "    .dataframe tbody tr th {\n",
       "        vertical-align: top;\n",
       "    }\n",
       "\n",
       "    .dataframe thead th {\n",
       "        text-align: right;\n",
       "    }\n",
       "</style>\n",
       "<table border=\"1\" class=\"dataframe\">\n",
       "  <thead>\n",
       "    <tr style=\"text-align: right;\">\n",
       "      <th></th>\n",
       "      <th>Case ID</th>\n",
       "      <th>Activity</th>\n",
       "      <th>Complete Timestamp</th>\n",
       "      <th>menu</th>\n",
       "      <th>pageOrder</th>\n",
       "      <th>pagePara</th>\n",
       "      <th>eventPage</th>\n",
       "      <th>click_num</th>\n",
       "      <th>dbclick_num</th>\n",
       "      <th>QuizSessionCount</th>\n",
       "      <th>...</th>\n",
       "      <th>UEQ - Hedonic</th>\n",
       "      <th>UEQ - Overall</th>\n",
       "      <th>TotalTimeHH</th>\n",
       "      <th>TotalTimeDD</th>\n",
       "      <th>CaseLength</th>\n",
       "      <th>Class</th>\n",
       "      <th>SUS_Tercile</th>\n",
       "      <th>Apprendimento percepito_Tercile</th>\n",
       "      <th>UEQ - Overall_Tercile</th>\n",
       "      <th>QuizAnswerCorrectRatioOverAll_Tercile</th>\n",
       "    </tr>\n",
       "  </thead>\n",
       "  <tbody>\n",
       "    <tr>\n",
       "      <th>0</th>\n",
       "      <td>GVWlrRcW8aRsQs8SMs7siZUm0UYaRZTABK8BDfLhtcgmcT...</td>\n",
       "      <td>INTRO</td>\n",
       "      <td>2024-04-18 13:58:12.000</td>\n",
       "      <td>menu_1</td>\n",
       "      <td>1</td>\n",
       "      <td>0</td>\n",
       "      <td>PageIN</td>\n",
       "      <td>0</td>\n",
       "      <td>0</td>\n",
       "      <td>10</td>\n",
       "      <td>...</td>\n",
       "      <td>1.25</td>\n",
       "      <td>0.375</td>\n",
       "      <td>0.04</td>\n",
       "      <td>0.0</td>\n",
       "      <td>22</td>\n",
       "      <td>SMTO2</td>\n",
       "      <td>1</td>\n",
       "      <td>1</td>\n",
       "      <td>2</td>\n",
       "      <td>1.0</td>\n",
       "    </tr>\n",
       "    <tr>\n",
       "      <th>1</th>\n",
       "      <td>GVWlrRcW8aRsQs8SMs7siZUm0UYaRZTABK8BDfLhtcgmcT...</td>\n",
       "      <td>INTRO-Q</td>\n",
       "      <td>2024-04-18 13:58:26.000</td>\n",
       "      <td>menu_1</td>\n",
       "      <td>1</td>\n",
       "      <td>0</td>\n",
       "      <td>PageIN</td>\n",
       "      <td>0</td>\n",
       "      <td>0</td>\n",
       "      <td>10</td>\n",
       "      <td>...</td>\n",
       "      <td>1.25</td>\n",
       "      <td>0.375</td>\n",
       "      <td>0.04</td>\n",
       "      <td>0.0</td>\n",
       "      <td>22</td>\n",
       "      <td>SMTO2</td>\n",
       "      <td>1</td>\n",
       "      <td>1</td>\n",
       "      <td>2</td>\n",
       "      <td>1.0</td>\n",
       "    </tr>\n",
       "    <tr>\n",
       "      <th>2</th>\n",
       "      <td>GVWlrRcW8aRsQs8SMs7siZUm0UYaRZTABK8BDfLhtcgmcT...</td>\n",
       "      <td>PROG</td>\n",
       "      <td>2024-04-18 13:58:29.000</td>\n",
       "      <td>menu_1</td>\n",
       "      <td>2</td>\n",
       "      <td>0</td>\n",
       "      <td>PageIN</td>\n",
       "      <td>0</td>\n",
       "      <td>0</td>\n",
       "      <td>10</td>\n",
       "      <td>...</td>\n",
       "      <td>1.25</td>\n",
       "      <td>0.375</td>\n",
       "      <td>0.04</td>\n",
       "      <td>0.0</td>\n",
       "      <td>22</td>\n",
       "      <td>SMTO2</td>\n",
       "      <td>1</td>\n",
       "      <td>1</td>\n",
       "      <td>2</td>\n",
       "      <td>1.0</td>\n",
       "    </tr>\n",
       "    <tr>\n",
       "      <th>3</th>\n",
       "      <td>GVWlrRcW8aRsQs8SMs7siZUm0UYaRZTABK8BDfLhtcgmcT...</td>\n",
       "      <td>PROG-Q</td>\n",
       "      <td>2024-04-18 13:58:31.000</td>\n",
       "      <td>menu_1</td>\n",
       "      <td>2</td>\n",
       "      <td>0</td>\n",
       "      <td>PageIN</td>\n",
       "      <td>0</td>\n",
       "      <td>0</td>\n",
       "      <td>10</td>\n",
       "      <td>...</td>\n",
       "      <td>1.25</td>\n",
       "      <td>0.375</td>\n",
       "      <td>0.04</td>\n",
       "      <td>0.0</td>\n",
       "      <td>22</td>\n",
       "      <td>SMTO2</td>\n",
       "      <td>1</td>\n",
       "      <td>1</td>\n",
       "      <td>2</td>\n",
       "      <td>1.0</td>\n",
       "    </tr>\n",
       "    <tr>\n",
       "      <th>4</th>\n",
       "      <td>GVWlrRcW8aRsQs8SMs7siZUm0UYaRZTABK8BDfLhtcgmcT...</td>\n",
       "      <td>VARS</td>\n",
       "      <td>2024-04-18 13:58:34.000</td>\n",
       "      <td>menu_1</td>\n",
       "      <td>3</td>\n",
       "      <td>0</td>\n",
       "      <td>PageIN</td>\n",
       "      <td>0</td>\n",
       "      <td>0</td>\n",
       "      <td>10</td>\n",
       "      <td>...</td>\n",
       "      <td>1.25</td>\n",
       "      <td>0.375</td>\n",
       "      <td>0.04</td>\n",
       "      <td>0.0</td>\n",
       "      <td>22</td>\n",
       "      <td>SMTO2</td>\n",
       "      <td>1</td>\n",
       "      <td>1</td>\n",
       "      <td>2</td>\n",
       "      <td>1.0</td>\n",
       "    </tr>\n",
       "  </tbody>\n",
       "</table>\n",
       "<p>5 rows × 55 columns</p>\n",
       "</div>"
      ],
      "text/plain": [
       "                                             Case ID Activity  \\\n",
       "0  GVWlrRcW8aRsQs8SMs7siZUm0UYaRZTABK8BDfLhtcgmcT...    INTRO   \n",
       "1  GVWlrRcW8aRsQs8SMs7siZUm0UYaRZTABK8BDfLhtcgmcT...  INTRO-Q   \n",
       "2  GVWlrRcW8aRsQs8SMs7siZUm0UYaRZTABK8BDfLhtcgmcT...     PROG   \n",
       "3  GVWlrRcW8aRsQs8SMs7siZUm0UYaRZTABK8BDfLhtcgmcT...   PROG-Q   \n",
       "4  GVWlrRcW8aRsQs8SMs7siZUm0UYaRZTABK8BDfLhtcgmcT...     VARS   \n",
       "\n",
       "        Complete Timestamp    menu  pageOrder  pagePara eventPage  click_num  \\\n",
       "0  2024-04-18 13:58:12.000  menu_1          1         0    PageIN          0   \n",
       "1  2024-04-18 13:58:26.000  menu_1          1         0    PageIN          0   \n",
       "2  2024-04-18 13:58:29.000  menu_1          2         0    PageIN          0   \n",
       "3  2024-04-18 13:58:31.000  menu_1          2         0    PageIN          0   \n",
       "4  2024-04-18 13:58:34.000  menu_1          3         0    PageIN          0   \n",
       "\n",
       "   dbclick_num  QuizSessionCount  ...  UEQ - Hedonic  UEQ - Overall  \\\n",
       "0            0                10  ...           1.25          0.375   \n",
       "1            0                10  ...           1.25          0.375   \n",
       "2            0                10  ...           1.25          0.375   \n",
       "3            0                10  ...           1.25          0.375   \n",
       "4            0                10  ...           1.25          0.375   \n",
       "\n",
       "   TotalTimeHH  TotalTimeDD CaseLength  Class SUS_Tercile  \\\n",
       "0         0.04          0.0         22  SMTO2           1   \n",
       "1         0.04          0.0         22  SMTO2           1   \n",
       "2         0.04          0.0         22  SMTO2           1   \n",
       "3         0.04          0.0         22  SMTO2           1   \n",
       "4         0.04          0.0         22  SMTO2           1   \n",
       "\n",
       "   Apprendimento percepito_Tercile  UEQ - Overall_Tercile  \\\n",
       "0                                1                      2   \n",
       "1                                1                      2   \n",
       "2                                1                      2   \n",
       "3                                1                      2   \n",
       "4                                1                      2   \n",
       "\n",
       "   QuizAnswerCorrectRatioOverAll_Tercile  \n",
       "0                                    1.0  \n",
       "1                                    1.0  \n",
       "2                                    1.0  \n",
       "3                                    1.0  \n",
       "4                                    1.0  \n",
       "\n",
       "[5 rows x 55 columns]"
      ]
     },
     "execution_count": 216,
     "metadata": {},
     "output_type": "execute_result"
    }
   ],
   "source": [
    "df_log.head(5)"
   ]
  },
  {
   "cell_type": "code",
   "execution_count": 217,
   "metadata": {},
   "outputs": [
    {
     "data": {
      "text/plain": [
       "Index(['Case ID', 'Activity', 'Complete Timestamp', 'menu', 'pageOrder',\n",
       "       'pagePara', 'eventPage', 'click_num', 'dbclick_num', 'QuizSessionCount',\n",
       "       'QuizAnswerCorrectTotal', 'QuizAnswerWrongTotal',\n",
       "       'QuizAnswerCorrectRatioOverCount', 'QuizAnswerCorrectRatioOverAll',\n",
       "       'Q_1', 'Q_2', 'Q_3', 'Q_4', 'Q_5', 'Q_6', 'Q_7', 'Q_8', 'Q_9', 'Q_10',\n",
       "       'Q_11', 'Q_12', 'Q_13', 'Q_14', 'Q_15', 'Q_16', 'Q_17', 'Q_18', 'Q_19',\n",
       "       'Q_20', 'Q_21', 'Q_22', 'Q_23', 'Q_24', 'Q_25', 'Q_26', 'Q_27', 'Q_28',\n",
       "       'SUS', 'Apprendimento percepito', 'UEQ - Pragmatic', 'UEQ - Hedonic',\n",
       "       'UEQ - Overall', 'TotalTimeHH', 'TotalTimeDD', 'CaseLength', 'Class',\n",
       "       'SUS_Tercile', 'Apprendimento percepito_Tercile',\n",
       "       'UEQ - Overall_Tercile', 'QuizAnswerCorrectRatioOverAll_Tercile'],\n",
       "      dtype='object')"
      ]
     },
     "execution_count": 217,
     "metadata": {},
     "output_type": "execute_result"
    }
   ],
   "source": [
    "df_log.columns"
   ]
  },
  {
   "cell_type": "code",
   "execution_count": 218,
   "metadata": {},
   "outputs": [
    {
     "data": {
      "text/plain": [
       "Case ID                                   0\n",
       "Activity                                  0\n",
       "Complete Timestamp                        0\n",
       "menu                                      0\n",
       "pageOrder                                 0\n",
       "pagePara                                  0\n",
       "eventPage                                 0\n",
       "click_num                                 0\n",
       "dbclick_num                               0\n",
       "QuizSessionCount                          0\n",
       "QuizAnswerCorrectTotal                    0\n",
       "QuizAnswerWrongTotal                      0\n",
       "QuizAnswerCorrectRatioOverCount          11\n",
       "QuizAnswerCorrectRatioOverAll            11\n",
       "Q_1                                       0\n",
       "Q_2                                       0\n",
       "Q_3                                       0\n",
       "Q_4                                       0\n",
       "Q_5                                       0\n",
       "Q_6                                       0\n",
       "Q_7                                       0\n",
       "Q_8                                       0\n",
       "Q_9                                       0\n",
       "Q_10                                      0\n",
       "Q_11                                      0\n",
       "Q_12                                      0\n",
       "Q_13                                      0\n",
       "Q_14                                      0\n",
       "Q_15                                      0\n",
       "Q_16                                      0\n",
       "Q_17                                      0\n",
       "Q_18                                      0\n",
       "Q_19                                      0\n",
       "Q_20                                      0\n",
       "Q_21                                      0\n",
       "Q_22                                      0\n",
       "Q_23                                      0\n",
       "Q_24                                      0\n",
       "Q_25                                      0\n",
       "Q_26                                      0\n",
       "Q_27                                      0\n",
       "Q_28                                      0\n",
       "SUS                                       0\n",
       "Apprendimento percepito                   0\n",
       "UEQ - Pragmatic                           0\n",
       "UEQ - Hedonic                             0\n",
       "UEQ - Overall                             0\n",
       "TotalTimeHH                               0\n",
       "TotalTimeDD                               0\n",
       "CaseLength                                0\n",
       "Class                                     0\n",
       "SUS_Tercile                               0\n",
       "Apprendimento percepito_Tercile           0\n",
       "UEQ - Overall_Tercile                     0\n",
       "QuizAnswerCorrectRatioOverAll_Tercile    11\n",
       "dtype: int64"
      ]
     },
     "execution_count": 218,
     "metadata": {},
     "output_type": "execute_result"
    }
   ],
   "source": [
    "null_counts = df_log.isnull().sum()\n",
    "null_counts"
   ]
  },
  {
   "cell_type": "markdown",
   "metadata": {},
   "source": [
    "## Merging event log with new features"
   ]
  },
  {
   "cell_type": "code",
   "execution_count": 219,
   "metadata": {},
   "outputs": [
    {
     "name": "stdout",
     "output_type": "stream",
     "text": [
      ">> Adding class cardinality\n"
     ]
    },
    {
     "data": {
      "text/plain": [
       "array(['SMTO2', 'SMTO1', 'SMCN1', 'SMCN2', 'SMTO3', 'ECO', 'SAA'],\n",
       "      dtype=object)"
      ]
     },
     "execution_count": 219,
     "metadata": {},
     "output_type": "execute_result"
    }
   ],
   "source": [
    "print(\">> Adding class cardinality\")\n",
    "df_log[\"Class\"].unique()"
   ]
  },
  {
   "cell_type": "code",
   "execution_count": 220,
   "metadata": {},
   "outputs": [
    {
     "data": {
      "text/plain": [
       "{'ECO': 125,\n",
       " 'SAA': 97,\n",
       " 'SMCN1': 17,\n",
       " 'SMCN2': 26,\n",
       " 'SMTO1': 27,\n",
       " 'SMTO2': 22,\n",
       " 'SMTO3': 18}"
      ]
     },
     "execution_count": 220,
     "metadata": {},
     "output_type": "execute_result"
    }
   ],
   "source": [
    "# Calculate the count (numerosity) of each unique value in the \"Class\" column\n",
    "distinct_class_counts = df_log[['Class', 'Case ID']].drop_duplicates().groupby('Class').size().to_dict()\n",
    "distinct_class_counts"
   ]
  },
  {
   "cell_type": "code",
   "execution_count": 221,
   "metadata": {},
   "outputs": [
    {
     "name": "stdout",
     "output_type": "stream",
     "text": [
      "Total: 332\n"
     ]
    }
   ],
   "source": [
    "total_distinct_class_counts = sum(distinct_class_counts.values())\n",
    "print(\"Total:\", total_distinct_class_counts)"
   ]
  },
  {
   "cell_type": "code",
   "execution_count": 222,
   "metadata": {},
   "outputs": [
    {
     "data": {
      "image/png": "[encoded data removed]",
      "text/plain": [
       "<Figure size 800x600 with 1 Axes>"
      ]
     },
     "metadata": {},
     "output_type": "display_data"
    }
   ],
   "source": [
    "# Plotting a horizontal bar chart for the distinct class counts\n",
    "plt.figure(figsize=(8, 6))\n",
    "plt.barh(list(distinct_class_counts.keys()), list(distinct_class_counts.values()))\n",
    "plt.xlabel(\"Number of Distinct Case IDs\")\n",
    "plt.ylabel(\"Class\")\n",
    "plt.title(\"Distinct Case ID Counts per Class\")\n",
    "plt.show()"
   ]
  },
  {
   "cell_type": "code",
   "execution_count": 223,
   "metadata": {},
   "outputs": [],
   "source": [
    "# Step 2: Map the calculated counts back to the df_log based on the \"Class\" values\n",
    "df_log['Class_Count'] = df_log['Class'].map(distinct_class_counts)"
   ]
  },
  {
   "cell_type": "code",
   "execution_count": 224,
   "metadata": {},
   "outputs": [
    {
     "data": {
      "text/html": [
       "<div>\n",
       "<style scoped>\n",
       "    .dataframe tbody tr th:only-of-type {\n",
       "        vertical-align: middle;\n",
       "    }\n",
       "\n",
       "    .dataframe tbody tr th {\n",
       "        vertical-align: top;\n",
       "    }\n",
       "\n",
       "    .dataframe thead th {\n",
       "        text-align: right;\n",
       "    }\n",
       "</style>\n",
       "<table border=\"1\" class=\"dataframe\">\n",
       "  <thead>\n",
       "    <tr style=\"text-align: right;\">\n",
       "      <th></th>\n",
       "      <th>Case ID</th>\n",
       "      <th>Activity</th>\n",
       "      <th>Complete Timestamp</th>\n",
       "      <th>menu</th>\n",
       "      <th>pageOrder</th>\n",
       "      <th>pagePara</th>\n",
       "      <th>eventPage</th>\n",
       "      <th>click_num</th>\n",
       "      <th>dbclick_num</th>\n",
       "      <th>QuizSessionCount</th>\n",
       "      <th>...</th>\n",
       "      <th>UEQ - Overall</th>\n",
       "      <th>TotalTimeHH</th>\n",
       "      <th>TotalTimeDD</th>\n",
       "      <th>CaseLength</th>\n",
       "      <th>Class</th>\n",
       "      <th>SUS_Tercile</th>\n",
       "      <th>Apprendimento percepito_Tercile</th>\n",
       "      <th>UEQ - Overall_Tercile</th>\n",
       "      <th>QuizAnswerCorrectRatioOverAll_Tercile</th>\n",
       "      <th>Class_Count</th>\n",
       "    </tr>\n",
       "  </thead>\n",
       "  <tbody>\n",
       "    <tr>\n",
       "      <th>0</th>\n",
       "      <td>GVWlrRcW8aRsQs8SMs7siZUm0UYaRZTABK8BDfLhtcgmcT...</td>\n",
       "      <td>INTRO</td>\n",
       "      <td>2024-04-18 13:58:12.000</td>\n",
       "      <td>menu_1</td>\n",
       "      <td>1</td>\n",
       "      <td>0</td>\n",
       "      <td>PageIN</td>\n",
       "      <td>0</td>\n",
       "      <td>0</td>\n",
       "      <td>10</td>\n",
       "      <td>...</td>\n",
       "      <td>0.375</td>\n",
       "      <td>0.04</td>\n",
       "      <td>0.0</td>\n",
       "      <td>22</td>\n",
       "      <td>SMTO2</td>\n",
       "      <td>1</td>\n",
       "      <td>1</td>\n",
       "      <td>2</td>\n",
       "      <td>1.0</td>\n",
       "      <td>22</td>\n",
       "    </tr>\n",
       "    <tr>\n",
       "      <th>1</th>\n",
       "      <td>GVWlrRcW8aRsQs8SMs7siZUm0UYaRZTABK8BDfLhtcgmcT...</td>\n",
       "      <td>INTRO-Q</td>\n",
       "      <td>2024-04-18 13:58:26.000</td>\n",
       "      <td>menu_1</td>\n",
       "      <td>1</td>\n",
       "      <td>0</td>\n",
       "      <td>PageIN</td>\n",
       "      <td>0</td>\n",
       "      <td>0</td>\n",
       "      <td>10</td>\n",
       "      <td>...</td>\n",
       "      <td>0.375</td>\n",
       "      <td>0.04</td>\n",
       "      <td>0.0</td>\n",
       "      <td>22</td>\n",
       "      <td>SMTO2</td>\n",
       "      <td>1</td>\n",
       "      <td>1</td>\n",
       "      <td>2</td>\n",
       "      <td>1.0</td>\n",
       "      <td>22</td>\n",
       "    </tr>\n",
       "    <tr>\n",
       "      <th>2</th>\n",
       "      <td>GVWlrRcW8aRsQs8SMs7siZUm0UYaRZTABK8BDfLhtcgmcT...</td>\n",
       "      <td>PROG</td>\n",
       "      <td>2024-04-18 13:58:29.000</td>\n",
       "      <td>menu_1</td>\n",
       "      <td>2</td>\n",
       "      <td>0</td>\n",
       "      <td>PageIN</td>\n",
       "      <td>0</td>\n",
       "      <td>0</td>\n",
       "      <td>10</td>\n",
       "      <td>...</td>\n",
       "      <td>0.375</td>\n",
       "      <td>0.04</td>\n",
       "      <td>0.0</td>\n",
       "      <td>22</td>\n",
       "      <td>SMTO2</td>\n",
       "      <td>1</td>\n",
       "      <td>1</td>\n",
       "      <td>2</td>\n",
       "      <td>1.0</td>\n",
       "      <td>22</td>\n",
       "    </tr>\n",
       "    <tr>\n",
       "      <th>3</th>\n",
       "      <td>GVWlrRcW8aRsQs8SMs7siZUm0UYaRZTABK8BDfLhtcgmcT...</td>\n",
       "      <td>PROG-Q</td>\n",
       "      <td>2024-04-18 13:58:31.000</td>\n",
       "      <td>menu_1</td>\n",
       "      <td>2</td>\n",
       "      <td>0</td>\n",
       "      <td>PageIN</td>\n",
       "      <td>0</td>\n",
       "      <td>0</td>\n",
       "      <td>10</td>\n",
       "      <td>...</td>\n",
       "      <td>0.375</td>\n",
       "      <td>0.04</td>\n",
       "      <td>0.0</td>\n",
       "      <td>22</td>\n",
       "      <td>SMTO2</td>\n",
       "      <td>1</td>\n",
       "      <td>1</td>\n",
       "      <td>2</td>\n",
       "      <td>1.0</td>\n",
       "      <td>22</td>\n",
       "    </tr>\n",
       "    <tr>\n",
       "      <th>4</th>\n",
       "      <td>GVWlrRcW8aRsQs8SMs7siZUm0UYaRZTABK8BDfLhtcgmcT...</td>\n",
       "      <td>VARS</td>\n",
       "      <td>2024-04-18 13:58:34.000</td>\n",
       "      <td>menu_1</td>\n",
       "      <td>3</td>\n",
       "      <td>0</td>\n",
       "      <td>PageIN</td>\n",
       "      <td>0</td>\n",
       "      <td>0</td>\n",
       "      <td>10</td>\n",
       "      <td>...</td>\n",
       "      <td>0.375</td>\n",
       "      <td>0.04</td>\n",
       "      <td>0.0</td>\n",
       "      <td>22</td>\n",
       "      <td>SMTO2</td>\n",
       "      <td>1</td>\n",
       "      <td>1</td>\n",
       "      <td>2</td>\n",
       "      <td>1.0</td>\n",
       "      <td>22</td>\n",
       "    </tr>\n",
       "  </tbody>\n",
       "</table>\n",
       "<p>5 rows × 56 columns</p>\n",
       "</div>"
      ],
      "text/plain": [
       "                                             Case ID Activity  \\\n",
       "0  GVWlrRcW8aRsQs8SMs7siZUm0UYaRZTABK8BDfLhtcgmcT...    INTRO   \n",
       "1  GVWlrRcW8aRsQs8SMs7siZUm0UYaRZTABK8BDfLhtcgmcT...  INTRO-Q   \n",
       "2  GVWlrRcW8aRsQs8SMs7siZUm0UYaRZTABK8BDfLhtcgmcT...     PROG   \n",
       "3  GVWlrRcW8aRsQs8SMs7siZUm0UYaRZTABK8BDfLhtcgmcT...   PROG-Q   \n",
       "4  GVWlrRcW8aRsQs8SMs7siZUm0UYaRZTABK8BDfLhtcgmcT...     VARS   \n",
       "\n",
       "        Complete Timestamp    menu  pageOrder  pagePara eventPage  click_num  \\\n",
       "0  2024-04-18 13:58:12.000  menu_1          1         0    PageIN          0   \n",
       "1  2024-04-18 13:58:26.000  menu_1          1         0    PageIN          0   \n",
       "2  2024-04-18 13:58:29.000  menu_1          2         0    PageIN          0   \n",
       "3  2024-04-18 13:58:31.000  menu_1          2         0    PageIN          0   \n",
       "4  2024-04-18 13:58:34.000  menu_1          3         0    PageIN          0   \n",
       "\n",
       "   dbclick_num  QuizSessionCount  ...  UEQ - Overall  TotalTimeHH  \\\n",
       "0            0                10  ...          0.375         0.04   \n",
       "1            0                10  ...          0.375         0.04   \n",
       "2            0                10  ...          0.375         0.04   \n",
       "3            0                10  ...          0.375         0.04   \n",
       "4            0                10  ...          0.375         0.04   \n",
       "\n",
       "   TotalTimeDD  CaseLength  Class SUS_Tercile Apprendimento percepito_Tercile  \\\n",
       "0          0.0          22  SMTO2           1                               1   \n",
       "1          0.0          22  SMTO2           1                               1   \n",
       "2          0.0          22  SMTO2           1                               1   \n",
       "3          0.0          22  SMTO2           1                               1   \n",
       "4          0.0          22  SMTO2           1                               1   \n",
       "\n",
       "   UEQ - Overall_Tercile  QuizAnswerCorrectRatioOverAll_Tercile  Class_Count  \n",
       "0                      2                                    1.0           22  \n",
       "1                      2                                    1.0           22  \n",
       "2                      2                                    1.0           22  \n",
       "3                      2                                    1.0           22  \n",
       "4                      2                                    1.0           22  \n",
       "\n",
       "[5 rows x 56 columns]"
      ]
     },
     "execution_count": 224,
     "metadata": {},
     "output_type": "execute_result"
    }
   ],
   "source": [
    "df_log.head(5)"
   ]
  },
  {
   "cell_type": "markdown",
   "metadata": {},
   "source": [
    "## Saving event log enriched"
   ]
  },
  {
   "cell_type": "code",
   "execution_count": 225,
   "metadata": {},
   "outputs": [
    {
     "name": "stdout",
     "output_type": "stream",
     "text": [
      ">> Saving enriched event log\n",
      "Path: data_log/edu_event_log_PAGE_raw_filtered_terziles-DEF-332-cases_enr.csv\n"
     ]
    }
   ],
   "source": [
    "print(\">> Saving enriched event log\")\n",
    "log_file_name_enr = f\"{Path(log_file_name).stem}_enr.csv\"\n",
    "path_log_file = Path(log_dir) / log_file_name_enr \n",
    "print(\"Path:\", path_log_file)\n",
    "df_log.to_csv(path_log_file, sep = \",\", index=False)"
   ]
  }
 ],
 "metadata": {
  "kernelspec": {
   "display_name": "Python 3",
   "language": "python",
   "name": "python3"
  },
  "language_info": {
   "codemirror_mode": {
    "name": "ipython",
    "version": 3
   },
   "file_extension": ".py",
   "mimetype": "text/x-python",
   "name": "python",
   "nbconvert_exporter": "python",
   "pygments_lexer": "ipython3",
   "version": "3.12.2"
  }
 },
 "nbformat": 4,
 "nbformat_minor": 2
}
