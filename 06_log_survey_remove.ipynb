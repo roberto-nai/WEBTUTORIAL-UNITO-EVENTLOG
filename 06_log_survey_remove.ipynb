{
 "cells": [
  {
   "cell_type": "markdown",
   "metadata": {},
   "source": [
    "## Event log SURVEY extract / remover"
   ]
  },
  {
   "cell_type": "code",
   "execution_count": 1,
   "metadata": {
    "executionInfo": {
     "elapsed": 355,
     "status": "ok",
     "timestamp": 1730981616721,
     "user": {
      "displayName": "Roberto Nai",
      "userId": "01638620693582754310"
     },
     "user_tz": -60
    },
    "id": "N26IMkBHebhG"
   },
   "outputs": [],
   "source": [
    "### IMPORT ###\n",
    "from pathlib import Path\n",
    "import pandas as pd\n",
    "\n",
    "\n",
    "### LOCAL IMPORT ###\n",
    "from config import config_reader"
   ]
  },
  {
   "cell_type": "code",
   "execution_count": 2,
   "metadata": {
    "executionInfo": {
     "elapsed": 341,
     "status": "ok",
     "timestamp": 1730981656253,
     "user": {
      "displayName": "Roberto Nai",
      "userId": "01638620693582754310"
     },
     "user_tz": -60
    },
    "id": "UWDjqy_GejAV"
   },
   "outputs": [],
   "source": [
    "### GLOBALS ###\n",
    "yaml_config = config_reader.config_read_yaml(\"config.yml\", \"config\")\n",
    "# print(yaml_config) # debug\n",
    "log_dir = str(yaml_config[\"LOG_DIR\"])\n",
    "\n",
    "level = \"PAGE\" # PARA, PAGE\n",
    "file_name = f\"edu_event_log_{level}_raw_filtered_DISCO_ter_enr.csv\" # file to be cleaned\n",
    "activity_column = \"Activity\""
   ]
  },
  {
   "cell_type": "code",
   "execution_count": 3,
   "metadata": {},
   "outputs": [],
   "source": [
    "# OUTPUT (file cleaned)\n",
    "file_out = f\"{Path(file_name).stem}_no_SURVEY.csv\" # e.g. \"edu_event_log_PAGE_raw_filtered_terziles-DEF-332-cases_no_SURVEY.csv\" "
   ]
  },
  {
   "cell_type": "markdown",
   "metadata": {},
   "source": [
    "## MAIN"
   ]
  },
  {
   "cell_type": "code",
   "execution_count": 4,
   "metadata": {
    "executionInfo": {
     "elapsed": 437,
     "status": "ok",
     "timestamp": 1730981658405,
     "user": {
      "displayName": "Roberto Nai",
      "userId": "01638620693582754310"
     },
     "user_tz": -60
    },
    "id": "N6vdPPl3ege2"
   },
   "outputs": [
    {
     "name": "stdout",
     "output_type": "stream",
     "text": [
      ">> Reading event log\n",
      "Path: data_log/edu_event_log_PAGE_raw_filtered_DISCO_ter_enr.csv\n"
     ]
    }
   ],
   "source": [
    "# Load the CSV\n",
    "print(\">> Reading event log\")\n",
    "path_log = Path(log_dir) / file_name\n",
    "print(\"Path:\", path_log)\n",
    "dic_t = {'Case ID':object, 'CaseLength':int, 'SUS_Tercile':int, 'Apprendimento percepito_Tercile':int, 'UEQ - Overall_Tercile':int} \n",
    "df_log = pd.read_csv(path_log, sep = \",\", dtype=dic_t, low_memory=False)"
   ]
  },
  {
   "cell_type": "code",
   "execution_count": 5,
   "metadata": {
    "executionInfo": {
     "elapsed": 343,
     "status": "ok",
     "timestamp": 1730981659302,
     "user": {
      "displayName": "Roberto Nai",
      "userId": "01638620693582754310"
     },
     "user_tz": -60
    },
    "id": "pou8ALmvgaHB"
   },
   "outputs": [],
   "source": [
    "#  Removes columns added by DISCO\n",
    "col_del_list = ['Variant', 'Variant index']\n",
    "for col_del in col_del_list:\n",
    "  if col_del in df_log.columns:\n",
    "    df_log.drop(columns=col_del, inplace=True)"
   ]
  },
  {
   "cell_type": "code",
   "execution_count": 6,
   "metadata": {
    "colab": {
     "base_uri": "https://localhost:8080/"
    },
    "executionInfo": {
     "elapsed": 1,
     "status": "ok",
     "timestamp": 1730981660016,
     "user": {
      "displayName": "Roberto Nai",
      "userId": "01638620693582754310"
     },
     "user_tz": -60
    },
    "id": "I-Y2ltghf9ep",
    "outputId": "f125c203-253e-4335-b121-cd28e5ebc7a8"
   },
   "outputs": [
    {
     "data": {
      "text/plain": [
       "Index(['Case ID', 'Activity', 'Complete Timestamp', 'pageTitle', 'menu',\n",
       "       'pageOrder', 'pagePara', 'eventPage', 'click_num', 'dbclick_num',\n",
       "       'QuizSessionCount', 'QuizAnswerCorrectTotal', 'QuizAnswerWrongTotal',\n",
       "       'QuizAnswerCorrectRatioOverCount', 'QuizAnswerCorrectRatioOverAll',\n",
       "       'Q_1', 'Q_2', 'Q_3', 'Q_4', 'Q_5', 'Q_6', 'Q_7', 'Q_8', 'Q_9', 'Q_10',\n",
       "       'Q_11', 'Q_12', 'Q_13', 'Q_14', 'Q_15', 'Q_16', 'Q_17', 'Q_18', 'Q_19',\n",
       "       'Q_20', 'Q_21', 'Q_22', 'Q_23', 'Q_24', 'Q_25', 'Q_26', 'Q_27', 'Q_28',\n",
       "       'SUS', 'Apprendimento percepito', 'UEQ - Pragmatic', 'UEQ - Hedonic',\n",
       "       'UEQ - Overall', 'TotalTimeHH', 'TotalTimeMM', 'TotalTimeMM.1',\n",
       "       'TotalTimeDD', 'CaseLength', 'Class', 'SUS_Tercile',\n",
       "       'Apprendimento percepito_Tercile', 'UEQ - Overall_Tercile',\n",
       "       'QuizAnswerCorrectRatioOverAll_Tercile', 'Class_Count', 'FN_N', 'FN_Q',\n",
       "       'FN_A', 'FN_C', 'FN_I', 'FN_CT', 'A_Time_s', 'A_Time_m',\n",
       "       'Backward_Jumps'],\n",
       "      dtype='object')"
      ]
     },
     "execution_count": 6,
     "metadata": {},
     "output_type": "execute_result"
    }
   ],
   "source": [
    "df_log.columns"
   ]
  },
  {
   "cell_type": "code",
   "execution_count": 7,
   "metadata": {
    "colab": {
     "base_uri": "https://localhost:8080/"
    },
    "executionInfo": {
     "elapsed": 2,
     "status": "ok",
     "timestamp": 1730981661087,
     "user": {
      "displayName": "Roberto Nai",
      "userId": "01638620693582754310"
     },
     "user_tz": -60
    },
    "id": "Qb-oyfLYe7Dy",
    "outputId": "f68a8d70-6f98-4efa-b6a5-dcc2de9b1547"
   },
   "outputs": [
    {
     "data": {
      "text/plain": [
       "(8092, 68)"
      ]
     },
     "execution_count": 7,
     "metadata": {},
     "output_type": "execute_result"
    }
   ],
   "source": [
    "# Dimension before cleaning\n",
    "df_log.shape"
   ]
  },
  {
   "cell_type": "markdown",
   "metadata": {},
   "source": [
    "### Create an event log without SURVEY event"
   ]
  },
  {
   "cell_type": "code",
   "execution_count": 8,
   "metadata": {
    "executionInfo": {
     "elapsed": 1,
     "status": "ok",
     "timestamp": 1730981661478,
     "user": {
      "displayName": "Roberto Nai",
      "userId": "01638620693582754310"
     },
     "user_tz": -60
    },
    "id": "TOTo08QDe2lZ"
   },
   "outputs": [],
   "source": [
    "# Filter rows that do not begin with ‘SURVEY’ in the col_name column\n",
    "df_log_clean = df_log[~df_log[activity_column].str.startswith('SURVEY', na=False)]"
   ]
  },
  {
   "cell_type": "code",
   "execution_count": 9,
   "metadata": {
    "colab": {
     "base_uri": "https://localhost:8080/"
    },
    "executionInfo": {
     "elapsed": 1,
     "status": "ok",
     "timestamp": 1730981663014,
     "user": {
      "displayName": "Roberto Nai",
      "userId": "01638620693582754310"
     },
     "user_tz": -60
    },
    "id": "rQfH7ncfflPC",
    "outputId": "9f98ae0e-841d-4334-f8aa-1244b110fdfb"
   },
   "outputs": [
    {
     "data": {
      "text/plain": [
       "(7399, 68)"
      ]
     },
     "execution_count": 9,
     "metadata": {},
     "output_type": "execute_result"
    }
   ],
   "source": [
    "# Dimension after cleaning\n",
    "df_log_clean.shape"
   ]
  },
  {
   "cell_type": "code",
   "execution_count": 10,
   "metadata": {
    "executionInfo": {
     "elapsed": 350,
     "status": "ok",
     "timestamp": 1730981663725,
     "user": {
      "displayName": "Roberto Nai",
      "userId": "01638620693582754310"
     },
     "user_tz": -60
    },
    "id": "K4oa2sG_e5Iu"
   },
   "outputs": [
    {
     "name": "stdout",
     "output_type": "stream",
     "text": [
      ">> Saving cleaned event log\n",
      "Path: data_log/edu_event_log_PAGE_raw_filtered_DISCO_ter_enr_no_SURVEY.csv\n"
     ]
    }
   ],
   "source": [
    "# Save the dataframe cleaned\n",
    "print(\">> Saving cleaned event log\")\n",
    "path_log = Path(log_dir) / file_out\n",
    "print(\"Path:\", path_log)\n",
    "df_log_clean.to_csv(path_log, sep = \",\", index=False)"
   ]
  },
  {
   "cell_type": "markdown",
   "metadata": {},
   "source": [
    "### Create an event log with only SURVEY event"
   ]
  },
  {
   "cell_type": "code",
   "execution_count": 11,
   "metadata": {},
   "outputs": [],
   "source": [
    "df_log_survey = df_log[df_log[\"Activity\"].str.contains(r\"SURVEY-\")]"
   ]
  },
  {
   "cell_type": "code",
   "execution_count": 12,
   "metadata": {},
   "outputs": [
    {
     "name": "stdout",
     "output_type": "stream",
     "text": [
      "Path: data_log/edu_event_log_PAGE_raw_filtered_DISCO_ter_enr_enr_only_SURVEY.csv\n"
     ]
    }
   ],
   "source": [
    "log_file_name_enr = f\"{Path(file_name).stem}_enr_only_SURVEY.csv\"\n",
    "path_log_file = Path(log_dir) / log_file_name_enr \n",
    "print(\"Path:\", path_log_file)\n",
    "df_log_survey.to_csv(path_log_file, sep = \",\", index=False)"
   ]
  }
 ],
 "metadata": {
  "colab": {
   "authorship_tag": "ABX9TyNRTr+4uwSQ7Fvaw79EqAUu",
   "provenance": []
  },
  "kernelspec": {
   "display_name": "Python 3",
   "name": "python3"
  },
  "language_info": {
   "codemirror_mode": {
    "name": "ipython",
    "version": 3
   },
   "file_extension": ".py",
   "mimetype": "text/x-python",
   "name": "python",
   "nbconvert_exporter": "python",
   "pygments_lexer": "ipython3",
   "version": "3.12.2"
  }
 },
 "nbformat": 4,
 "nbformat_minor": 0
}
