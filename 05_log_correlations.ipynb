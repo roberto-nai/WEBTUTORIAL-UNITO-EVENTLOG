{
 "cells": [
  {
   "cell_type": "markdown",
   "metadata": {},
   "source": [
    "# Event log correlations "
   ]
  },
  {
   "cell_type": "code",
   "execution_count": 274,
   "metadata": {},
   "outputs": [],
   "source": [
    "### IMPORT ###\n",
    "from pathlib import Path\n",
    "import pandas as pd\n",
    "import matplotlib.pyplot as plt\n",
    "\n",
    "import seaborn as sns\n",
    "# pip install sns\n",
    "\n",
    "from scipy.stats import pearsonr, shapiro, kstest, norm, probplot, spearmanr\n",
    "from scipy import stats\n",
    "\n",
    "# pip install scipy\n",
    "\n",
    "### LOCAL IMPORT ###\n",
    "from config import config_reader"
   ]
  },
  {
   "cell_type": "code",
   "execution_count": 275,
   "metadata": {},
   "outputs": [],
   "source": [
    "### GLOBALS ###\n",
    "yaml_config = config_reader.config_read_yaml(\"config.yml\", \"config\")\n",
    "# print(yaml_config) # debug\n",
    "csv_sep = \",\"\n",
    "# INPUT\n",
    "log_dir = str(yaml_config[\"LOG_DIR\"]) # <-- INPUT: Set the directory name (str) containing the event log\n",
    "# log_dir = \"data_log\" # <-- INPUT: Set the directory name (str) containing the event log\n",
    "log_file_name = \"edu_event_log_PAGE_raw_filtered_DISCO_ter_enr.csv\" # <-- INPUT: Set the file name\n",
    "\n",
    "id_column = \"Case ID\""
   ]
  },
  {
   "cell_type": "markdown",
   "metadata": {},
   "source": [
    "# FUNCTIONS"
   ]
  },
  {
   "cell_type": "code",
   "execution_count": 276,
   "metadata": {},
   "outputs": [],
   "source": [
    "def compute_distribution(df: pd.DataFrame, col1: str, colum_id: str) -> None:\n",
    "    \"\"\"\n",
    "    Analyse the distribution of a columns in a dataframe.\n",
    "    \n",
    "    Parameters:\n",
    "        df (pd.DataFrame): The input dataframe.\n",
    "        col1 (str): Name of the column.\n",
    "\n",
    "    Returns:\n",
    "        None\n",
    "    \"\"\"\n",
    "    \n",
    "    # Remove duplicate rows based on colum_id (only one row for case id is needed)\n",
    "    df = df.drop_duplicates(subset=colum_id)\n",
    "    \n",
    "    # Remove rows with missing values in either of the two columns\n",
    "    df = df.dropna(subset=[col1])\n",
    "    \n",
    "    # Visualisation with histogram and density plot\n",
    "    plt.figure(figsize=(12, 5))\n",
    "    plt.subplot(1, 2, 1)\n",
    "    sns.histplot(df[col1], kde=True)\n",
    "    plt.title(f\"Distribution of '{col1}'\")\n",
    "\n",
    "    plt.show()"
   ]
  },
  {
   "cell_type": "code",
   "execution_count": 277,
   "metadata": {},
   "outputs": [],
   "source": [
    "def compute_pearson_correlation(df: pd.DataFrame, col1: str, col2: str, colum_id: str) -> None:\n",
    "    \"\"\"\n",
    "    Analyse the distribution and correlation of two columns in a dataframe.\n",
    "    \n",
    "    Parameters:\n",
    "        df (pd.DataFrame): The input dataframe.\n",
    "        col1 (str): Name of the first column.\n",
    "        col2 (str): Name of the second column.\n",
    "\n",
    "    Returns:\n",
    "        None\n",
    "    \"\"\"\n",
    "\n",
    "    # Remove duplicate rows based on colum_id (only one row for case id is needed)\n",
    "    df = df.drop_duplicates(subset=colum_id)\n",
    "\n",
    "    # Check for missing values in both columns\n",
    "    nan_count_col1 = df[col1].isna().sum()\n",
    "    nan_count_col2 = df[col2].isna().sum()\n",
    "    print(f\"Missing values in {col1}: {nan_count_col1}\")\n",
    "    print(f\"Missing values in {col2}: {nan_count_col2}\")\n",
    "\n",
    "    # Remove rows with missing values in either of the two columns\n",
    "    df = df.dropna(subset=[col1, col2])\n",
    "    \n",
    "    # Pearson correlation\n",
    "    r, p = pearsonr(df[col1], df[col2])\n",
    "\n",
    "    # Display the results\n",
    "    print(f\"Pearson correlation between '{col1}' and '{col2}': r = {r:.3f}, p {'< .001' if p < 0.001 else f'= {p:.3f}'}\")"
   ]
  },
  {
   "cell_type": "code",
   "execution_count": 278,
   "metadata": {},
   "outputs": [],
   "source": [
    "def compute_spearman_correlation(df: pd.DataFrame, col1: str, col2: str, colum_id: str) -> None:\n",
    "    \"\"\"\n",
    "    Compute the Spearman correlation of two columns in a dataframe.\n",
    "    \n",
    "    Parameters:\n",
    "        df (pd.DataFrame): The input dataframe.\n",
    "        col1 (str): Name of the first column.\n",
    "        col2 (str): Name of the second column.\n",
    "        \n",
    "    Returns:\n",
    "        None\n",
    "    \"\"\"\n",
    "\n",
    "    # Remove duplicate rows based on colum_id (only one row for case id is needed)\n",
    "    df = df.drop_duplicates(subset=colum_id)\n",
    "\n",
    "    # Check for missing values in both columns\n",
    "    nan_count_col1 = df[col1].isna().sum()\n",
    "    nan_count_col2 = df[col2].isna().sum()\n",
    "    print(f\"Missing values in {col1}: {nan_count_col1}\")\n",
    "    print(f\"Missing values in {col2}: {nan_count_col2}\")\n",
    "\n",
    "    # Remove rows with missing values in either of the two columns\n",
    "    df = df.dropna(subset=[col1, col2])\n",
    "\n",
    "    # Spearman correlation\n",
    "    r, p = spearmanr(df[col1], df[col2])\n",
    "\n",
    "    # Display the results\n",
    "    print(f\"Spearman correlation between '{col1}' and '{col2}' (ρ) = {r:.3f}, p {'< .001' if p < 0.001 else f'= {p:.3f}'}\")"
   ]
  },
  {
   "cell_type": "code",
   "execution_count": 279,
   "metadata": {},
   "outputs": [],
   "source": [
    "def compute_shapiro_wilk_test(df: pd.DataFrame, column_name:str, colum_id: str) -> None:\n",
    "    if column_name not in df.columns:\n",
    "        raise ValueError(f\"Column '{column_name}' does not exist in the dataframe.\")\n",
    "    if colum_id not in df.columns:\n",
    "        raise ValueError(f\"Column '{colum_id}' does not exist in the dataframe.\")\n",
    "    \n",
    "    # Remove duplicate rows based on colum_id (only one row for case id is needed)\n",
    "    df = df.drop_duplicates(subset=colum_id)\n",
    "\n",
    "    statistic, p_value = stats.shapiro(df[column_name])\n",
    "    \n",
    "    print('Column:', column_name)\n",
    "    print(f'Test statistic: {statistic}')\n",
    "    print(f'p-value: {p_value}')\n",
    "\n",
    "    # Interpretazione\n",
    "    alpha = 0.05\n",
    "    if p_value > alpha:\n",
    "        print('The data on column {col_name} follow a normal distribution (we do not reject H0)')\n",
    "    else:\n",
    "        print('The data on column {col_name} do not follow a normal distribution (we reject H0)')"
   ]
  },
  {
   "cell_type": "code",
   "execution_count": null,
   "metadata": {},
   "outputs": [],
   "source": [
    "def compute_column_values_frequencies(df: pd.DataFrame, column_name: str, colum_id: str) -> pd.DataFrame:\n",
    "    \"\"\"\n",
    "    Performs a frequency analysis of the values in a specified column of a dataframe, \n",
    "    removing duplicate rows based on the colum_id before analysis, and generates a vertical bar plot of the frequencies.\n",
    "\n",
    "    Parameters:\n",
    "    ----------\n",
    "    df: pd.DataFrame\n",
    "        The input dataframe containing the columns to analyse.\n",
    "    column_name: str\n",
    "        The name of the column to analyse.\n",
    "    colum_id: str\n",
    "        The name of the column used to identify duplicates.\n",
    "\n",
    "    Returns:\n",
    "    -------\n",
    "    pd.DataFrame\n",
    "        A dataframe containing the frequency analysis (value counts).\n",
    "    \"\"\"\n",
    "    if column_name not in df.columns:\n",
    "        raise ValueError(f\"Column '{column_name}' does not exist in the dataframe.\")\n",
    "    if colum_id not in df.columns:\n",
    "        raise ValueError(f\"Column '{colum_id}' does not exist in the dataframe.\")\n",
    "\n",
    "    # Remove duplicate rows based on colum_id (only one row for each case id is needed)\n",
    "    df = df.drop_duplicates(subset=colum_id)\n",
    "\n",
    "    # Compute the frequency of each unique value in the specified column\n",
    "    frequency_df = df[column_name].value_counts().reset_index()\n",
    "    frequency_df.columns = [column_name, \"Frequency\"]\n",
    "\n",
    "    plt_tile = f\"Frequency analysis of '{column_name}'\"\n",
    "\n",
    "    # Plot the frequencies with blue edges for the bars\n",
    "    plt.figure(figsize=(10, 6))\n",
    "    bars = plt.bar(\n",
    "        frequency_df[column_name],\n",
    "        frequency_df[\"Frequency\"],\n",
    "        color=\"skyblue\",\n",
    "        edgecolor=\"black\",  # Set edge colour for the bars\n",
    "        linewidth=1.5      # Thickness of the edges\n",
    "    )\n",
    "\n",
    "    # Add the frequency values above the bars\n",
    "    for bar in bars:\n",
    "        height = bar.get_height()\n",
    "        plt.text(\n",
    "            bar.get_x() + bar.get_width() / 2,  # X position (centre of the bar)\n",
    "            height + 0.5,                      # Y position (slightly above the bar)\n",
    "            f\"{int(height)}\",                  # Value text (convert to int)\n",
    "            ha=\"center\",                       # Horizontal alignment\n",
    "            va=\"bottom\",                       # Vertical alignment\n",
    "            fontsize=10                         # Font size\n",
    "        )\n",
    "\n",
    "    plt.xlabel(column_name, fontsize=12)\n",
    "    plt.ylabel(\"Frequency\", fontsize=12)\n",
    "    plt.title(plt_tile, fontsize=12)\n",
    "    plt.xticks(rotation=90, fontsize=10)\n",
    "    plt.tight_layout()\n",
    "    plt.show()\n",
    "\n",
    "    return frequency_df"
   ]
  },
  {
   "cell_type": "markdown",
   "metadata": {},
   "source": [
    "# MAIN"
   ]
  },
  {
   "cell_type": "code",
   "execution_count": 281,
   "metadata": {},
   "outputs": [
    {
     "name": "stdout",
     "output_type": "stream",
     "text": [
      ">> Setings\n",
      "Input file: edu_event_log_PAGE_raw_filtered_DISCO_ter_enr.csv\n",
      "Path file: data_log/edu_event_log_PAGE_raw_filtered_DISCO_ter_enr.csv\n"
     ]
    }
   ],
   "source": [
    "print(\">> Setings\")\n",
    "print(\"Input file:\", log_file_name)\n",
    "path_log_file = Path(log_dir) /log_file_name \n",
    "print(\"Path file:\", path_log_file)"
   ]
  },
  {
   "cell_type": "code",
   "execution_count": 282,
   "metadata": {},
   "outputs": [
    {
     "name": "stdout",
     "output_type": "stream",
     "text": [
      ">> Reading\n"
     ]
    }
   ],
   "source": [
    "print(\">> Reading\")\n",
    "dic_t = {'Case ID':object, 'CaseLength':int, 'SUS_Tercile':int, 'Apprendimento percepito_Tercile':int, 'UEQ - Overall_Tercile':int} # column types\n",
    "df_log = pd.read_csv(path_log_file, sep=csv_sep, dtype=dic_t)"
   ]
  },
  {
   "cell_type": "code",
   "execution_count": 283,
   "metadata": {},
   "outputs": [
    {
     "name": "stdout",
     "output_type": "stream",
     "text": [
      ">> Removing columns from event log not needed\n"
     ]
    }
   ],
   "source": [
    "print(\">> Removing columns from event log not needed\")\n",
    "col_del_list = ['Variant', 'Variant index']\n",
    "for col_del in col_del_list:\n",
    "  if col_del in df_log.columns:\n",
    "    print(\"Removig column:\", col_del)\n",
    "    df_log.drop(columns=col_del, inplace=True)"
   ]
  },
  {
   "cell_type": "code",
   "execution_count": 284,
   "metadata": {},
   "outputs": [
    {
     "data": {
      "text/plain": [
       "(8092, 68)"
      ]
     },
     "execution_count": 284,
     "metadata": {},
     "output_type": "execute_result"
    }
   ],
   "source": [
    "df_log.shape"
   ]
  },
  {
   "cell_type": "code",
   "execution_count": 285,
   "metadata": {},
   "outputs": [
    {
     "name": "stdout",
     "output_type": "stream",
     "text": [
      "Distinct cases: 332\n"
     ]
    }
   ],
   "source": [
    "print(\"Distinct cases:\", df_log[id_column].nunique())"
   ]
  },
  {
   "cell_type": "code",
   "execution_count": 286,
   "metadata": {},
   "outputs": [
    {
     "data": {
      "text/html": [
       "<div>\n",
       "<style scoped>\n",
       "    .dataframe tbody tr th:only-of-type {\n",
       "        vertical-align: middle;\n",
       "    }\n",
       "\n",
       "    .dataframe tbody tr th {\n",
       "        vertical-align: top;\n",
       "    }\n",
       "\n",
       "    .dataframe thead th {\n",
       "        text-align: right;\n",
       "    }\n",
       "</style>\n",
       "<table border=\"1\" class=\"dataframe\">\n",
       "  <thead>\n",
       "    <tr style=\"text-align: right;\">\n",
       "      <th></th>\n",
       "      <th>Case ID</th>\n",
       "      <th>Activity</th>\n",
       "      <th>Complete Timestamp</th>\n",
       "      <th>pageTitle</th>\n",
       "      <th>menu</th>\n",
       "      <th>pageOrder</th>\n",
       "      <th>pagePara</th>\n",
       "      <th>eventPage</th>\n",
       "      <th>click_num</th>\n",
       "      <th>dbclick_num</th>\n",
       "      <th>...</th>\n",
       "      <th>Class_Count</th>\n",
       "      <th>FN_N</th>\n",
       "      <th>FN_Q</th>\n",
       "      <th>FN_A</th>\n",
       "      <th>FN_C</th>\n",
       "      <th>FN_I</th>\n",
       "      <th>FN_CT</th>\n",
       "      <th>A_Time_s</th>\n",
       "      <th>A_Time_m</th>\n",
       "      <th>Backward_Jumps</th>\n",
       "    </tr>\n",
       "  </thead>\n",
       "  <tbody>\n",
       "    <tr>\n",
       "      <th>0</th>\n",
       "      <td>0HcsM5K14bTga4CpYETnQuMBKMrDBCQgHeGk48sRul6Pha...</td>\n",
       "      <td>SURVEY-END</td>\n",
       "      <td>2024-04-22 13:50:32</td>\n",
       "      <td>SURVEY-END</td>\n",
       "      <td>menu_1</td>\n",
       "      <td>1</td>\n",
       "      <td>0</td>\n",
       "      <td>PageIN</td>\n",
       "      <td>1</td>\n",
       "      <td>0</td>\n",
       "      <td>...</td>\n",
       "      <td>38.0</td>\n",
       "      <td>0.0</td>\n",
       "      <td>0.0</td>\n",
       "      <td>0.0</td>\n",
       "      <td>0.0</td>\n",
       "      <td>0.0</td>\n",
       "      <td>L</td>\n",
       "      <td>1270.0</td>\n",
       "      <td>21.17</td>\n",
       "      <td>0</td>\n",
       "    </tr>\n",
       "    <tr>\n",
       "      <th>1</th>\n",
       "      <td>0HcsM5K14bTga4CpYETnQuMBKMrDBCQgHeGk48sRul6Pha...</td>\n",
       "      <td>INTRO</td>\n",
       "      <td>2024-04-22 14:11:42</td>\n",
       "      <td>INTRO</td>\n",
       "      <td>menu_1</td>\n",
       "      <td>1</td>\n",
       "      <td>0</td>\n",
       "      <td>PageIN</td>\n",
       "      <td>1</td>\n",
       "      <td>0</td>\n",
       "      <td>...</td>\n",
       "      <td>26.0</td>\n",
       "      <td>0.0</td>\n",
       "      <td>0.0</td>\n",
       "      <td>1.0</td>\n",
       "      <td>1.0</td>\n",
       "      <td>0.0</td>\n",
       "      <td>FA</td>\n",
       "      <td>530.0</td>\n",
       "      <td>8.83</td>\n",
       "      <td>0</td>\n",
       "    </tr>\n",
       "    <tr>\n",
       "      <th>2</th>\n",
       "      <td>0HcsM5K14bTga4CpYETnQuMBKMrDBCQgHeGk48sRul6Pha...</td>\n",
       "      <td>INTRO-Q</td>\n",
       "      <td>2024-04-22 14:20:32</td>\n",
       "      <td>INTRO-Q</td>\n",
       "      <td>menu_1</td>\n",
       "      <td>1</td>\n",
       "      <td>0</td>\n",
       "      <td>PageIN</td>\n",
       "      <td>1</td>\n",
       "      <td>0</td>\n",
       "      <td>...</td>\n",
       "      <td>26.0</td>\n",
       "      <td>0.0</td>\n",
       "      <td>0.0</td>\n",
       "      <td>1.0</td>\n",
       "      <td>1.0</td>\n",
       "      <td>0.0</td>\n",
       "      <td>FA</td>\n",
       "      <td>32.0</td>\n",
       "      <td>0.53</td>\n",
       "      <td>0</td>\n",
       "    </tr>\n",
       "    <tr>\n",
       "      <th>3</th>\n",
       "      <td>0HcsM5K14bTga4CpYETnQuMBKMrDBCQgHeGk48sRul6Pha...</td>\n",
       "      <td>PROG</td>\n",
       "      <td>2024-04-22 14:21:04</td>\n",
       "      <td>PROG</td>\n",
       "      <td>menu_1</td>\n",
       "      <td>2</td>\n",
       "      <td>0</td>\n",
       "      <td>PageIN</td>\n",
       "      <td>1</td>\n",
       "      <td>0</td>\n",
       "      <td>...</td>\n",
       "      <td>26.0</td>\n",
       "      <td>0.0</td>\n",
       "      <td>0.0</td>\n",
       "      <td>1.0</td>\n",
       "      <td>1.0</td>\n",
       "      <td>0.0</td>\n",
       "      <td>FA</td>\n",
       "      <td>233.0</td>\n",
       "      <td>3.88</td>\n",
       "      <td>0</td>\n",
       "    </tr>\n",
       "    <tr>\n",
       "      <th>4</th>\n",
       "      <td>0HcsM5K14bTga4CpYETnQuMBKMrDBCQgHeGk48sRul6Pha...</td>\n",
       "      <td>PROG-Q</td>\n",
       "      <td>2024-04-22 14:24:57</td>\n",
       "      <td>PROG-Q</td>\n",
       "      <td>menu_1</td>\n",
       "      <td>2</td>\n",
       "      <td>0</td>\n",
       "      <td>PageIN</td>\n",
       "      <td>1</td>\n",
       "      <td>0</td>\n",
       "      <td>...</td>\n",
       "      <td>26.0</td>\n",
       "      <td>0.0</td>\n",
       "      <td>0.0</td>\n",
       "      <td>1.0</td>\n",
       "      <td>1.0</td>\n",
       "      <td>0.0</td>\n",
       "      <td>FA</td>\n",
       "      <td>17.0</td>\n",
       "      <td>0.28</td>\n",
       "      <td>0</td>\n",
       "    </tr>\n",
       "  </tbody>\n",
       "</table>\n",
       "<p>5 rows × 68 columns</p>\n",
       "</div>"
      ],
      "text/plain": [
       "                                             Case ID    Activity  \\\n",
       "0  0HcsM5K14bTga4CpYETnQuMBKMrDBCQgHeGk48sRul6Pha...  SURVEY-END   \n",
       "1  0HcsM5K14bTga4CpYETnQuMBKMrDBCQgHeGk48sRul6Pha...       INTRO   \n",
       "2  0HcsM5K14bTga4CpYETnQuMBKMrDBCQgHeGk48sRul6Pha...     INTRO-Q   \n",
       "3  0HcsM5K14bTga4CpYETnQuMBKMrDBCQgHeGk48sRul6Pha...        PROG   \n",
       "4  0HcsM5K14bTga4CpYETnQuMBKMrDBCQgHeGk48sRul6Pha...      PROG-Q   \n",
       "\n",
       "    Complete Timestamp   pageTitle    menu  pageOrder  pagePara eventPage  \\\n",
       "0  2024-04-22 13:50:32  SURVEY-END  menu_1          1         0    PageIN   \n",
       "1  2024-04-22 14:11:42       INTRO  menu_1          1         0    PageIN   \n",
       "2  2024-04-22 14:20:32     INTRO-Q  menu_1          1         0    PageIN   \n",
       "3  2024-04-22 14:21:04        PROG  menu_1          2         0    PageIN   \n",
       "4  2024-04-22 14:24:57      PROG-Q  menu_1          2         0    PageIN   \n",
       "\n",
       "   click_num  dbclick_num  ...  Class_Count  FN_N  FN_Q  FN_A  FN_C FN_I  \\\n",
       "0          1            0  ...         38.0   0.0   0.0   0.0   0.0  0.0   \n",
       "1          1            0  ...         26.0   0.0   0.0   1.0   1.0  0.0   \n",
       "2          1            0  ...         26.0   0.0   0.0   1.0   1.0  0.0   \n",
       "3          1            0  ...         26.0   0.0   0.0   1.0   1.0  0.0   \n",
       "4          1            0  ...         26.0   0.0   0.0   1.0   1.0  0.0   \n",
       "\n",
       "  FN_CT A_Time_s  A_Time_m  Backward_Jumps  \n",
       "0     L   1270.0     21.17               0  \n",
       "1    FA    530.0      8.83               0  \n",
       "2    FA     32.0      0.53               0  \n",
       "3    FA    233.0      3.88               0  \n",
       "4    FA     17.0      0.28               0  \n",
       "\n",
       "[5 rows x 68 columns]"
      ]
     },
     "execution_count": 286,
     "metadata": {},
     "output_type": "execute_result"
    }
   ],
   "source": [
    "df_log.head(5)"
   ]
  },
  {
   "cell_type": "code",
   "execution_count": 287,
   "metadata": {},
   "outputs": [
    {
     "data": {
      "text/plain": [
       "Index(['Case ID', 'Activity', 'Complete Timestamp', 'pageTitle', 'menu',\n",
       "       'pageOrder', 'pagePara', 'eventPage', 'click_num', 'dbclick_num',\n",
       "       'QuizSessionCount', 'QuizAnswerCorrectTotal', 'QuizAnswerWrongTotal',\n",
       "       'QuizAnswerCorrectRatioOverCount', 'QuizAnswerCorrectRatioOverAll',\n",
       "       'Q_1', 'Q_2', 'Q_3', 'Q_4', 'Q_5', 'Q_6', 'Q_7', 'Q_8', 'Q_9', 'Q_10',\n",
       "       'Q_11', 'Q_12', 'Q_13', 'Q_14', 'Q_15', 'Q_16', 'Q_17', 'Q_18', 'Q_19',\n",
       "       'Q_20', 'Q_21', 'Q_22', 'Q_23', 'Q_24', 'Q_25', 'Q_26', 'Q_27', 'Q_28',\n",
       "       'SUS', 'Apprendimento percepito', 'UEQ - Pragmatic', 'UEQ - Hedonic',\n",
       "       'UEQ - Overall', 'TotalTimeHH', 'TotalTimeMM', 'TotalTimeMM.1',\n",
       "       'TotalTimeDD', 'CaseLength', 'Class', 'SUS_Tercile',\n",
       "       'Apprendimento percepito_Tercile', 'UEQ - Overall_Tercile',\n",
       "       'QuizAnswerCorrectRatioOverAll_Tercile', 'Class_Count', 'FN_N', 'FN_Q',\n",
       "       'FN_A', 'FN_C', 'FN_I', 'FN_CT', 'A_Time_s', 'A_Time_m',\n",
       "       'Backward_Jumps'],\n",
       "      dtype='object')"
      ]
     },
     "execution_count": 287,
     "metadata": {},
     "output_type": "execute_result"
    }
   ],
   "source": [
    "df_log.columns"
   ]
  },
  {
   "cell_type": "markdown",
   "metadata": {},
   "source": [
    "## Columns distribution"
   ]
  },
  {
   "cell_type": "code",
   "execution_count": 288,
   "metadata": {},
   "outputs": [
    {
     "data": {
      "image/png": "[encoded data removed]",
      "text/plain": [
       "<Figure size 1200x500 with 1 Axes>"
      ]
     },
     "metadata": {},
     "output_type": "display_data"
    },
    {
     "data": {
      "image/png": "[encoded data removed]",
      "text/plain": [
       "<Figure size 1200x500 with 1 Axes>"
      ]
     },
     "metadata": {},
     "output_type": "display_data"
    },
    {
     "data": {
      "image/png": "[encoded data removed]",
      "text/plain": [
       "<Figure size 1200x500 with 1 Axes>"
      ]
     },
     "metadata": {},
     "output_type": "display_data"
    }
   ],
   "source": [
    "col_list = ['SUS', 'Apprendimento percepito', 'UEQ - Overall']\n",
    "for col_name in col_list:\n",
    "    compute_distribution(df_log, col_name, id_column)"
   ]
  },
  {
   "cell_type": "markdown",
   "metadata": {},
   "source": [
    "## Frequency analysis"
   ]
  },
  {
   "cell_type": "code",
   "execution_count": 289,
   "metadata": {},
   "outputs": [
    {
     "data": {
      "text/plain": [
       "[3.0,\n",
       " 3.2,\n",
       " 2.0,\n",
       " 3.4,\n",
       " 5.0,\n",
       " 4.0,\n",
       " 4.4,\n",
       " 2.4,\n",
       " 2.8,\n",
       " 3.6,\n",
       " 2.6,\n",
       " 3.8,\n",
       " 1.6,\n",
       " 2.2,\n",
       " -1.0,\n",
       " 4.8,\n",
       " 1.8,\n",
       " 1.4,\n",
       " 4.6,\n",
       " 1.0,\n",
       " 4.2,\n",
       " 1.2]"
      ]
     },
     "execution_count": 289,
     "metadata": {},
     "output_type": "execute_result"
    }
   ],
   "source": [
    "df_log['Apprendimento percepito'].unique().tolist()"
   ]
  },
  {
   "cell_type": "code",
   "execution_count": 290,
   "metadata": {},
   "outputs": [
    {
     "data": {
      "image/png": "[encoded data removed]",
      "text/plain": [
       "<Figure size 1000x600 with 1 Axes>"
      ]
     },
     "metadata": {},
     "output_type": "display_data"
    },
    {
     "data": {
      "text/html": [
       "<div>\n",
       "<style scoped>\n",
       "    .dataframe tbody tr th:only-of-type {\n",
       "        vertical-align: middle;\n",
       "    }\n",
       "\n",
       "    .dataframe tbody tr th {\n",
       "        vertical-align: top;\n",
       "    }\n",
       "\n",
       "    .dataframe thead th {\n",
       "        text-align: right;\n",
       "    }\n",
       "</style>\n",
       "<table border=\"1\" class=\"dataframe\">\n",
       "  <thead>\n",
       "    <tr style=\"text-align: right;\">\n",
       "      <th></th>\n",
       "      <th>Apprendimento percepito</th>\n",
       "      <th>Frequency</th>\n",
       "    </tr>\n",
       "  </thead>\n",
       "  <tbody>\n",
       "    <tr>\n",
       "      <th>0</th>\n",
       "      <td>3.0</td>\n",
       "      <td>67</td>\n",
       "    </tr>\n",
       "    <tr>\n",
       "      <th>1</th>\n",
       "      <td>4.0</td>\n",
       "      <td>52</td>\n",
       "    </tr>\n",
       "    <tr>\n",
       "      <th>2</th>\n",
       "      <td>5.0</td>\n",
       "      <td>38</td>\n",
       "    </tr>\n",
       "    <tr>\n",
       "      <th>3</th>\n",
       "      <td>2.8</td>\n",
       "      <td>26</td>\n",
       "    </tr>\n",
       "    <tr>\n",
       "      <th>4</th>\n",
       "      <td>3.8</td>\n",
       "      <td>22</td>\n",
       "    </tr>\n",
       "    <tr>\n",
       "      <th>5</th>\n",
       "      <td>3.2</td>\n",
       "      <td>20</td>\n",
       "    </tr>\n",
       "    <tr>\n",
       "      <th>6</th>\n",
       "      <td>3.4</td>\n",
       "      <td>16</td>\n",
       "    </tr>\n",
       "    <tr>\n",
       "      <th>7</th>\n",
       "      <td>2.0</td>\n",
       "      <td>16</td>\n",
       "    </tr>\n",
       "    <tr>\n",
       "      <th>8</th>\n",
       "      <td>2.4</td>\n",
       "      <td>11</td>\n",
       "    </tr>\n",
       "    <tr>\n",
       "      <th>9</th>\n",
       "      <td>3.6</td>\n",
       "      <td>11</td>\n",
       "    </tr>\n",
       "    <tr>\n",
       "      <th>10</th>\n",
       "      <td>2.6</td>\n",
       "      <td>11</td>\n",
       "    </tr>\n",
       "    <tr>\n",
       "      <th>11</th>\n",
       "      <td>2.2</td>\n",
       "      <td>10</td>\n",
       "    </tr>\n",
       "    <tr>\n",
       "      <th>12</th>\n",
       "      <td>4.2</td>\n",
       "      <td>7</td>\n",
       "    </tr>\n",
       "    <tr>\n",
       "      <th>13</th>\n",
       "      <td>4.8</td>\n",
       "      <td>6</td>\n",
       "    </tr>\n",
       "    <tr>\n",
       "      <th>14</th>\n",
       "      <td>1.0</td>\n",
       "      <td>6</td>\n",
       "    </tr>\n",
       "    <tr>\n",
       "      <th>15</th>\n",
       "      <td>1.4</td>\n",
       "      <td>3</td>\n",
       "    </tr>\n",
       "    <tr>\n",
       "      <th>16</th>\n",
       "      <td>1.6</td>\n",
       "      <td>2</td>\n",
       "    </tr>\n",
       "    <tr>\n",
       "      <th>17</th>\n",
       "      <td>-1.0</td>\n",
       "      <td>2</td>\n",
       "    </tr>\n",
       "    <tr>\n",
       "      <th>18</th>\n",
       "      <td>1.8</td>\n",
       "      <td>2</td>\n",
       "    </tr>\n",
       "    <tr>\n",
       "      <th>19</th>\n",
       "      <td>4.6</td>\n",
       "      <td>2</td>\n",
       "    </tr>\n",
       "    <tr>\n",
       "      <th>20</th>\n",
       "      <td>4.4</td>\n",
       "      <td>1</td>\n",
       "    </tr>\n",
       "    <tr>\n",
       "      <th>21</th>\n",
       "      <td>1.2</td>\n",
       "      <td>1</td>\n",
       "    </tr>\n",
       "  </tbody>\n",
       "</table>\n",
       "</div>"
      ],
      "text/plain": [
       "    Apprendimento percepito  Frequency\n",
       "0                       3.0         67\n",
       "1                       4.0         52\n",
       "2                       5.0         38\n",
       "3                       2.8         26\n",
       "4                       3.8         22\n",
       "5                       3.2         20\n",
       "6                       3.4         16\n",
       "7                       2.0         16\n",
       "8                       2.4         11\n",
       "9                       3.6         11\n",
       "10                      2.6         11\n",
       "11                      2.2         10\n",
       "12                      4.2          7\n",
       "13                      4.8          6\n",
       "14                      1.0          6\n",
       "15                      1.4          3\n",
       "16                      1.6          2\n",
       "17                     -1.0          2\n",
       "18                      1.8          2\n",
       "19                      4.6          2\n",
       "20                      4.4          1\n",
       "21                      1.2          1"
      ]
     },
     "execution_count": 290,
     "metadata": {},
     "output_type": "execute_result"
    }
   ],
   "source": [
    "\n",
    "compute_column_values_frequencies(df_log, 'Apprendimento percepito', id_column)"
   ]
  },
  {
   "cell_type": "markdown",
   "metadata": {},
   "source": [
    "## Shapiro-Wilk test"
   ]
  },
  {
   "cell_type": "code",
   "execution_count": 291,
   "metadata": {},
   "outputs": [
    {
     "name": "stdout",
     "output_type": "stream",
     "text": [
      "Column: SUS\n",
      "Test statistic: 0.9727486600622063\n",
      "p-value: 6.472696248317301e-06\n",
      "The data on column {col_name} do not follow a normal distribution (we reject H0)\n",
      "\n",
      "Column: Apprendimento percepito\n",
      "Test statistic: 0.944951805285518\n",
      "p-value: 8.749275015692844e-10\n",
      "The data on column {col_name} do not follow a normal distribution (we reject H0)\n",
      "\n",
      "Column: UEQ - Overall\n",
      "Test statistic: 0.9781593145689426\n",
      "p-value: 6.177579703189595e-05\n",
      "The data on column {col_name} do not follow a normal distribution (we reject H0)\n",
      "\n"
     ]
    }
   ],
   "source": [
    "col_list = ['SUS', 'Apprendimento percepito', 'UEQ - Overall']\n",
    "for col_name in col_list:\n",
    "    compute_shapiro_wilk_test(df_log, col_name, id_column)\n",
    "    print()"
   ]
  },
  {
   "cell_type": "markdown",
   "metadata": {},
   "source": [
    "## Definition of columns on which computer colrrelations"
   ]
  },
  {
   "cell_type": "code",
   "execution_count": 292,
   "metadata": {},
   "outputs": [
    {
     "name": "stdout",
     "output_type": "stream",
     "text": [
      "Values (3): [('Apprendimento percepito', 'QuizAnswerCorrectRatioOverAll'), ('SUS', 'QuizAnswerCorrectRatioOverAll'), ('UEQ - Overall', 'QuizAnswerCorrectRatioOverAll')]\n"
     ]
    }
   ],
   "source": [
    "list_couple = [(\"Apprendimento percepito\", \"QuizAnswerCorrectRatioOverAll\"), (\"SUS\", \"QuizAnswerCorrectRatioOverAll\"), (\"UEQ - Overall\", \"QuizAnswerCorrectRatioOverAll\") ]\n",
    "list_couple_len = len(list_couple)\n",
    "print(f\"Values ({list_couple_len}): {list_couple}\")"
   ]
  },
  {
   "cell_type": "markdown",
   "metadata": {},
   "source": [
    "## Pearson"
   ]
  },
  {
   "cell_type": "code",
   "execution_count": 293,
   "metadata": {},
   "outputs": [
    {
     "name": "stdout",
     "output_type": "stream",
     "text": [
      "1) Pearson between Apprendimento percepito and QuizAnswerCorrectRatioOverAll\n",
      "Missing values in Apprendimento percepito: 0\n",
      "Missing values in QuizAnswerCorrectRatioOverAll: 1\n",
      "Pearson correlation between 'Apprendimento percepito' and 'QuizAnswerCorrectRatioOverAll': r = 0.060, p = 0.277\n",
      "\n",
      "2) Pearson between SUS and QuizAnswerCorrectRatioOverAll\n",
      "Missing values in SUS: 0\n",
      "Missing values in QuizAnswerCorrectRatioOverAll: 1\n",
      "Pearson correlation between 'SUS' and 'QuizAnswerCorrectRatioOverAll': r = 0.203, p < .001\n",
      "\n",
      "3) Pearson between UEQ - Overall and QuizAnswerCorrectRatioOverAll\n",
      "Missing values in UEQ - Overall: 0\n",
      "Missing values in QuizAnswerCorrectRatioOverAll: 1\n",
      "Pearson correlation between 'UEQ - Overall' and 'QuizAnswerCorrectRatioOverAll': r = 0.094, p = 0.089\n",
      "\n"
     ]
    }
   ],
   "source": [
    "i = 0\n",
    "for t in list_couple:\n",
    "    i+=1\n",
    "    el1 = t[0]\n",
    "    el2 = t[1]\n",
    "    print(f\"{i}) Pearson between {el1} and {el2}\")\n",
    "    compute_pearson_correlation(df_log, el1, el2, id_column)\n",
    "    print()"
   ]
  },
  {
   "cell_type": "markdown",
   "metadata": {},
   "source": [
    "## Spearman"
   ]
  },
  {
   "cell_type": "code",
   "execution_count": 294,
   "metadata": {},
   "outputs": [
    {
     "name": "stdout",
     "output_type": "stream",
     "text": [
      "1) Spearman between Apprendimento percepito and QuizAnswerCorrectRatioOverAll\n",
      "Missing values in Apprendimento percepito: 0\n",
      "Missing values in QuizAnswerCorrectRatioOverAll: 1\n",
      "Spearman correlation between 'Apprendimento percepito' and 'QuizAnswerCorrectRatioOverAll' (ρ) = 0.066, p = 0.234\n",
      "\n",
      "2) Spearman between SUS and QuizAnswerCorrectRatioOverAll\n",
      "Missing values in SUS: 0\n",
      "Missing values in QuizAnswerCorrectRatioOverAll: 1\n",
      "Spearman correlation between 'SUS' and 'QuizAnswerCorrectRatioOverAll' (ρ) = 0.206, p < .001\n",
      "\n",
      "3) Spearman between UEQ - Overall and QuizAnswerCorrectRatioOverAll\n",
      "Missing values in UEQ - Overall: 0\n",
      "Missing values in QuizAnswerCorrectRatioOverAll: 1\n",
      "Spearman correlation between 'UEQ - Overall' and 'QuizAnswerCorrectRatioOverAll' (ρ) = 0.113, p = 0.040\n",
      "\n"
     ]
    }
   ],
   "source": [
    "i=0\n",
    "for t in list_couple:\n",
    "    i+=1\n",
    "    el1 = t[0]\n",
    "    el2 = t[1]\n",
    "    print(f\"{i}) Spearman between {el1} and {el2}\")\n",
    "    compute_spearman_correlation(df_log, el1, el2, id_column)\n",
    "    print()"
   ]
  }
 ],
 "metadata": {
  "kernelspec": {
   "display_name": "Python 3",
   "language": "python",
   "name": "python3"
  },
  "language_info": {
   "codemirror_mode": {
    "name": "ipython",
    "version": 3
   },
   "file_extension": ".py",
   "mimetype": "text/x-python",
   "name": "python",
   "nbconvert_exporter": "python",
   "pygments_lexer": "ipython3",
   "version": "3.12.2"
  }
 },
 "nbformat": 4,
 "nbformat_minor": 2
}
