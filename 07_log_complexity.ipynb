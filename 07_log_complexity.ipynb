{
 "cells": [
  {
   "cell_type": "markdown",
   "metadata": {},
   "source": [
    "## Event log COMPLEXITY"
   ]
  },
  {
   "cell_type": "code",
   "execution_count": 19,
   "metadata": {
    "executionInfo": {
     "elapsed": 355,
     "status": "ok",
     "timestamp": 1730981616721,
     "user": {
      "displayName": "Roberto Nai",
      "userId": "01638620693582754310"
     },
     "user_tz": -60
    },
    "id": "N26IMkBHebhG"
   },
   "outputs": [],
   "source": [
    "### IMPORT ###\n",
    "from pathlib import Path\n",
    "import pandas as pd\n",
    "import pm4py\n",
    "from pm4py.algo.discovery.dfg import algorithm as dfg_discovery\n",
    "\n",
    "### LOCAL IMPORT ###\n",
    "from config import config_reader"
   ]
  },
  {
   "cell_type": "code",
   "execution_count": 20,
   "metadata": {
    "executionInfo": {
     "elapsed": 341,
     "status": "ok",
     "timestamp": 1730981656253,
     "user": {
      "displayName": "Roberto Nai",
      "userId": "01638620693582754310"
     },
     "user_tz": -60
    },
    "id": "UWDjqy_GejAV"
   },
   "outputs": [],
   "source": [
    "### GLOBALS ###\n",
    "yaml_config = config_reader.config_read_yaml(\"config.yml\", \"config\")\n",
    "# print(yaml_config) # debug\n",
    "log_dir = str(yaml_config[\"LOG_DIR\"])\n",
    "stats_dir = str(yaml_config[\"STATS_DIR\"])\n",
    "\n",
    "level = \"PAGE\" # PARA, PAGE\n",
    "file_name = f\"edu_event_log_{level}_raw_filtered_DISCO_ter_enr_no_SURVEY.csv\" # input file to be read\n",
    "id_column = \"Case ID\"\n",
    "activity_column = \"Activity\"\n",
    "timestamp_column = \"Complete Timestamp\"\n",
    "usability_col = \"UEQ - Overall_Tercile\" # [SUS_Tercile, Apprendimento percepito_Tercile, UEQ - Overall_Tercile]\n",
    "usability_val_list = [1, 3]"
   ]
  },
  {
   "cell_type": "markdown",
   "metadata": {},
   "source": [
    "# FUNCTIONS"
   ]
  },
  {
   "cell_type": "code",
   "execution_count": 21,
   "metadata": {},
   "outputs": [],
   "source": [
    "def calculate_cyclomatic_complexity(xes_log):\n",
    "    \"\"\"\n",
    "    Calculate the cyclomatic complexity from an XES event log.\n",
    "\n",
    "    Parameters:\n",
    "    xes_log: The event log in XES format (pm4py EventLog object). It should represent a single process execution log.\n",
    "\n",
    "    Returns:\n",
    "    float: The cyclomatic complexity of the resulting Directly-Follows Graph (DFG).\n",
    "    \"\"\"\n",
    "    # Obtain the DFG from the XES log\n",
    "    dfg = dfg_discovery.apply(xes_log)\n",
    "    \n",
    "    # Extract nodes from the DFG keys (each key is a tuple (activity1, activity2))\n",
    "    nodes = set()\n",
    "    for (s, t) in dfg.keys():\n",
    "        nodes.add(s)\n",
    "        nodes.add(t)\n",
    "    \n",
    "    # Count the number of nodes and edges\n",
    "    N = len(nodes)\n",
    "    E = len(dfg.keys())\n",
    "    \n",
    "    # Assume the graph is connected, so P = 1\n",
    "    P = 1  \n",
    "    \n",
    "    # Calculate cyclomatic complexity: V(G) = E - N + 2P\n",
    "    V = E - N + 2 * P\n",
    "    \n",
    "    return V"
   ]
  },
  {
   "cell_type": "markdown",
   "metadata": {},
   "source": [
    "## MAIN"
   ]
  },
  {
   "cell_type": "code",
   "execution_count": 22,
   "metadata": {
    "executionInfo": {
     "elapsed": 437,
     "status": "ok",
     "timestamp": 1730981658405,
     "user": {
      "displayName": "Roberto Nai",
      "userId": "01638620693582754310"
     },
     "user_tz": -60
    },
    "id": "N6vdPPl3ege2"
   },
   "outputs": [
    {
     "name": "stdout",
     "output_type": "stream",
     "text": [
      ">> Reading event log\n",
      "Path: data_log/edu_event_log_PAGE_raw_filtered_DISCO_ter_enr_no_SURVEY.csv\n"
     ]
    }
   ],
   "source": [
    "# Load the CSV\n",
    "print(\">> Reading event log\")\n",
    "path_log = Path(log_dir) / file_name\n",
    "print(\"Path:\", path_log)\n",
    "dic_t = {'Case ID':object, 'CaseLength':int, 'SUS_Tercile':int, 'Apprendimento percepito_Tercile':int, 'UEQ - Overall_Tercile':int, 'QuizAnswerCorrectRatioOverAll_Tercile':int} \n",
    "df_log = pd.read_csv(path_log, sep = \",\", dtype=dic_t, low_memory=False)"
   ]
  },
  {
   "cell_type": "code",
   "execution_count": 23,
   "metadata": {
    "executionInfo": {
     "elapsed": 343,
     "status": "ok",
     "timestamp": 1730981659302,
     "user": {
      "displayName": "Roberto Nai",
      "userId": "01638620693582754310"
     },
     "user_tz": -60
    },
    "id": "pou8ALmvgaHB"
   },
   "outputs": [],
   "source": [
    "#  Removes columns added by DISCO\n",
    "col_del_list = ['Variant', 'Variant index']\n",
    "for col_del in col_del_list:\n",
    "  if col_del in df_log.columns:\n",
    "    df_log.drop(columns=col_del, inplace=True)"
   ]
  },
  {
   "cell_type": "code",
   "execution_count": 24,
   "metadata": {
    "colab": {
     "base_uri": "https://localhost:8080/"
    },
    "executionInfo": {
     "elapsed": 1,
     "status": "ok",
     "timestamp": 1730981660016,
     "user": {
      "displayName": "Roberto Nai",
      "userId": "01638620693582754310"
     },
     "user_tz": -60
    },
    "id": "I-Y2ltghf9ep",
    "outputId": "f125c203-253e-4335-b121-cd28e5ebc7a8"
   },
   "outputs": [
    {
     "data": {
      "text/plain": [
       "Index(['Case ID', 'Activity', 'Complete Timestamp', 'pageTitle', 'menu',\n",
       "       'pageOrder', 'pagePara', 'eventPage', 'click_num', 'dbclick_num',\n",
       "       'QuizSessionCount', 'QuizAnswerCorrectTotal', 'QuizAnswerWrongTotal',\n",
       "       'QuizAnswerCorrectRatioOverCount', 'QuizAnswerCorrectRatioOverAll',\n",
       "       'QuizSessionCount_P3', 'QuizAnswerCorrectTotal_P3',\n",
       "       'QuizAnswerWrongTotal_P3', 'QuizAnswerCorrectRatioOverCount_P3',\n",
       "       'QuizAnswerCorrectRatioOverAll_P3', 'Q_1', 'Q_2', 'Q_3', 'Q_4', 'Q_5',\n",
       "       'Q_6', 'Q_7', 'Q_8', 'Q_9', 'Q_10', 'Q_11', 'Q_12', 'Q_13', 'Q_14',\n",
       "       'Q_15', 'Q_16', 'Q_17', 'Q_18', 'Q_19', 'Q_20', 'Q_21', 'Q_22', 'Q_23',\n",
       "       'Q_24', 'Q_25', 'Q_26', 'Q_27', 'Q_28', 'SUS',\n",
       "       'Apprendimento percepito', 'UEQ - Pragmatic', 'UEQ - Hedonic',\n",
       "       'UEQ - Overall', 'TotalTimeHH', 'TotalTimeMM', 'TotalTimeMM.1',\n",
       "       'TotalTimeDD', 'CaseLength', 'Class', 'SUS_Tercile',\n",
       "       'Apprendimento percepito_Tercile', 'UEQ - Overall_Tercile',\n",
       "       'QuizAnswerCorrectRatioOverAll_Tercile', 'Class_Count', 'FN_N', 'FN_Q',\n",
       "       'FN_A', 'FN_C', 'FN_I', 'FN_CT', 'A_Time_s', 'A_Time_m',\n",
       "       'Backward_Jumps'],\n",
       "      dtype='object')"
      ]
     },
     "execution_count": 24,
     "metadata": {},
     "output_type": "execute_result"
    }
   ],
   "source": [
    "df_log.columns"
   ]
  },
  {
   "cell_type": "code",
   "execution_count": 25,
   "metadata": {
    "colab": {
     "base_uri": "https://localhost:8080/"
    },
    "executionInfo": {
     "elapsed": 2,
     "status": "ok",
     "timestamp": 1730981661087,
     "user": {
      "displayName": "Roberto Nai",
      "userId": "01638620693582754310"
     },
     "user_tz": -60
    },
    "id": "Qb-oyfLYe7Dy",
    "outputId": "f68a8d70-6f98-4efa-b6a5-dcc2de9b1547"
   },
   "outputs": [
    {
     "data": {
      "text/plain": [
       "(7399, 73)"
      ]
     },
     "execution_count": 25,
     "metadata": {},
     "output_type": "execute_result"
    }
   ],
   "source": [
    "# Dimension before cleaning\n",
    "df_log.shape"
   ]
  },
  {
   "cell_type": "code",
   "execution_count": 26,
   "metadata": {
    "executionInfo": {
     "elapsed": 1,
     "status": "ok",
     "timestamp": 1730981661478,
     "user": {
      "displayName": "Roberto Nai",
      "userId": "01638620693582754310"
     },
     "user_tz": -60
    },
    "id": "TOTo08QDe2lZ"
   },
   "outputs": [
    {
     "name": "stdout",
     "output_type": "stream",
     "text": [
      "Cases: 332\n"
     ]
    }
   ],
   "source": [
    "case_n = df_log[id_column].nunique()\n",
    "print(\"Cases:\", case_n)"
   ]
  },
  {
   "cell_type": "markdown",
   "metadata": {},
   "source": [
    "### Complete XES"
   ]
  },
  {
   "cell_type": "code",
   "execution_count": 27,
   "metadata": {},
   "outputs": [
    {
     "name": "stdout",
     "output_type": "stream",
     "text": [
      "> Saving the event log to XES\n",
      "Saving XES file to: data_log/edu_event_log_PAGE_raw_filtered_DISCO_ter_enr_no_SURVEY.xes\n"
     ]
    },
    {
     "name": "stderr",
     "output_type": "stream",
     "text": [
      "exporting log, completed traces :: 100%|██████████| 332/332 [00:01<00:00, 295.04it/s]\n"
     ]
    }
   ],
   "source": [
    "df_log = pm4py.format_dataframe(df_log, case_id=id_column, activity_key=activity_column, timestamp_key=timestamp_column)\n",
    "print(\"> Saving the event log to XES\")\n",
    "file_xes = f\"{Path(file_name).stem}.xes\"\n",
    "path_xes = Path(log_dir) / file_xes\n",
    "print(\"Saving XES file to:\", path_xes)\n",
    "pm4py.write_xes(df_log, path_xes, case_id_key='case:concept:name')"
   ]
  },
  {
   "cell_type": "markdown",
   "metadata": {},
   "source": [
    "### Jumps"
   ]
  },
  {
   "cell_type": "code",
   "execution_count": 38,
   "metadata": {},
   "outputs": [
    {
     "name": "stderr",
     "output_type": "stream",
     "text": [
      "parsing log, completed traces :: 100%|██████████| 332/332 [00:01<00:00, 191.23it/s]\n"
     ]
    },
    {
     "name": "stdout",
     "output_type": "stream",
     "text": [
      "<class 'pandas.core.frame.DataFrame'>\n"
     ]
    }
   ],
   "source": [
    "# Load the XES\n",
    "xes_log = pm4py.read_xes(path_xes.as_posix())\n",
    "# print(type(xes_log))\n",
    "\n",
    "# Dictionary to store the counts of forward and backward arcs per case_id\n",
    "arc_counts = defaultdict(lambda: {\"forward\": 0, \"backward\": 0})\n",
    "\n",
    "# Ensure the data is sorted by case_id and timestamp to maintain the correct event order\n",
    "xes_log = xes_log.sort_values(by=[id_column, \"time:timestamp\"])\n",
    "\n",
    "# Iterate through each unique case_id in the log\n",
    "for case_id, group in xes_log.groupby(id_column):\n",
    "    # Extract the sequence of activities for this case_id\n",
    "    activities = group[\"concept:name\"].tolist()\n",
    "    \n",
    "    # Track seen arcs to identify the first forward arc for each pair\n",
    "    seen_arcs = {}\n",
    "\n",
    "    # Iterate through the sequence of activities to evaluate arcs\n",
    "    for i in range(len(activities) - 1):\n",
    "        arc_forward = (activities[i], activities[i + 1])\n",
    "        arc_backward = (activities[i + 1], activities[i])\n",
    "\n",
    "        # If this forward arc hasn't been encountered yet, mark it as seen\n",
    "        if arc_forward not in seen_arcs:\n",
    "            seen_arcs[arc_forward] = True\n",
    "        else:\n",
    "            # Count subsequent forward arcs\n",
    "            arc_counts[case_id][\"forward\"] += 1\n",
    "\n",
    "        # Check if this backward arc has been seen before\n",
    "        if arc_backward in seen_arcs:\n",
    "            # Count backward arcs if this reverse connection is found\n",
    "            arc_counts[case_id][\"backward\"] += 1\n",
    "\n",
    "# Convert the dictionary into a DataFrame for easier analysis and visualisation\n",
    "arc_counts_df = pd.DataFrame.from_dict(arc_counts, orient=\"index\")\n",
    "arc_counts_df.index.name = id_column\n",
    "arc_counts_df.reset_index(inplace=True)"
   ]
  },
  {
   "cell_type": "code",
   "execution_count": 39,
   "metadata": {},
   "outputs": [
    {
     "data": {
      "text/html": [
       "<div>\n",
       "<style scoped>\n",
       "    .dataframe tbody tr th:only-of-type {\n",
       "        vertical-align: middle;\n",
       "    }\n",
       "\n",
       "    .dataframe tbody tr th {\n",
       "        vertical-align: top;\n",
       "    }\n",
       "\n",
       "    .dataframe thead th {\n",
       "        text-align: right;\n",
       "    }\n",
       "</style>\n",
       "<table border=\"1\" class=\"dataframe\">\n",
       "  <thead>\n",
       "    <tr style=\"text-align: right;\">\n",
       "      <th></th>\n",
       "      <th>Case ID</th>\n",
       "      <th>forward</th>\n",
       "      <th>backward</th>\n",
       "    </tr>\n",
       "  </thead>\n",
       "  <tbody>\n",
       "    <tr>\n",
       "      <th>0</th>\n",
       "      <td>1Xx63DJs5seRPUeVI4plfGaLDFsDKZYQnflAnWh9ueB7O7...</td>\n",
       "      <td>4</td>\n",
       "      <td>8</td>\n",
       "    </tr>\n",
       "    <tr>\n",
       "      <th>1</th>\n",
       "      <td>1eaWzLPFwWUQcHHna1aWAlt4uxdJhnl5pOVMWg6xlFjx1M...</td>\n",
       "      <td>0</td>\n",
       "      <td>1</td>\n",
       "    </tr>\n",
       "    <tr>\n",
       "      <th>2</th>\n",
       "      <td>234PhsWpxY9k20X69zFjqP3c3LWpvizHWKuEohMXhHJ93l...</td>\n",
       "      <td>0</td>\n",
       "      <td>1</td>\n",
       "    </tr>\n",
       "    <tr>\n",
       "      <th>3</th>\n",
       "      <td>2bZ518l1NFsI9QtJRkGopb48L2suDNeTfneEVZSyam63ws...</td>\n",
       "      <td>2</td>\n",
       "      <td>4</td>\n",
       "    </tr>\n",
       "    <tr>\n",
       "      <th>4</th>\n",
       "      <td>2iw52fLfPGEXgFCC6xCw7mRa3CAVLHxsBC18D5Eo7CrS1E...</td>\n",
       "      <td>7</td>\n",
       "      <td>9</td>\n",
       "    </tr>\n",
       "    <tr>\n",
       "      <th>...</th>\n",
       "      <td>...</td>\n",
       "      <td>...</td>\n",
       "      <td>...</td>\n",
       "    </tr>\n",
       "    <tr>\n",
       "      <th>163</th>\n",
       "      <td>y2mkbbLjBV7FTFnqJaXWK6rUilslXH4IzYFnFPkQQW6Ky1...</td>\n",
       "      <td>0</td>\n",
       "      <td>1</td>\n",
       "    </tr>\n",
       "    <tr>\n",
       "      <th>164</th>\n",
       "      <td>yonz2tBSUpQOMBbpmu06aT2P21FqA1wj4DEP9cAYpnVsxh...</td>\n",
       "      <td>5</td>\n",
       "      <td>8</td>\n",
       "    </tr>\n",
       "    <tr>\n",
       "      <th>165</th>\n",
       "      <td>zIDdTe8pSq83Df4PvzzJWbvW02BLtB9i0hLLSlhwUT6yE5...</td>\n",
       "      <td>1</td>\n",
       "      <td>5</td>\n",
       "    </tr>\n",
       "    <tr>\n",
       "      <th>166</th>\n",
       "      <td>zO8034BWt9Eaw7tI6TN64EqUxHFEyG7RaYFubdGfCJ0ptK...</td>\n",
       "      <td>0</td>\n",
       "      <td>1</td>\n",
       "    </tr>\n",
       "    <tr>\n",
       "      <th>167</th>\n",
       "      <td>zzoUEiosICe23KjG7DtRi4xts7pvFIJAGYHu4q8dvB42rf...</td>\n",
       "      <td>2</td>\n",
       "      <td>3</td>\n",
       "    </tr>\n",
       "  </tbody>\n",
       "</table>\n",
       "<p>168 rows × 3 columns</p>\n",
       "</div>"
      ],
      "text/plain": [
       "                                               Case ID  forward  backward\n",
       "0    1Xx63DJs5seRPUeVI4plfGaLDFsDKZYQnflAnWh9ueB7O7...        4         8\n",
       "1    1eaWzLPFwWUQcHHna1aWAlt4uxdJhnl5pOVMWg6xlFjx1M...        0         1\n",
       "2    234PhsWpxY9k20X69zFjqP3c3LWpvizHWKuEohMXhHJ93l...        0         1\n",
       "3    2bZ518l1NFsI9QtJRkGopb48L2suDNeTfneEVZSyam63ws...        2         4\n",
       "4    2iw52fLfPGEXgFCC6xCw7mRa3CAVLHxsBC18D5Eo7CrS1E...        7         9\n",
       "..                                                 ...      ...       ...\n",
       "163  y2mkbbLjBV7FTFnqJaXWK6rUilslXH4IzYFnFPkQQW6Ky1...        0         1\n",
       "164  yonz2tBSUpQOMBbpmu06aT2P21FqA1wj4DEP9cAYpnVsxh...        5         8\n",
       "165  zIDdTe8pSq83Df4PvzzJWbvW02BLtB9i0hLLSlhwUT6yE5...        1         5\n",
       "166  zO8034BWt9Eaw7tI6TN64EqUxHFEyG7RaYFubdGfCJ0ptK...        0         1\n",
       "167  zzoUEiosICe23KjG7DtRi4xts7pvFIJAGYHu4q8dvB42rf...        2         3\n",
       "\n",
       "[168 rows x 3 columns]"
      ]
     },
     "execution_count": 39,
     "metadata": {},
     "output_type": "execute_result"
    }
   ],
   "source": [
    "arc_counts_df"
   ]
  },
  {
   "cell_type": "markdown",
   "metadata": {},
   "source": [
    "### Menu values"
   ]
  },
  {
   "cell_type": "code",
   "execution_count": 9,
   "metadata": {},
   "outputs": [
    {
     "name": "stdout",
     "output_type": "stream",
     "text": [
      ">> Menu values\n",
      "Menu values (4): ['menu_1', 'menu_2', 'menu_3', 'menu_4']\n"
     ]
    }
   ],
   "source": [
    "print(\">> Menu values\")\n",
    "menu_list = sorted(list(df_log[\"menu\"].unique()))\n",
    "menu_list_len = len(menu_list)\n",
    "print(f\"Menu values ({menu_list_len}):\", menu_list)"
   ]
  },
  {
   "cell_type": "code",
   "execution_count": 10,
   "metadata": {},
   "outputs": [
    {
     "name": "stdout",
     "output_type": "stream",
     "text": [
      "Cases: 113\n"
     ]
    }
   ],
   "source": [
    "df_log_menu_2 = df_log.groupby('Case ID').filter(lambda g: {'menu_1', 'menu_2'}.issubset(g['menu'].unique()))\n",
    "case_n_1 = df_log_menu_2[id_column].nunique()\n",
    "print(\"Cases:\", case_n_1)"
   ]
  },
  {
   "cell_type": "code",
   "execution_count": 11,
   "metadata": {},
   "outputs": [
    {
     "name": "stdout",
     "output_type": "stream",
     "text": [
      "Cases: 80\n"
     ]
    }
   ],
   "source": [
    "df_log_menu_3 = df_log.groupby('Case ID').filter(lambda g: {'menu_1', 'menu_3'}.issubset(g['menu'].unique()))\n",
    "case_n_2 = df_log_menu_3[id_column].nunique()\n",
    "print(\"Cases:\", case_n_2)"
   ]
  },
  {
   "cell_type": "code",
   "execution_count": 12,
   "metadata": {},
   "outputs": [
    {
     "name": "stdout",
     "output_type": "stream",
     "text": [
      "Cases: 139\n"
     ]
    }
   ],
   "source": [
    "df_log_menu_4 = df_log.groupby('Case ID').filter(lambda g: {'menu_1', 'menu_4'}.issubset(g['menu'].unique()))\n",
    "case_n_3 = df_log_menu_4[id_column].nunique()\n",
    "print(\"Cases:\", case_n_3)"
   ]
  },
  {
   "cell_type": "code",
   "execution_count": 13,
   "metadata": {},
   "outputs": [
    {
     "name": "stdout",
     "output_type": "stream",
     "text": [
      "True\n"
     ]
    }
   ],
   "source": [
    "# Check\n",
    "print(case_n == (case_n_1+case_n_2+case_n_3))"
   ]
  },
  {
   "cell_type": "code",
   "execution_count": 14,
   "metadata": {},
   "outputs": [],
   "source": [
    "list_df_log = []\n",
    "list_df_log.append({\"menu\":2, \"df\":df_log_menu_2})\n",
    "list_df_log.append({\"menu\":3, \"df\":df_log_menu_3})\n",
    "list_df_log.append({\"menu\":4, \"df\":df_log_menu_4})"
   ]
  },
  {
   "cell_type": "markdown",
   "metadata": {},
   "source": [
    "### Conversion to XES and computing Cyclomatic Complexity"
   ]
  },
  {
   "cell_type": "code",
   "execution_count": 15,
   "metadata": {
    "executionInfo": {
     "elapsed": 350,
     "status": "ok",
     "timestamp": 1730981663725,
     "user": {
      "displayName": "Roberto Nai",
      "userId": "01638620693582754310"
     },
     "user_tz": -60
    },
    "id": "K4oa2sG_e5Iu"
   },
   "outputs": [
    {
     "name": "stdout",
     "output_type": "stream",
     "text": [
      "> Formatting the event log\n",
      "Total cases: 113\n",
      "> Saving the event log to XES\n",
      "Saving XES file to: data_log/edu_event_log_PAGE_raw_filtered_DISCO_ter_enr_no_SURVEY_menu_1-2.xes\n"
     ]
    },
    {
     "name": "stderr",
     "output_type": "stream",
     "text": [
      "/Library/Frameworks/Python.framework/Versions/3.12/lib/python3.12/site-packages/tqdm/auto.py:21: TqdmWarning: IProgress not found. Please update jupyter and ipywidgets. See https://ipywidgets.readthedocs.io/en/stable/user_install.html\n",
      "  from .autonotebook import tqdm as notebook_tqdm\n",
      "exporting log, completed traces :: 100%|██████████| 113/113 [00:00<00:00, 311.56it/s]\n"
     ]
    },
    {
     "name": "stdout",
     "output_type": "stream",
     "text": [
      "Total cases (filtered): 113\n",
      "> Saving the event log to XES\n",
      "Saving XES file to: data_log/edu_event_log_PAGE_raw_filtered_DISCO_ter_enr_no_SURVEY_menu_1-2_UEQ - Overall_Tercile_1.xes\n"
     ]
    },
    {
     "name": "stderr",
     "output_type": "stream",
     "text": [
      "exporting log, completed traces :: 100%|██████████| 39/39 [00:00<00:00, 298.13it/s]\n",
      "parsing log, completed traces :: 100%|██████████| 39/39 [00:00<00:00, 202.34it/s]\n"
     ]
    },
    {
     "name": "stdout",
     "output_type": "stream",
     "text": [
      "Cyclomatyc complexity: 41\n",
      "Total cases (filtered): 113\n",
      "> Saving the event log to XES\n",
      "Saving XES file to: data_log/edu_event_log_PAGE_raw_filtered_DISCO_ter_enr_no_SURVEY_menu_1-2_UEQ - Overall_Tercile_3.xes\n"
     ]
    },
    {
     "name": "stderr",
     "output_type": "stream",
     "text": [
      "exporting log, completed traces :: 100%|██████████| 28/28 [00:00<00:00, 302.91it/s]\n",
      "parsing log, completed traces :: 100%|██████████| 28/28 [00:00<00:00, 142.90it/s]\n"
     ]
    },
    {
     "name": "stdout",
     "output_type": "stream",
     "text": [
      "Cyclomatyc complexity: 38\n",
      "> Formatting the event log\n",
      "Total cases: 80\n",
      "> Saving the event log to XES\n",
      "Saving XES file to: data_log/edu_event_log_PAGE_raw_filtered_DISCO_ter_enr_no_SURVEY_menu_1-3.xes\n"
     ]
    },
    {
     "name": "stderr",
     "output_type": "stream",
     "text": [
      "exporting log, completed traces :: 100%|██████████| 80/80 [00:00<00:00, 285.86it/s]\n"
     ]
    },
    {
     "name": "stdout",
     "output_type": "stream",
     "text": [
      "Total cases (filtered): 80\n",
      "> Saving the event log to XES\n",
      "Saving XES file to: data_log/edu_event_log_PAGE_raw_filtered_DISCO_ter_enr_no_SURVEY_menu_1-3_UEQ - Overall_Tercile_1.xes\n"
     ]
    },
    {
     "name": "stderr",
     "output_type": "stream",
     "text": [
      "exporting log, completed traces :: 100%|██████████| 31/31 [00:00<00:00, 269.40it/s]\n",
      "parsing log, completed traces :: 100%|██████████| 31/31 [00:00<00:00, 188.58it/s]\n"
     ]
    },
    {
     "name": "stdout",
     "output_type": "stream",
     "text": [
      "Cyclomatyc complexity: 59\n",
      "Total cases (filtered): 80\n",
      "> Saving the event log to XES\n",
      "Saving XES file to: data_log/edu_event_log_PAGE_raw_filtered_DISCO_ter_enr_no_SURVEY_menu_1-3_UEQ - Overall_Tercile_3.xes\n"
     ]
    },
    {
     "name": "stderr",
     "output_type": "stream",
     "text": [
      "exporting log, completed traces :: 100%|██████████| 21/21 [00:00<00:00, 302.40it/s]\n",
      "parsing log, completed traces :: 100%|██████████| 21/21 [00:00<00:00, 201.84it/s]\n"
     ]
    },
    {
     "name": "stdout",
     "output_type": "stream",
     "text": [
      "Cyclomatyc complexity: 31\n",
      "> Formatting the event log\n",
      "Total cases: 139\n",
      "> Saving the event log to XES\n",
      "Saving XES file to: data_log/edu_event_log_PAGE_raw_filtered_DISCO_ter_enr_no_SURVEY_menu_1-4.xes\n"
     ]
    },
    {
     "name": "stderr",
     "output_type": "stream",
     "text": [
      "exporting log, completed traces :: 100%|██████████| 139/139 [00:00<00:00, 311.48it/s]\n"
     ]
    },
    {
     "name": "stdout",
     "output_type": "stream",
     "text": [
      "Total cases (filtered): 139\n",
      "> Saving the event log to XES\n",
      "Saving XES file to: data_log/edu_event_log_PAGE_raw_filtered_DISCO_ter_enr_no_SURVEY_menu_1-4_UEQ - Overall_Tercile_1.xes\n"
     ]
    },
    {
     "name": "stderr",
     "output_type": "stream",
     "text": [
      "exporting log, completed traces :: 100%|██████████| 47/47 [00:00<00:00, 297.83it/s]\n",
      "parsing log, completed traces :: 100%|██████████| 47/47 [00:00<00:00, 210.03it/s]\n"
     ]
    },
    {
     "name": "stdout",
     "output_type": "stream",
     "text": [
      "Cyclomatyc complexity: 48\n",
      "Total cases (filtered): 139\n",
      "> Saving the event log to XES\n",
      "Saving XES file to: data_log/edu_event_log_PAGE_raw_filtered_DISCO_ter_enr_no_SURVEY_menu_1-4_UEQ - Overall_Tercile_3.xes\n"
     ]
    },
    {
     "name": "stderr",
     "output_type": "stream",
     "text": [
      "exporting log, completed traces :: 100%|██████████| 44/44 [00:00<00:00, 301.94it/s]\n",
      "parsing log, completed traces :: 100%|██████████| 44/44 [00:00<00:00, 179.05it/s]"
     ]
    },
    {
     "name": "stdout",
     "output_type": "stream",
     "text": [
      "Cyclomatyc complexity: 41\n"
     ]
    },
    {
     "name": "stderr",
     "output_type": "stream",
     "text": [
      "\n"
     ]
    }
   ],
   "source": [
    "list_results = []\n",
    "for dic_df in list_df_log:\n",
    "    print(\"> Formatting the event log\")\n",
    "    df_log = dic_df[\"df\"]\n",
    "    menu_val = dic_df[\"menu\"]\n",
    "    cases_all = df_log[id_column].nunique()\n",
    "    print(\"Total cases:\", cases_all)\n",
    "    df_log = pm4py.format_dataframe(df_log, case_id=id_column, activity_key=activity_column, timestamp_key=timestamp_column)\n",
    "    \n",
    "    print(\"> Saving the event log to XES\")\n",
    "    file_xes = f\"{Path(file_name).stem}_menu_1-{menu_val}.xes\"\n",
    "    path_xes = Path(log_dir) / file_xes\n",
    "    print(\"Saving XES file to:\", path_xes)\n",
    "    pm4py.write_xes(df_log, path_xes, case_id_key='case:concept:name')\n",
    "\n",
    "    # Filter by usability columns\n",
    "    for usability_val in usability_val_list:\n",
    "        df_log_filterd = df_log[df_log[usability_col] == usability_val]\n",
    "        cases_tercile = df_log_filterd[id_column].nunique()\n",
    "        print(\"Total cases (filtered):\", cases_all)\n",
    "        # Save it to XES\n",
    "        print(\"> Saving the event log to XES\")\n",
    "        file_xes = f\"{Path(file_name).stem}_menu_1-{menu_val}_{usability_col}_{usability_val}.xes\"\n",
    "        path_xes = Path(log_dir) / file_xes\n",
    "        print(\"Saving XES file to:\", path_xes)\n",
    "        pm4py.write_xes(df_log_filterd, path_xes, case_id_key='case:concept:name')\n",
    "        # Load the XES\n",
    "        xes_log = pm4py.read_xes(path_xes.as_posix())\n",
    "        v = calculate_cyclomatic_complexity(xes_log)\n",
    "        print(\"Cyclomatyc complexity:\", v)\n",
    "        dic_res = {\"file_name\": file_xes, \"menu\":menu_val, \"cases_all\": cases_all, \"cases_tercile\":cases_tercile, \"usability_column\":usability_col, \"usability_value\":usability_val, \"cyclomatic_complexity\": v}\n",
    "        list_results.append(dic_res)"
   ]
  },
  {
   "cell_type": "code",
   "execution_count": 16,
   "metadata": {},
   "outputs": [],
   "source": [
    "df_results = pd.DataFrame(list_results)"
   ]
  },
  {
   "cell_type": "code",
   "execution_count": 17,
   "metadata": {},
   "outputs": [
    {
     "data": {
      "text/html": [
       "<div>\n",
       "<style scoped>\n",
       "    .dataframe tbody tr th:only-of-type {\n",
       "        vertical-align: middle;\n",
       "    }\n",
       "\n",
       "    .dataframe tbody tr th {\n",
       "        vertical-align: top;\n",
       "    }\n",
       "\n",
       "    .dataframe thead th {\n",
       "        text-align: right;\n",
       "    }\n",
       "</style>\n",
       "<table border=\"1\" class=\"dataframe\">\n",
       "  <thead>\n",
       "    <tr style=\"text-align: right;\">\n",
       "      <th></th>\n",
       "      <th>file_name</th>\n",
       "      <th>menu</th>\n",
       "      <th>cases_all</th>\n",
       "      <th>cases_tercile</th>\n",
       "      <th>usability_column</th>\n",
       "      <th>usability_value</th>\n",
       "      <th>cyclomatic_complexity</th>\n",
       "    </tr>\n",
       "  </thead>\n",
       "  <tbody>\n",
       "    <tr>\n",
       "      <th>0</th>\n",
       "      <td>edu_event_log_PAGE_raw_filtered_DISCO_ter_enr_...</td>\n",
       "      <td>2</td>\n",
       "      <td>113</td>\n",
       "      <td>39</td>\n",
       "      <td>UEQ - Overall_Tercile</td>\n",
       "      <td>1</td>\n",
       "      <td>41</td>\n",
       "    </tr>\n",
       "    <tr>\n",
       "      <th>1</th>\n",
       "      <td>edu_event_log_PAGE_raw_filtered_DISCO_ter_enr_...</td>\n",
       "      <td>2</td>\n",
       "      <td>113</td>\n",
       "      <td>28</td>\n",
       "      <td>UEQ - Overall_Tercile</td>\n",
       "      <td>3</td>\n",
       "      <td>38</td>\n",
       "    </tr>\n",
       "    <tr>\n",
       "      <th>2</th>\n",
       "      <td>edu_event_log_PAGE_raw_filtered_DISCO_ter_enr_...</td>\n",
       "      <td>3</td>\n",
       "      <td>80</td>\n",
       "      <td>31</td>\n",
       "      <td>UEQ - Overall_Tercile</td>\n",
       "      <td>1</td>\n",
       "      <td>59</td>\n",
       "    </tr>\n",
       "    <tr>\n",
       "      <th>3</th>\n",
       "      <td>edu_event_log_PAGE_raw_filtered_DISCO_ter_enr_...</td>\n",
       "      <td>3</td>\n",
       "      <td>80</td>\n",
       "      <td>21</td>\n",
       "      <td>UEQ - Overall_Tercile</td>\n",
       "      <td>3</td>\n",
       "      <td>31</td>\n",
       "    </tr>\n",
       "    <tr>\n",
       "      <th>4</th>\n",
       "      <td>edu_event_log_PAGE_raw_filtered_DISCO_ter_enr_...</td>\n",
       "      <td>4</td>\n",
       "      <td>139</td>\n",
       "      <td>47</td>\n",
       "      <td>UEQ - Overall_Tercile</td>\n",
       "      <td>1</td>\n",
       "      <td>48</td>\n",
       "    </tr>\n",
       "    <tr>\n",
       "      <th>5</th>\n",
       "      <td>edu_event_log_PAGE_raw_filtered_DISCO_ter_enr_...</td>\n",
       "      <td>4</td>\n",
       "      <td>139</td>\n",
       "      <td>44</td>\n",
       "      <td>UEQ - Overall_Tercile</td>\n",
       "      <td>3</td>\n",
       "      <td>41</td>\n",
       "    </tr>\n",
       "  </tbody>\n",
       "</table>\n",
       "</div>"
      ],
      "text/plain": [
       "                                           file_name  menu  cases_all  \\\n",
       "0  edu_event_log_PAGE_raw_filtered_DISCO_ter_enr_...     2        113   \n",
       "1  edu_event_log_PAGE_raw_filtered_DISCO_ter_enr_...     2        113   \n",
       "2  edu_event_log_PAGE_raw_filtered_DISCO_ter_enr_...     3         80   \n",
       "3  edu_event_log_PAGE_raw_filtered_DISCO_ter_enr_...     3         80   \n",
       "4  edu_event_log_PAGE_raw_filtered_DISCO_ter_enr_...     4        139   \n",
       "5  edu_event_log_PAGE_raw_filtered_DISCO_ter_enr_...     4        139   \n",
       "\n",
       "   cases_tercile       usability_column  usability_value  \\\n",
       "0             39  UEQ - Overall_Tercile                1   \n",
       "1             28  UEQ - Overall_Tercile                3   \n",
       "2             31  UEQ - Overall_Tercile                1   \n",
       "3             21  UEQ - Overall_Tercile                3   \n",
       "4             47  UEQ - Overall_Tercile                1   \n",
       "5             44  UEQ - Overall_Tercile                3   \n",
       "\n",
       "   cyclomatic_complexity  \n",
       "0                     41  \n",
       "1                     38  \n",
       "2                     59  \n",
       "3                     31  \n",
       "4                     48  \n",
       "5                     41  "
      ]
     },
     "execution_count": 17,
     "metadata": {},
     "output_type": "execute_result"
    }
   ],
   "source": [
    "df_results"
   ]
  },
  {
   "cell_type": "code",
   "execution_count": 18,
   "metadata": {},
   "outputs": [],
   "source": [
    "path_res = Path(stats_dir) / \"cyclomatic_complexity_by_menu_usability.csv\"\n",
    "df_results.to_csv(path_res, sep=\";\", index=False, mode=\"a\")"
   ]
  }
 ],
 "metadata": {
  "colab": {
   "authorship_tag": "ABX9TyNRTr+4uwSQ7Fvaw79EqAUu",
   "provenance": []
  },
  "kernelspec": {
   "display_name": "Python 3",
   "name": "python3"
  },
  "language_info": {
   "codemirror_mode": {
    "name": "ipython",
    "version": 3
   },
   "file_extension": ".py",
   "mimetype": "text/x-python",
   "name": "python",
   "nbconvert_exporter": "python",
   "pygments_lexer": "ipython3",
   "version": "3.12.2"
  }
 },
 "nbformat": 4,
 "nbformat_minor": 0
}
