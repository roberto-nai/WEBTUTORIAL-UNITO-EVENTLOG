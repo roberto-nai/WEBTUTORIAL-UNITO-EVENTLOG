{
 "cells": [
  {
   "cell_type": "markdown",
   "metadata": {},
   "source": [
    "## Event log COMPLEXITY"
   ]
  },
  {
   "cell_type": "code",
   "execution_count": 3,
   "metadata": {
    "executionInfo": {
     "elapsed": 355,
     "status": "ok",
     "timestamp": 1730981616721,
     "user": {
      "displayName": "Roberto Nai",
      "userId": "01638620693582754310"
     },
     "user_tz": -60
    },
    "id": "N26IMkBHebhG"
   },
   "outputs": [],
   "source": [
    "### IMPORT ###\n",
    "from pathlib import Path\n",
    "import pandas as pd\n",
    "import pm4py\n",
    "from pm4py.algo.discovery.dfg import algorithm as dfg_discovery\n",
    "\n",
    "### LOCAL IMPORT ###\n",
    "from config import config_reader"
   ]
  },
  {
   "cell_type": "code",
   "execution_count": 4,
   "metadata": {
    "executionInfo": {
     "elapsed": 341,
     "status": "ok",
     "timestamp": 1730981656253,
     "user": {
      "displayName": "Roberto Nai",
      "userId": "01638620693582754310"
     },
     "user_tz": -60
    },
    "id": "UWDjqy_GejAV"
   },
   "outputs": [],
   "source": [
    "### GLOBALS ###\n",
    "yaml_config = config_reader.config_read_yaml(\"config.yml\", \"config\")\n",
    "# print(yaml_config) # debug\n",
    "log_dir = str(yaml_config[\"LOG_DIR\"])\n",
    "stats_dir = str(yaml_config[\"STATS_DIR\"])\n",
    "\n",
    "level = \"PAGE\" # PARA, PAGE\n",
    "file_name = f\"edu_event_log_{level}_raw_filtered_DISCO_ter_enr_no_SURVEY.csv\" # input file to be read\n",
    "id_column = \"Case ID\"\n",
    "activity_column = \"Activity\"\n",
    "timestamp_column = \"Complete Timestamp\"\n",
    "usability_col = \"UEQ - Overall_Tercile\" # [SUS_Tercile, Apprendimento percepito_Tercile, UEQ - Overall_Tercile]\n",
    "usability_val_list = [1, 3]"
   ]
  },
  {
   "cell_type": "markdown",
   "metadata": {},
   "source": [
    "# FUNCTIONS"
   ]
  },
  {
   "cell_type": "code",
   "execution_count": 5,
   "metadata": {},
   "outputs": [],
   "source": [
    "def calculate_cyclomatic_complexity(xes_log):\n",
    "    \"\"\"\n",
    "    Calculate the cyclomatic complexity from an XES event log.\n",
    "\n",
    "    Parameters:\n",
    "    xes_log: The event log in XES format (pm4py EventLog object). It should represent a single process execution log.\n",
    "\n",
    "    Returns:\n",
    "    float: The cyclomatic complexity of the resulting Directly-Follows Graph (DFG).\n",
    "    \"\"\"\n",
    "    # Obtain the DFG from the XES log\n",
    "    dfg = dfg_discovery.apply(xes_log)\n",
    "    \n",
    "    # Extract nodes from the DFG keys (each key is a tuple (activity1, activity2))\n",
    "    nodes = set()\n",
    "    for (s, t) in dfg.keys():\n",
    "        nodes.add(s)\n",
    "        nodes.add(t)\n",
    "    \n",
    "    # Count the number of nodes and edges\n",
    "    N = len(nodes)\n",
    "    E = len(dfg.keys())\n",
    "    \n",
    "    # Assume the graph is connected, so P = 1\n",
    "    P = 1  \n",
    "    \n",
    "    # Calculate cyclomatic complexity: V(G) = E - N + 2P\n",
    "    V = E - N + 2 * P\n",
    "    \n",
    "    return V"
   ]
  },
  {
   "cell_type": "markdown",
   "metadata": {},
   "source": [
    "## MAIN"
   ]
  },
  {
   "cell_type": "code",
   "execution_count": 6,
   "metadata": {
    "executionInfo": {
     "elapsed": 437,
     "status": "ok",
     "timestamp": 1730981658405,
     "user": {
      "displayName": "Roberto Nai",
      "userId": "01638620693582754310"
     },
     "user_tz": -60
    },
    "id": "N6vdPPl3ege2"
   },
   "outputs": [
    {
     "name": "stdout",
     "output_type": "stream",
     "text": [
      ">> Reading event log\n",
      "Path: data_log/edu_event_log_PAGE_raw_filtered_DISCO_ter_enr_no_SURVEY.csv\n"
     ]
    }
   ],
   "source": [
    "# Load the CSV\n",
    "print(\">> Reading event log\")\n",
    "path_log = Path(log_dir) / file_name\n",
    "print(\"Path:\", path_log)\n",
    "dic_t = {'Case ID':object, 'CaseLength':int, 'SUS_Tercile':int, 'Apprendimento percepito_Tercile':int, 'UEQ - Overall_Tercile':int, 'QuizAnswerCorrectRatioOverAll_Tercile':int} \n",
    "df_log = pd.read_csv(path_log, sep = \",\", dtype=dic_t, low_memory=False)"
   ]
  },
  {
   "cell_type": "code",
   "execution_count": 7,
   "metadata": {
    "executionInfo": {
     "elapsed": 343,
     "status": "ok",
     "timestamp": 1730981659302,
     "user": {
      "displayName": "Roberto Nai",
      "userId": "01638620693582754310"
     },
     "user_tz": -60
    },
    "id": "pou8ALmvgaHB"
   },
   "outputs": [],
   "source": [
    "#  Removes columns added by DISCO\n",
    "col_del_list = ['Variant', 'Variant index']\n",
    "for col_del in col_del_list:\n",
    "  if col_del in df_log.columns:\n",
    "    df_log.drop(columns=col_del, inplace=True)"
   ]
  },
  {
   "cell_type": "code",
   "execution_count": 8,
   "metadata": {
    "colab": {
     "base_uri": "https://localhost:8080/"
    },
    "executionInfo": {
     "elapsed": 1,
     "status": "ok",
     "timestamp": 1730981660016,
     "user": {
      "displayName": "Roberto Nai",
      "userId": "01638620693582754310"
     },
     "user_tz": -60
    },
    "id": "I-Y2ltghf9ep",
    "outputId": "f125c203-253e-4335-b121-cd28e5ebc7a8"
   },
   "outputs": [
    {
     "data": {
      "text/plain": [
       "Index(['Case ID', 'Activity', 'Complete Timestamp', 'pageTitle', 'menu',\n",
       "       'pageOrder', 'pagePara', 'eventPage', 'click_num', 'dbclick_num',\n",
       "       'QuizSessionCount', 'QuizAnswerCorrectTotal', 'QuizAnswerWrongTotal',\n",
       "       'QuizAnswerCorrectRatioOverCount', 'QuizAnswerCorrectRatioOverAll',\n",
       "       'QuizSessionCount_P3', 'QuizAnswerCorrectTotal_P3',\n",
       "       'QuizAnswerWrongTotal_P3', 'QuizAnswerCorrectRatioOverCount_P3',\n",
       "       'QuizAnswerCorrectRatioOverAll_P3', 'Q_1', 'Q_2', 'Q_3', 'Q_4', 'Q_5',\n",
       "       'Q_6', 'Q_7', 'Q_8', 'Q_9', 'Q_10', 'Q_11', 'Q_12', 'Q_13', 'Q_14',\n",
       "       'Q_15', 'Q_16', 'Q_17', 'Q_18', 'Q_19', 'Q_20', 'Q_21', 'Q_22', 'Q_23',\n",
       "       'Q_24', 'Q_25', 'Q_26', 'Q_27', 'Q_28', 'SUS',\n",
       "       'Apprendimento percepito', 'UEQ - Pragmatic', 'UEQ - Hedonic',\n",
       "       'UEQ - Overall', 'TotalTimeHH', 'TotalTimeMM', 'TotalTimeMM.1',\n",
       "       'TotalTimeDD', 'CaseLength', 'Class', 'SUS_Tercile',\n",
       "       'Apprendimento percepito_Tercile', 'UEQ - Overall_Tercile',\n",
       "       'QuizAnswerCorrectRatioOverAll_Tercile', 'Class_Count', 'FN_N', 'FN_Q',\n",
       "       'FN_A', 'FN_C', 'FN_I', 'FN_CT', 'A_Time_s', 'A_Time_m',\n",
       "       'Forward_Jumps', 'Backward_Jumps'],\n",
       "      dtype='object')"
      ]
     },
     "execution_count": 8,
     "metadata": {},
     "output_type": "execute_result"
    }
   ],
   "source": [
    "df_log.columns"
   ]
  },
  {
   "cell_type": "code",
   "execution_count": 9,
   "metadata": {
    "colab": {
     "base_uri": "https://localhost:8080/"
    },
    "executionInfo": {
     "elapsed": 2,
     "status": "ok",
     "timestamp": 1730981661087,
     "user": {
      "displayName": "Roberto Nai",
      "userId": "01638620693582754310"
     },
     "user_tz": -60
    },
    "id": "Qb-oyfLYe7Dy",
    "outputId": "f68a8d70-6f98-4efa-b6a5-dcc2de9b1547"
   },
   "outputs": [
    {
     "data": {
      "text/plain": [
       "(7399, 74)"
      ]
     },
     "execution_count": 9,
     "metadata": {},
     "output_type": "execute_result"
    }
   ],
   "source": [
    "# Dimension before cleaning\n",
    "df_log.shape"
   ]
  },
  {
   "cell_type": "code",
   "execution_count": 10,
   "metadata": {
    "executionInfo": {
     "elapsed": 1,
     "status": "ok",
     "timestamp": 1730981661478,
     "user": {
      "displayName": "Roberto Nai",
      "userId": "01638620693582754310"
     },
     "user_tz": -60
    },
    "id": "TOTo08QDe2lZ"
   },
   "outputs": [
    {
     "name": "stdout",
     "output_type": "stream",
     "text": [
      "Cases: 332\n"
     ]
    }
   ],
   "source": [
    "case_n = df_log[id_column].nunique()\n",
    "print(\"Cases:\", case_n)"
   ]
  },
  {
   "cell_type": "markdown",
   "metadata": {},
   "source": [
    "### Complete XES"
   ]
  },
  {
   "cell_type": "code",
   "execution_count": 11,
   "metadata": {},
   "outputs": [
    {
     "name": "stdout",
     "output_type": "stream",
     "text": [
      "> Saving the event log to XES\n",
      "Saving XES file to: data_log/edu_event_log_PAGE_raw_filtered_DISCO_ter_enr_no_SURVEY.xes\n"
     ]
    },
    {
     "name": "stderr",
     "output_type": "stream",
     "text": [
      "/Library/Frameworks/Python.framework/Versions/3.12/lib/python3.12/site-packages/tqdm/auto.py:21: TqdmWarning: IProgress not found. Please update jupyter and ipywidgets. See https://ipywidgets.readthedocs.io/en/stable/user_install.html\n",
      "  from .autonotebook import tqdm as notebook_tqdm\n",
      "exporting log, completed traces :: 100%|██████████| 332/332 [00:01<00:00, 232.62it/s]\n"
     ]
    }
   ],
   "source": [
    "df_log = pm4py.format_dataframe(df_log, case_id=id_column, activity_key=activity_column, timestamp_key=timestamp_column)\n",
    "print(\"> Saving the event log to XES\")\n",
    "file_xes = f\"{Path(file_name).stem}.xes\"\n",
    "path_xes = Path(log_dir) / file_xes\n",
    "print(\"Saving XES file to:\", path_xes)\n",
    "pm4py.write_xes(df_log, path_xes, case_id_key='case:concept:name')"
   ]
  },
  {
   "cell_type": "markdown",
   "metadata": {},
   "source": [
    "### Menu values"
   ]
  },
  {
   "cell_type": "code",
   "execution_count": 12,
   "metadata": {},
   "outputs": [
    {
     "name": "stdout",
     "output_type": "stream",
     "text": [
      ">> Menu values\n",
      "Menu values (4): ['menu_1', 'menu_2', 'menu_3', 'menu_4']\n"
     ]
    }
   ],
   "source": [
    "print(\">> Menu values\")\n",
    "menu_list = sorted(list(df_log[\"menu\"].unique()))\n",
    "menu_list_len = len(menu_list)\n",
    "print(f\"Menu values ({menu_list_len}):\", menu_list)"
   ]
  },
  {
   "cell_type": "code",
   "execution_count": 13,
   "metadata": {},
   "outputs": [
    {
     "name": "stdout",
     "output_type": "stream",
     "text": [
      "Cases: 113\n"
     ]
    }
   ],
   "source": [
    "df_log_menu_2 = df_log.groupby('Case ID').filter(lambda g: {'menu_1', 'menu_2'}.issubset(g['menu'].unique()))\n",
    "case_n_1 = df_log_menu_2[id_column].nunique()\n",
    "print(\"Cases:\", case_n_1)"
   ]
  },
  {
   "cell_type": "code",
   "execution_count": 14,
   "metadata": {},
   "outputs": [
    {
     "name": "stdout",
     "output_type": "stream",
     "text": [
      "Cases: 80\n"
     ]
    }
   ],
   "source": [
    "df_log_menu_3 = df_log.groupby('Case ID').filter(lambda g: {'menu_1', 'menu_3'}.issubset(g['menu'].unique()))\n",
    "case_n_2 = df_log_menu_3[id_column].nunique()\n",
    "print(\"Cases:\", case_n_2)"
   ]
  },
  {
   "cell_type": "code",
   "execution_count": 15,
   "metadata": {},
   "outputs": [
    {
     "name": "stdout",
     "output_type": "stream",
     "text": [
      "Cases: 139\n"
     ]
    }
   ],
   "source": [
    "df_log_menu_4 = df_log.groupby('Case ID').filter(lambda g: {'menu_1', 'menu_4'}.issubset(g['menu'].unique()))\n",
    "case_n_3 = df_log_menu_4[id_column].nunique()\n",
    "print(\"Cases:\", case_n_3)"
   ]
  },
  {
   "cell_type": "code",
   "execution_count": 16,
   "metadata": {},
   "outputs": [
    {
     "name": "stdout",
     "output_type": "stream",
     "text": [
      "True\n"
     ]
    }
   ],
   "source": [
    "# Check\n",
    "print(case_n == (case_n_1+case_n_2+case_n_3))"
   ]
  },
  {
   "cell_type": "code",
   "execution_count": 17,
   "metadata": {},
   "outputs": [],
   "source": [
    "list_df_log = []\n",
    "list_df_log.append({\"menu\":2, \"df\":df_log_menu_2})\n",
    "list_df_log.append({\"menu\":3, \"df\":df_log_menu_3})\n",
    "list_df_log.append({\"menu\":4, \"df\":df_log_menu_4})"
   ]
  },
  {
   "cell_type": "markdown",
   "metadata": {},
   "source": [
    "### Conversion to XES and computing Cyclomatic Complexity"
   ]
  },
  {
   "cell_type": "code",
   "execution_count": 18,
   "metadata": {
    "executionInfo": {
     "elapsed": 350,
     "status": "ok",
     "timestamp": 1730981663725,
     "user": {
      "displayName": "Roberto Nai",
      "userId": "01638620693582754310"
     },
     "user_tz": -60
    },
    "id": "K4oa2sG_e5Iu"
   },
   "outputs": [
    {
     "name": "stdout",
     "output_type": "stream",
     "text": [
      "> Formatting the event log\n",
      "Total cases: 113\n",
      "> Saving the event log to XES\n",
      "Saving XES file to: data_log/edu_event_log_PAGE_raw_filtered_DISCO_ter_enr_no_SURVEY_menu_1-2.xes\n"
     ]
    },
    {
     "name": "stderr",
     "output_type": "stream",
     "text": [
      "exporting log, completed traces :: 100%|██████████| 113/113 [00:00<00:00, 165.07it/s]\n"
     ]
    },
    {
     "name": "stdout",
     "output_type": "stream",
     "text": [
      "Total cases (filtered): 113\n",
      "> Saving the event log to XES\n",
      "Saving XES file to: data_log/edu_event_log_PAGE_raw_filtered_DISCO_ter_enr_no_SURVEY_menu_1-2_UEQ - Overall_Tercile_1.xes\n"
     ]
    },
    {
     "name": "stderr",
     "output_type": "stream",
     "text": [
      "exporting log, completed traces :: 100%|██████████| 39/39 [00:00<00:00, 132.71it/s]\n",
      "parsing log, completed traces :: 100%|██████████| 39/39 [00:00<00:00, 154.63it/s]\n"
     ]
    },
    {
     "name": "stdout",
     "output_type": "stream",
     "text": [
      "Cyclomatyc complexity: 41\n",
      "Total cases (filtered): 113\n",
      "> Saving the event log to XES\n",
      "Saving XES file to: data_log/edu_event_log_PAGE_raw_filtered_DISCO_ter_enr_no_SURVEY_menu_1-2_UEQ - Overall_Tercile_3.xes\n"
     ]
    },
    {
     "name": "stderr",
     "output_type": "stream",
     "text": [
      "exporting log, completed traces :: 100%|██████████| 28/28 [00:00<00:00, 287.66it/s]\n",
      "parsing log, completed traces :: 100%|██████████| 28/28 [00:00<00:00, 150.92it/s]\n"
     ]
    },
    {
     "name": "stdout",
     "output_type": "stream",
     "text": [
      "Cyclomatyc complexity: 38\n",
      "> Formatting the event log\n",
      "Total cases: 80\n",
      "> Saving the event log to XES\n",
      "Saving XES file to: data_log/edu_event_log_PAGE_raw_filtered_DISCO_ter_enr_no_SURVEY_menu_1-3.xes\n"
     ]
    },
    {
     "name": "stderr",
     "output_type": "stream",
     "text": [
      "exporting log, completed traces :: 100%|██████████| 80/80 [00:00<00:00, 216.82it/s]\n"
     ]
    },
    {
     "name": "stdout",
     "output_type": "stream",
     "text": [
      "Total cases (filtered): 80\n",
      "> Saving the event log to XES\n",
      "Saving XES file to: data_log/edu_event_log_PAGE_raw_filtered_DISCO_ter_enr_no_SURVEY_menu_1-3_UEQ - Overall_Tercile_1.xes\n"
     ]
    },
    {
     "name": "stderr",
     "output_type": "stream",
     "text": [
      "exporting log, completed traces :: 100%|██████████| 31/31 [00:00<00:00, 260.86it/s]\n",
      "parsing log, completed traces :: 100%|██████████| 31/31 [00:00<00:00, 172.94it/s]\n"
     ]
    },
    {
     "name": "stdout",
     "output_type": "stream",
     "text": [
      "Cyclomatyc complexity: 59\n",
      "Total cases (filtered): 80\n",
      "> Saving the event log to XES\n",
      "Saving XES file to: data_log/edu_event_log_PAGE_raw_filtered_DISCO_ter_enr_no_SURVEY_menu_1-3_UEQ - Overall_Tercile_3.xes\n"
     ]
    },
    {
     "name": "stderr",
     "output_type": "stream",
     "text": [
      "exporting log, completed traces :: 100%|██████████| 21/21 [00:00<00:00, 281.34it/s]\n",
      "parsing log, completed traces :: 100%|██████████| 21/21 [00:00<00:00, 185.54it/s]\n"
     ]
    },
    {
     "name": "stdout",
     "output_type": "stream",
     "text": [
      "Cyclomatyc complexity: 31\n",
      "> Formatting the event log\n",
      "Total cases: 139\n",
      "> Saving the event log to XES\n",
      "Saving XES file to: data_log/edu_event_log_PAGE_raw_filtered_DISCO_ter_enr_no_SURVEY_menu_1-4.xes\n"
     ]
    },
    {
     "name": "stderr",
     "output_type": "stream",
     "text": [
      "exporting log, completed traces :: 100%|██████████| 139/139 [00:00<00:00, 231.80it/s]\n"
     ]
    },
    {
     "name": "stdout",
     "output_type": "stream",
     "text": [
      "Total cases (filtered): 139\n",
      "> Saving the event log to XES\n",
      "Saving XES file to: data_log/edu_event_log_PAGE_raw_filtered_DISCO_ter_enr_no_SURVEY_menu_1-4_UEQ - Overall_Tercile_1.xes\n"
     ]
    },
    {
     "name": "stderr",
     "output_type": "stream",
     "text": [
      "exporting log, completed traces :: 100%|██████████| 47/47 [00:00<00:00, 140.46it/s]\n",
      "parsing log, completed traces :: 100%|██████████| 47/47 [00:00<00:00, 144.49it/s]\n"
     ]
    },
    {
     "name": "stdout",
     "output_type": "stream",
     "text": [
      "Cyclomatyc complexity: 48\n",
      "Total cases (filtered): 139\n",
      "> Saving the event log to XES\n",
      "Saving XES file to: data_log/edu_event_log_PAGE_raw_filtered_DISCO_ter_enr_no_SURVEY_menu_1-4_UEQ - Overall_Tercile_3.xes\n"
     ]
    },
    {
     "name": "stderr",
     "output_type": "stream",
     "text": [
      "exporting log, completed traces :: 100%|██████████| 44/44 [00:00<00:00, 290.43it/s]\n",
      "parsing log, completed traces :: 100%|██████████| 44/44 [00:00<00:00, 142.47it/s]"
     ]
    },
    {
     "name": "stdout",
     "output_type": "stream",
     "text": [
      "Cyclomatyc complexity: 41\n"
     ]
    },
    {
     "name": "stderr",
     "output_type": "stream",
     "text": [
      "\n"
     ]
    }
   ],
   "source": [
    "list_results = []\n",
    "for dic_df in list_df_log:\n",
    "    print(\"> Formatting the event log\")\n",
    "    df_log = dic_df[\"df\"]\n",
    "    menu_val = dic_df[\"menu\"]\n",
    "    cases_all = df_log[id_column].nunique()\n",
    "    print(\"Total cases:\", cases_all)\n",
    "    df_log = pm4py.format_dataframe(df_log, case_id=id_column, activity_key=activity_column, timestamp_key=timestamp_column)\n",
    "    \n",
    "    print(\"> Saving the event log to XES\")\n",
    "    file_xes = f\"{Path(file_name).stem}_menu_1-{menu_val}.xes\"\n",
    "    path_xes = Path(log_dir) / file_xes\n",
    "    print(\"Saving XES file to:\", path_xes)\n",
    "    pm4py.write_xes(df_log, path_xes, case_id_key='case:concept:name')\n",
    "\n",
    "    # Filter by usability columns\n",
    "    for usability_val in usability_val_list:\n",
    "        df_log_filterd = df_log[df_log[usability_col] == usability_val]\n",
    "        cases_tercile = df_log_filterd[id_column].nunique()\n",
    "        print(\"Total cases (filtered):\", cases_all)\n",
    "        # Save it to XES\n",
    "        print(\"> Saving the event log to XES\")\n",
    "        file_xes = f\"{Path(file_name).stem}_menu_1-{menu_val}_{usability_col}_{usability_val}.xes\"\n",
    "        path_xes = Path(log_dir) / file_xes\n",
    "        print(\"Saving XES file to:\", path_xes)\n",
    "        pm4py.write_xes(df_log_filterd, path_xes, case_id_key='case:concept:name')\n",
    "        # Load the XES\n",
    "        xes_log = pm4py.read_xes(path_xes.as_posix())\n",
    "        v = calculate_cyclomatic_complexity(xes_log)\n",
    "        print(\"Cyclomatyc complexity:\", v)\n",
    "        dic_res = {\"file_name\": file_xes, \"menu\":menu_val, \"cases_all\": cases_all, \"cases_tercile\":cases_tercile, \"usability_column\":usability_col, \"usability_value\":usability_val, \"cyclomatic_complexity\": v}\n",
    "        list_results.append(dic_res)"
   ]
  },
  {
   "cell_type": "code",
   "execution_count": 19,
   "metadata": {},
   "outputs": [],
   "source": [
    "df_results = pd.DataFrame(list_results)"
   ]
  },
  {
   "cell_type": "code",
   "execution_count": 20,
   "metadata": {},
   "outputs": [
    {
     "data": {
      "text/html": [
       "<div>\n",
       "<style scoped>\n",
       "    .dataframe tbody tr th:only-of-type {\n",
       "        vertical-align: middle;\n",
       "    }\n",
       "\n",
       "    .dataframe tbody tr th {\n",
       "        vertical-align: top;\n",
       "    }\n",
       "\n",
       "    .dataframe thead th {\n",
       "        text-align: right;\n",
       "    }\n",
       "</style>\n",
       "<table border=\"1\" class=\"dataframe\">\n",
       "  <thead>\n",
       "    <tr style=\"text-align: right;\">\n",
       "      <th></th>\n",
       "      <th>file_name</th>\n",
       "      <th>menu</th>\n",
       "      <th>cases_all</th>\n",
       "      <th>cases_tercile</th>\n",
       "      <th>usability_column</th>\n",
       "      <th>usability_value</th>\n",
       "      <th>cyclomatic_complexity</th>\n",
       "    </tr>\n",
       "  </thead>\n",
       "  <tbody>\n",
       "    <tr>\n",
       "      <th>0</th>\n",
       "      <td>edu_event_log_PAGE_raw_filtered_DISCO_ter_enr_...</td>\n",
       "      <td>2</td>\n",
       "      <td>113</td>\n",
       "      <td>39</td>\n",
       "      <td>UEQ - Overall_Tercile</td>\n",
       "      <td>1</td>\n",
       "      <td>41</td>\n",
       "    </tr>\n",
       "    <tr>\n",
       "      <th>1</th>\n",
       "      <td>edu_event_log_PAGE_raw_filtered_DISCO_ter_enr_...</td>\n",
       "      <td>2</td>\n",
       "      <td>113</td>\n",
       "      <td>28</td>\n",
       "      <td>UEQ - Overall_Tercile</td>\n",
       "      <td>3</td>\n",
       "      <td>38</td>\n",
       "    </tr>\n",
       "    <tr>\n",
       "      <th>2</th>\n",
       "      <td>edu_event_log_PAGE_raw_filtered_DISCO_ter_enr_...</td>\n",
       "      <td>3</td>\n",
       "      <td>80</td>\n",
       "      <td>31</td>\n",
       "      <td>UEQ - Overall_Tercile</td>\n",
       "      <td>1</td>\n",
       "      <td>59</td>\n",
       "    </tr>\n",
       "    <tr>\n",
       "      <th>3</th>\n",
       "      <td>edu_event_log_PAGE_raw_filtered_DISCO_ter_enr_...</td>\n",
       "      <td>3</td>\n",
       "      <td>80</td>\n",
       "      <td>21</td>\n",
       "      <td>UEQ - Overall_Tercile</td>\n",
       "      <td>3</td>\n",
       "      <td>31</td>\n",
       "    </tr>\n",
       "    <tr>\n",
       "      <th>4</th>\n",
       "      <td>edu_event_log_PAGE_raw_filtered_DISCO_ter_enr_...</td>\n",
       "      <td>4</td>\n",
       "      <td>139</td>\n",
       "      <td>47</td>\n",
       "      <td>UEQ - Overall_Tercile</td>\n",
       "      <td>1</td>\n",
       "      <td>48</td>\n",
       "    </tr>\n",
       "    <tr>\n",
       "      <th>5</th>\n",
       "      <td>edu_event_log_PAGE_raw_filtered_DISCO_ter_enr_...</td>\n",
       "      <td>4</td>\n",
       "      <td>139</td>\n",
       "      <td>44</td>\n",
       "      <td>UEQ - Overall_Tercile</td>\n",
       "      <td>3</td>\n",
       "      <td>41</td>\n",
       "    </tr>\n",
       "  </tbody>\n",
       "</table>\n",
       "</div>"
      ],
      "text/plain": [
       "                                           file_name  menu  cases_all  \\\n",
       "0  edu_event_log_PAGE_raw_filtered_DISCO_ter_enr_...     2        113   \n",
       "1  edu_event_log_PAGE_raw_filtered_DISCO_ter_enr_...     2        113   \n",
       "2  edu_event_log_PAGE_raw_filtered_DISCO_ter_enr_...     3         80   \n",
       "3  edu_event_log_PAGE_raw_filtered_DISCO_ter_enr_...     3         80   \n",
       "4  edu_event_log_PAGE_raw_filtered_DISCO_ter_enr_...     4        139   \n",
       "5  edu_event_log_PAGE_raw_filtered_DISCO_ter_enr_...     4        139   \n",
       "\n",
       "   cases_tercile       usability_column  usability_value  \\\n",
       "0             39  UEQ - Overall_Tercile                1   \n",
       "1             28  UEQ - Overall_Tercile                3   \n",
       "2             31  UEQ - Overall_Tercile                1   \n",
       "3             21  UEQ - Overall_Tercile                3   \n",
       "4             47  UEQ - Overall_Tercile                1   \n",
       "5             44  UEQ - Overall_Tercile                3   \n",
       "\n",
       "   cyclomatic_complexity  \n",
       "0                     41  \n",
       "1                     38  \n",
       "2                     59  \n",
       "3                     31  \n",
       "4                     48  \n",
       "5                     41  "
      ]
     },
     "execution_count": 20,
     "metadata": {},
     "output_type": "execute_result"
    }
   ],
   "source": [
    "df_results"
   ]
  },
  {
   "cell_type": "code",
   "execution_count": 21,
   "metadata": {},
   "outputs": [],
   "source": [
    "path_res = Path(stats_dir) / \"cyclomatic_complexity_by_menu_usability.csv\"\n",
    "df_results.to_csv(path_res, sep=\";\", index=False, mode=\"a\")"
   ]
  },
  {
   "cell_type": "markdown",
   "metadata": {},
   "source": [
    "# Coefficient of Variation (CV)"
   ]
  },
  {
   "cell_type": "code",
   "execution_count": 26,
   "metadata": {},
   "outputs": [],
   "source": [
    "# 5. The usability columns that you want to \"melt\" into a single \"usability_column\"\n",
    "usability_cols = [\n",
    "    'SUS_Tercile',\n",
    "    'Apprendimento percepito_Tercile',\n",
    "    'UEQ - Overall_Tercile'\n",
    "]\n",
    "\n",
    "for dic_df in list_df_log:\n",
    "    df_log = dic_df[\"df\"]\n",
    "    menu_val = dic_df[\"menu\"]\n",
    "\n",
    "    # 6. Transform (melt) the DataFrame from wide columns to \"long rows\",\n",
    "    #    so that grouping on (menu, usability_column, usability_value) is possible.\n",
    "    df_melted = df_log.melt(\n",
    "        id_vars=['menu', id_column, 'A_Time_s'],     # keep 'menu', the case identifier, and the time\n",
    "        value_vars=usability_cols,                   # columns to be \"melted\"\n",
    "        var_name='usability_column',                 # new column indicating which usability type\n",
    "        value_name='usability_value'                 # new column for the tercile value\n",
    "    )\n",
    "\n",
    "    # 7. Group by (menu, usability_column, usability_value)\n",
    "    grouped = df_melted.groupby(['menu', 'usability_column', 'usability_value'], dropna=True)\n",
    "\n",
    "    # 8. Calculate mean and standard deviation over A_Time_s, plus the number of unique cases in each group\n",
    "    stats = grouped.agg(\n",
    "        mean_time=('A_Time_s', 'mean'),\n",
    "        std_time=('A_Time_s', 'std'),\n",
    "        cases_tercile=(id_column, 'nunique')  # number of unique case_ids in that group\n",
    "    ).reset_index()\n",
    "\n",
    "    # 9. Compute the Coefficient of Variation (CV = std / mean)\n",
    "    stats['cv_value'] = stats['std_time'] / stats['mean_time']\n",
    "\n",
    "    # 6. Round up numeric columns to 2 decimal places\n",
    "    stats['mean_time'] = round(stats['mean_time'],2)\n",
    "    stats['std_time'] = round(stats['std_time'],2)\n",
    "    stats['cv_value'] = round(stats['cv_value'],2)\n",
    "\n",
    "    # 10. Add the \"file_name\" and \"cases_all\" columns\n",
    "    stats['file_name'] = file_name\n",
    "    stats['cases_all'] = cases_all\n",
    "\n",
    "    # 11. Select and order columns as desired\n",
    "    final_cols = [\n",
    "        'file_name',          # name of the file\n",
    "        'menu',               # menu column\n",
    "        'cases_all',          # total number of unique cases across the dataset\n",
    "        'cases_tercile',      # number of unique cases within each group\n",
    "        'usability_column',   # one of SUS_Tercile, Apprendimento percepito_Tercile, or UEQ - Overall_Tercile\n",
    "        'usability_value',    # the tercile value (e.g., Low/Medium/High or 1/2/3)\n",
    "        'cv_value'            # Coefficient of Variation\n",
    "    ]\n",
    "\n",
    "    stats = stats[final_cols]\n",
    "\n",
    "    # 12. Display or save the results\n",
    "    path_res = Path(stats_dir) / \"cv_complexity_by_menu_usability.csv\"\n",
    "    stats.to_csv(path_res, index=False, sep=';')"
   ]
  }
 ],
 "metadata": {
  "colab": {
   "authorship_tag": "ABX9TyNRTr+4uwSQ7Fvaw79EqAUu",
   "provenance": []
  },
  "kernelspec": {
   "display_name": "Python 3",
   "name": "python3"
  },
  "language_info": {
   "codemirror_mode": {
    "name": "ipython",
    "version": 3
   },
   "file_extension": ".py",
   "mimetype": "text/x-python",
   "name": "python",
   "nbconvert_exporter": "python",
   "pygments_lexer": "ipython3",
   "version": "3.12.2"
  }
 },
 "nbformat": 4,
 "nbformat_minor": 0
}
